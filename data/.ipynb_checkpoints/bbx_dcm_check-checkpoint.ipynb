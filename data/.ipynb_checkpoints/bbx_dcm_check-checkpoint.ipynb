{
 "cells": [
  {
   "cell_type": "code",
   "execution_count": null,
   "metadata": {},
   "outputs": [],
   "source": [
    "import glob, os\n",
    "\n",
    "\n",
    "\n",
    "expected_sub_lst=list(range(1,160)) # Expecting subject IDs 1-56\n",
    "print(expected_sub_lst)\n",
    "\n",
    "\n",
    "ses1_dcms=[x.split(\"/\")[-1].split(\"-\")[1].lstrip(\"0\") for x in \n",
    "           glob.glob(\"/projects/niblab/bids_projects/Experiments/bbx/bids/sourcedata/DICOM/ses-1/sub-*\")]\n",
    "ses2_dcms=[x.split(\"/\")[-1].split(\"-\")[1].lstrip(\"0\") for x in \n",
    "           glob.glob(\"/projects/niblab/bids_projects/Experiments/bbx/bids/sourcedata/DICOM/ses-2/sub-*\")]\n",
    "       \n",
    "import numpy as np\n",
    "s1_mia = np.setdiff1d(expected_sub_lst,ses1_dcms)\n",
    "s2_mia = np.setdiff1d(expected_sub_lst,ses2_dcms)\n",
    "\n",
    "\n",
    "print(\"Subjects missing from RENCI: \\nsession 1: \\t{} \\nsession 2: \\t{} \".format(s1_mia, s2_mia))\n",
    "\n",
    "print(\"SESSION 1: \\t{} \\nSESSION 2: \\t{}\".format(len(s1_mia), len(s2_mia)))"
   ]
  },
  {
   "cell_type": "markdown",
   "metadata": {
    "jupyter": {
     "outputs_hidden": false
    },
    "pycharm": {
     "name": "#%%\n"
    }
   },
   "source": [
    "Subjects missing from RENCI:   \n",
    "session 1:  29, 47, 49, 65, 69, 76, 81, 101, 105, 106, 110, 113, 122, 125, 126, 138, 139, 158   \n",
    " \n",
    " CDs Found: 155, 140, 137, 136, 135, 134, 133, 132, 131, 130, 129, 128, 127, 95, 93, 92,   \n",
    " 91, 90, 89, 88, 87. 86, 85, 84, 83, 82, 80, 79, 78, 77, 75, 71, 70, 32, 31, 30, 28   \n",
    " \n",
    " \n",
    "session 2:  3, 12, 18, 26, 29, 47, 49, 60, 64, 69, 81, 82, 101, 105, 106, 110, 113, 122, 125, 126, 132, 135, 139, 150, 151, 153, 154, 155, 156, 157, 158, 159\n",
    "\n",
    "CDs Found: 138, 137, 136, 134, 133, 131, 129, 128, 127,  123, 120, 117, 93, 92, 91, 90, 89, 88, 87, 86, 85, \n",
    "84, 83, 80, 79, 78, 77, 76, 75, 74, 73, 72, 71, 70, 68, 67, 66, 65, 62, 59, 58, 57, 52, 50, 30, 28, 27, 25,  \n",
    "\n",
    "SESSION 1: \t55 \n",
    "SESSION 2: \t81"
   ]
  },
  {
   "cell_type": "markdown",
   "metadata": {},
   "source": [
    "## BIDS "
   ]
  },
  {
   "cell_type": "code",
   "execution_count": null,
   "metadata": {
    "collapsed": false,
    "jupyter": {
     "outputs_hidden": false
    },
    "pycharm": {
     "name": "#%%\n"
    }
   },
   "outputs": [],
   "source": [
    "ses1_bids=[x.split(\"/\")[-2].split(\"-\")[1].lstrip(\"0\") for x in \n",
    "           glob.glob(\"/projects/niblab/bids_projects/Experiments/bbx/bids/sub-*/ses-1\")]\n",
    "ses2_bids=[x.split(\"/\")[-2].split(\"-\")[1].lstrip(\"0\") for x in \n",
    "           glob.glob(\"/projects/niblab/bids_projects/Experiments/bbx/bids/sub-*/ses-2\")]\n",
    "       \n",
    "import numpy as np\n",
    "s1_mia = np.setdiff1d(ses1_dcms,ses1_bids)\n",
    "s2_mia = np.setdiff1d(ses2_dcms,ses2_bids)\n",
    "\n",
    "\n",
    "print(\"Subjects missing from RENCI: \\nsession 1: \\t{} \\nsession 2: \\t{} \".format(s1_mia, s2_mia))\n",
    "\n",
    "print(\"SESSION 1: \\t{} \\nSESSION 2: \\t{}\".format(len(s1_mia), len(s2_mia)))\n",
    "\n"
   ]
  },
  {
   "cell_type": "code",
   "execution_count": null,
   "metadata": {
    "collapsed": false,
    "jupyter": {
     "outputs_hidden": false
    },
    "pycharm": {
     "name": "#%%\n"
    }
   },
   "outputs": [],
   "source": [
    "session 1: \t['141' '142' '143' '144' '145' '146' '147' '148' '149' '150' '151' '152'\n",
    " '153' '154' '156' '157' '159'] \n",
    "session 2: \t['130' '140' '141' '142' '143' '144' '145' '146' '147' '148' '149' '152'] \n",
    "\n",
    "SESSION 1: \t17 \n",
    "SESSION 2: \t12\n",
    "\n"
   ]
  },
  {
   "cell_type": "code",
   "execution_count": null,
   "metadata": {},
   "outputs": [],
   "source": [
    "ses1_fprep=[x.split(\"/\")[-2].split(\"-\")[1].lstrip(\"0\") for x in \n",
    "           glob.glob(\"/projects/niblab/bids_projects/Experiments/bbx/bids/derivatives/fmriprep/sub-*/ses-1\")]\n",
    "ses2_fprep=[x.split(\"/\")[-2].split(\"-\")[1].lstrip(\"0\") for x in \n",
    "           glob.glob(\"/projects/niblab/bids_projects/Experiments/bbx/bids/derivatives/fmriprepsub-*/ses-2\")]\n",
    "       \n",
    "import numpy as np\n",
    "s1_mia = np.setdiff1d(ses1_bids,ses1_fprep)\n",
    "s2_mia = np.setdiff1d(ses2_bids,ses2_fprep)\n",
    "\n",
    "\n",
    "print(\"Subjects missing from RENCI: \\nsession 1: \\t{} \\nsession 2: \\t{} \".format(s1_mia, s2_mia))\n",
    "\n",
    "print(\"SESSION 1: \\t{} \\nSESSION 2: \\t{}\".format(len(s1_mia), len(s2_mia)))\n",
    "\n"
   ]
  },
  {
   "cell_type": "code",
   "execution_count": null,
   "metadata": {},
   "outputs": [],
   "source": [
    "ses1_fprep=[x.split(\"/\")[-2].split(\"-\")[1].lstrip(\"0\") for x in \n",
    "           glob.glob(\"/projects/niblab/bids_projects/Experiments/bbx/bids/derivatives/fmriprep/sub-*/ses-1\")]\n",
    "ses2_fprep=[x.split(\"/\")[-2].split(\"-\")[1].lstrip(\"0\") for x in \n",
    "           glob.glob(\"/projects/niblab/bids_projects/Experiments/bbx/bids/derivatives/fmriprepsub-*/ses-2\")]\n",
    "       \n",
    "import numpy as np\n",
    "s1_mia = np.setdiff1d(ses1_bids,ses1_fprep)\n",
    "s2_mia = np.setdiff1d(ses2_bids,ses2_fprep)\n",
    "\n",
    "\n",
    "print(\"Subjects missing from RENCI: \\nsession 1: \\t{} \\nsession 2: \\t{} \".format(s1_mia, s2_mia))\n",
    "\n",
    "print(\"SESSION 1: \\t{} \\nSESSION 2: \\t{}\".format(len(s1_mia), len(s2_mia)))\n",
    "\n"
   ]
  }
 ],
 "metadata": {
  "kernelspec": {
   "display_name": "Python 3",
   "language": "python",
   "name": "python3"
  },
  "language_info": {
   "codemirror_mode": {
    "name": "ipython",
    "version": 3
   },
   "file_extension": ".py",
   "mimetype": "text/x-python",
   "name": "python",
   "nbconvert_exporter": "python",
   "pygments_lexer": "ipython3",
   "version": "3.7.3"
  },
  "pycharm": {
   "stem_cell": {
    "cell_type": "raw",
    "metadata": {
     "collapsed": false
    },
    "source": []
   }
  }
 },
 "nbformat": 4,
 "nbformat_minor": 4
}
