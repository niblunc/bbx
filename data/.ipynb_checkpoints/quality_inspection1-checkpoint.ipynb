{
 "cells": [
  {
   "cell_type": "code",
   "execution_count": 1,
   "metadata": {},
   "outputs": [],
   "source": [
    "import glob, os\n",
    "import pandas as pd\n",
    "import pdb\n",
    "from IPython.core import display as ICD\n",
    "pd.options.display.max_rows\n",
    "pd.set_option('display.max_colwidth', -1)\n"
   ]
  },
  {
   "cell_type": "markdown",
   "metadata": {},
   "source": [
    "Collect files with bad volumes from our text input file:"
   ]
  },
  {
   "cell_type": "code",
   "execution_count": 3,
   "metadata": {},
   "outputs": [],
   "source": [
    "# CODE TIP -extend functionally by adding automatic reference to volume check file \n",
    "\n",
    "filename='bad_volumes.txt'\n",
    "vol_dict = {}\n",
    "with open(filename) as f:\n",
    "    content=f.readlines()\n",
    "    for line in content:\n",
    "        if \"training\" in line:\n",
    "            file=line.split(\"\\t\")[0]\n",
    "            vol=line.split(\"\\t\")[1].strip()\n",
    "        else:\n",
    "            file=line.split(\"\\t\\t\")[0]\n",
    "            vol=line.split(\"\\t\\t\")[1].strip()\n",
    "        temp_tuple=(file,vol)\n",
    "        sub_id = file.split(\":\")[1].split(\"_\")[0]\n",
    "        if sub_id not in vol_dict:\n",
    "            vol_dict[sub_id] = [temp_tuple]\n",
    "        else:\n",
    "            vol_dict[sub_id].append(temp_tuple)\n",
    "\n"
   ]
  },
  {
   "cell_type": "code",
   "execution_count": 19,
   "metadata": {},
   "outputs": [
    {
     "data": {
      "text/html": [
       "<div>\n",
       "<style scoped>\n",
       "    .dataframe tbody tr th:only-of-type {\n",
       "        vertical-align: middle;\n",
       "    }\n",
       "\n",
       "    .dataframe tbody tr th {\n",
       "        vertical-align: top;\n",
       "    }\n",
       "\n",
       "    .dataframe thead th {\n",
       "        text-align: right;\n",
       "    }\n",
       "</style>\n",
       "<table border=\"1\" class=\"dataframe\">\n",
       "  <thead>\n",
       "    <tr style=\"text-align: right;\">\n",
       "      <th></th>\n",
       "      <th>w1scan_scannotes</th>\n",
       "    </tr>\n",
       "    <tr>\n",
       "      <th>participantID</th>\n",
       "      <th></th>\n",
       "    </tr>\n",
       "  </thead>\n",
       "  <tbody>\n",
       "    <tr>\n",
       "      <th>BBX_001</th>\n",
       "      <td>NaN</td>\n",
       "    </tr>\n",
       "    <tr>\n",
       "      <th>bbx_002</th>\n",
       "      <td>NaN</td>\n",
       "    </tr>\n",
       "    <tr>\n",
       "      <th>bbx_005</th>\n",
       "      <td>NaN</td>\n",
       "    </tr>\n",
       "    <tr>\n",
       "      <th>bbx_004</th>\n",
       "      <td>NaN</td>\n",
       "    </tr>\n",
       "    <tr>\n",
       "      <th>bbx_006</th>\n",
       "      <td>NaN</td>\n",
       "    </tr>\n",
       "  </tbody>\n",
       "</table>\n",
       "</div>"
      ],
      "text/plain": [
       "              w1scan_scannotes\n",
       "participantID                 \n",
       "BBX_001        NaN            \n",
       "bbx_002        NaN            \n",
       "bbx_005        NaN            \n",
       "bbx_004        NaN            \n",
       "bbx_006        NaN            "
      ]
     },
     "execution_count": 19,
     "metadata": {},
     "output_type": "execute_result"
    }
   ],
   "source": [
    "## setup scan notes dataframe\n",
    "\n",
    "df_orig = pd.read_csv(\"w1_notes.csv\", encoding='latin 1')\n",
    "w1_scan_notes = df_orig[['participantID', 'w1scan_scannotes']]\n",
    "w1_scan_notes=w1_scan_notes.drop(0)\n",
    "w1_scan_notes.set_index('participantID', inplace=True)\n",
    "w1_scan_notes.head()"
   ]
  },
  {
   "cell_type": "markdown",
   "metadata": {},
   "source": [
    "### Below we list out the files with bad volumes and view the scan notes. \n",
    "- View [`CHANGELOG.md`]() for further details on scan if available.\n",
    "\n",
    "*Note we need to add scan notes file input, currently only lists bad volume files*"
   ]
  },
  {
   "cell_type": "code",
   "execution_count": 21,
   "metadata": {},
   "outputs": [
    {
     "name": "stdout",
     "output_type": "stream",
     "text": [
      "Here we look at files found not matching their expected volume.       \n",
      "Expectations: { rl: 212, training: 233, resting: 147 } \n",
      "\n",
      "Subjects with bad files: \t['sub-002', 'sub-044', 'sub-094', 'sub-128', 'sub-146', 'sub-159']\n",
      "\n",
      "________________________________________________________________\n",
      "\n",
      "ID: sub-094\n",
      "\n",
      "> FILES WITH BAD VOLUMES\n",
      "\n",
      "- Training files: \n",
      "\n",
      "File:sub-094_ses-1_task-training_run-1_bold.nii.gz  \t\tVolume:5\n",
      "File:sub-094_ses-1_task-training_run-2_bold.nii.gz  \t\tVolume:5\n",
      "File:sub-094_ses-1_task-training_run-3_bold.nii.gz  \t\tVolume:3\n",
      "File:sub-094_ses-1_task-training_run-4_bold.nii.gz  \t\tVolume:2\n",
      "File:sub-094_ses-2_task-training_run-1_bold.nii.gz  \t\tVolume:4\n",
      "File:sub-094_ses-2_task-training_run-2_bold.nii.gz  \t\tVolume:2\n",
      "File:sub-094_ses-2_task-training_run-3_bold.nii.gz  \t\tVolume:1\n",
      "File:sub-094_ses-2_task-training_run-4_bold.nii.gz  \t\tVolume:2\n",
      "\n",
      "- Prediction Error files: \n",
      "\n",
      "File:sub-094_ses-2_task-rl_run-1_bold.nii.gz  \t\tVolume:1\n",
      "File:sub-094_ses-2_task-rl_run-2_bold.nii.gz  \t\tVolume:1\n",
      "\n",
      "- Resting files: \n",
      "\n",
      "File:sub-094_ses-1_task-resting_bold.nii.gz  \t\tVolume:4\n",
      "\n",
      "> SCAN NOTES\n"
     ]
    },
    {
     "data": {
      "text/plain": [
       "w1scan_scannotes    Consistently moderate twitching motion throughout due to swallowing \n",
       "Name: bbx_094, dtype: object"
      ]
     },
     "metadata": {},
     "output_type": "display_data"
    },
    {
     "name": "stdout",
     "output_type": "stream",
     "text": [
      "\n",
      "\n",
      "\n",
      "\n",
      "________________________________________________________________\n",
      "\n",
      "ID: sub-128\n",
      "\n",
      "> FILES WITH BAD VOLUMES\n",
      "\n",
      "- Training files: \n",
      "\n",
      "File:sub-128_ses-1_task-training_run-1_bold.nii.gz  \t\tVolume:154\n",
      "File:sub-128_ses-1_task-training_run-2_bold.nii.gz  \t\tVolume:131\n",
      "File:sub-128_ses-1_task-training_run-3_bold.nii.gz  \t\tVolume:131\n",
      "File:sub-128_ses-1_task-training_run-4_bold.nii.gz  \t\tVolume:147\n",
      "\n",
      "- Resting files: \n",
      "\n",
      "File:sub-128_ses-1_task-resting_bold.nii.gz  \t\tVolume:103\n",
      "\n",
      "> SCAN NOTES\n"
     ]
    },
    {
     "data": {
      "text/plain": [
       "w1scan_scannotes    Some movement throughout but not too bad \n",
       "Name: bbx_128, dtype: object"
      ]
     },
     "metadata": {},
     "output_type": "display_data"
    },
    {
     "name": "stdout",
     "output_type": "stream",
     "text": [
      "\n",
      "\n",
      "\n",
      "\n",
      "________________________________________________________________\n",
      "\n",
      "ID: sub-159\n",
      "\n",
      "> FILES WITH BAD VOLUMES\n",
      "\n",
      "- Resting files: \n",
      "\n",
      "File:sub-159_ses-1_task-resting_bold.nii.gz  \t\tVolume:68\n",
      "\n",
      "> SCAN NOTES\n"
     ]
    },
    {
     "data": {
      "text/plain": [
       "w1scan_scannotes    Good \n",
       "Name: bbx_159, dtype: object"
      ]
     },
     "metadata": {},
     "output_type": "display_data"
    },
    {
     "name": "stdout",
     "output_type": "stream",
     "text": [
      "\n",
      "\n",
      "\n",
      "\n",
      "________________________________________________________________\n",
      "\n",
      "ID: sub-002\n",
      "\n",
      "> FILES WITH BAD VOLUMES\n",
      "\n",
      "- Prediction Error files: \n",
      "\n",
      "File:sub-002_ses-2_task-rl_run-1_bold.nii.gz  \t\tVolume:187\n",
      "\n",
      "> SCAN NOTES\n"
     ]
    },
    {
     "data": {
      "text/plain": [
       "w1scan_scannotes    NaN\n",
       "Name: bbx_002, dtype: object"
      ]
     },
     "metadata": {},
     "output_type": "display_data"
    },
    {
     "name": "stdout",
     "output_type": "stream",
     "text": [
      "\n",
      "\n",
      "\n",
      "\n",
      "________________________________________________________________\n",
      "\n",
      "ID: sub-044\n",
      "\n",
      "> FILES WITH BAD VOLUMES\n",
      "\n",
      "- Resting files: \n",
      "\n",
      "File:sub-044_ses-2_task-resting_bold.nii.gz  \t\tVolume:122\n",
      "\n",
      "> SCAN NOTES\n"
     ]
    },
    {
     "data": {
      "text/plain": [
       "w1scan_scannotes    Great job staying still; great scan except for taste disconnect issue in run 2\n",
       "Name: bbx_044, dtype: object"
      ]
     },
     "metadata": {},
     "output_type": "display_data"
    },
    {
     "name": "stdout",
     "output_type": "stream",
     "text": [
      "\n",
      "\n",
      "\n",
      "\n",
      "________________________________________________________________\n",
      "\n",
      "ID: sub-146\n",
      "\n",
      "> FILES WITH BAD VOLUMES\n",
      "\n",
      "- Training files: \n",
      "\n",
      "File:sub-146_ses-2_task-training_run-4_bold.nii.gz  \t\tVolume:19\n",
      "\n",
      "> SCAN NOTES\n"
     ]
    },
    {
     "data": {
      "text/plain": [
       "w1scan_scannotes    NaN\n",
       "Name: bbx_146, dtype: object"
      ]
     },
     "metadata": {},
     "output_type": "display_data"
    },
    {
     "name": "stdout",
     "output_type": "stream",
     "text": [
      "\n",
      "\n",
      "\n"
     ]
    }
   ],
   "source": [
    "print(\"Here we look at files found not matching their expected volume. \\\n",
    "      \\nExpectations: { rl: 212, training: 233, resting: 147 } \\n\")\n",
    "  \n",
    "print(\"Subjects with bad files: \\t{}\".format(sorted(vol_dict.keys())))\n",
    "for sub in vol_dict:\n",
    "    # get information from resources to print specific subject information\n",
    "    bbx_id= sub.replace(\"sub-\", \"bbx_\")\n",
    "\n",
    "    train=[x for x in vol_dict[sub] if \"training\" in x[0]]\n",
    "    rl=[x for x in vol_dict[sub] if \"rl\" in x[0]]\n",
    "    rest=[x for x in vol_dict[sub] if \"resting\" in x[0]]\n",
    "    print(\"\\n________________________________________________________________\")\n",
    "    print(\"\\nID: {}\\n\".format(sub))\n",
    "    print(\"> FILES WITH BAD VOLUMES\")\n",
    "    if train:\n",
    "        print(\"\\n- Training files: \\n\")\n",
    "        for file, vol in train:\n",
    "            ses=file.split(\"_\")[1]\n",
    "            print(\"{} \\t\\t{}\".format(file,vol))\n",
    "    if rl:\n",
    "        print(\"\\n- Prediction Error files: \\n\")\n",
    "        for file, vol in rl:\n",
    "            print(\"{} \\t\\t{}\".format(file,vol))\n",
    "    if rest:\n",
    "        print(\"\\n- Resting files: \\n\")\n",
    "        for file, vol in rest:\n",
    "            print(\"{} \\t\\t{}\".format(file,vol))\n",
    "            \n",
    "    print(\"\\n> SCAN NOTES\")\n",
    "    ICD.display(w1_scan_notes.loc[bbx_id])\n",
    "    print(\"\\n\\n\")\n"
   ]
  }
 ],
 "metadata": {
  "kernelspec": {
   "display_name": "Python 3",
   "language": "python",
   "name": "python3"
  },
  "language_info": {
   "codemirror_mode": {
    "name": "ipython",
    "version": 3
   },
   "file_extension": ".py",
   "mimetype": "text/x-python",
   "name": "python",
   "nbconvert_exporter": "python",
   "pygments_lexer": "ipython3",
   "version": "3.7.3"
  }
 },
 "nbformat": 4,
 "nbformat_minor": 4
}
