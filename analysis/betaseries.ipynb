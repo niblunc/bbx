{
 "cells": [
  {
   "cell_type": "markdown",
   "metadata": {},
   "source": [
    "# Betaseries Pull BBx\n"
   ]
  },
  {
   "cell_type": "code",
   "execution_count": 1,
   "metadata": {},
   "outputs": [],
   "source": [
    "import glob\n",
    "import os\n",
    "import pandas as pd\n",
    "from os import listdir\n",
    "from shutil import rmtree\n",
    "from subprocess import check_output\n",
    "import argparse\n",
    "import subprocess\n",
    "import re"
   ]
  },
  {
   "cell_type": "code",
   "execution_count": 2,
   "metadata": {},
   "outputs": [],
   "source": [
    "### Helper Functions \n",
    "\n",
    "\n",
    "# feat1 fsf file creation \n",
    "def make_file(sub_id, ses_id, trial_id, output_dir, task,data_dict, design_file, newkey, run):\n",
    "    \n",
    "    with open(design_file,'r') as infile:\n",
    "        tempfsf=infile.read()\n",
    "        #\n",
    "        if not os.path.exists(os.path.join(output_dir, \"design_files\")):\n",
    "            os.makedirs(os.path.join(output_dir, \"design_files\"))\n",
    "        #print(output_dir)\n",
    "        \n",
    "        \n",
    "        task_name=trial_id.replace(sub_id+'_',\"\")\n",
    "        design_fileout = os.path.join(output_dir, \"design_files/%s_%s_%s_beta1.fsf\"%(sub_id, ses_id, task_name))\n",
    "        out_param = data_dict[sub_id][newkey][\"TRIALS\"][\"TRIAL%s\"%trial_id][\"OUTPUT\"]\n",
    "        func_param = data_dict[sub_id][newkey][\"FUNCRUN\"]\n",
    "        confound_param = data_dict[sub_id][newkey][\"CONFOUND\"]\n",
    "        trial_param = data_dict[sub_id][newkey][\"TRIALS\"][\"TRIAL%s\"%trial_id][\"TRIAL\"]\n",
    "        nuis_param = data_dict[sub_id][newkey][\"TRIALS\"][\"TRIAL%s\"%trial_id][\"NUIS\"]\n",
    "        #print(design_fileout)\n",
    "        tempfsf = tempfsf.replace(\"OUTPUT\", out_param)\n",
    "        tempfsf = tempfsf.replace(\"FUNCRUN\", func_param) \n",
    "        tempfsf = tempfsf.replace(\"CONFOUND\", confound_param)\n",
    "        tempfsf = tempfsf.replace(\"TRIAL\", trial_param)\n",
    "        tempfsf = tempfsf.replace(\"NUIS\", nuis_param)\n",
    "\n",
    "        for i in range(6):\n",
    "            moco = data_dict[sub_id][newkey][\"MOCO%i\"%i]\n",
    "            tempfsf = tempfsf.replace(\"MOCO%i\"%i, moco)\n",
    "        #print(tempfsf)\n",
    "        try:\n",
    "            with open(design_fileout,'w') as outfile:\n",
    "                outfile.write(tempfsf)\n",
    "            outfile.close()\n",
    "        except:\n",
    "            print(\"BAD SUBJECT \", sub_id)\n",
    "        infile.close()\n",
    "        \n",
    "        \n",
    "def create_fsf(input_dir, deriv_dir, ses_id, design_file, ev_path):\n",
    "    \n",
    "    ses_id=ses_id\n",
    "    preproc_folder = deriv_dir\n",
    "    \n",
    "    data_dict={}\n",
    "    \n",
    "    \n",
    "    # start loop -- looping through subjects\n",
    "    subject_list = glob.glob(os.path.join(preproc_folder, 'sub-*/%s'%ses_id))\n",
    "    for sub_path in subject_list:\n",
    "        # set variables from file path\n",
    "        sub_id=sub_path.split(\"/\")[-2]\n",
    "        # add subject id to dictionary\n",
    "        if sub_id not in data_dict:\n",
    "            data_dict[sub_id] = {}\n",
    "            \n",
    "            \n",
    "            \n",
    "        # get functional task files \n",
    "        # this section may be unique to an individual study,\n",
    "        # make sure the extraction applies correctly. \n",
    "        \n",
    "        # get list of nifti functional files of current subject\n",
    "        # we use the `_preproc_bold_brain.nii.gz task files, these are preprocessed niftis\n",
    "        functional_tasks = glob.glob(os.path.join(sub_path, 'func/*preproc_bold_brain.nii.gz'))\n",
    "                \n",
    "        \n",
    "        for functional in functional_tasks: \n",
    "            # set specific variables from filename\n",
    "            task=functional.split(\"/\")[-1].split(\"_\")[2].split(\"-\")[1]\n",
    "            if 'resting' in task:\n",
    "                run=\"\"\n",
    "                pass\n",
    "            else:\n",
    "                run=functional.split(\"/\")[-1].split(\"_\")[3]\n",
    "\n",
    "                \n",
    "                #print(task,run)\n",
    "\n",
    "                analysis_folder=os.path.join(deriv_dir, '%s/%s'%(sub_id,ses_id), \"analysis\")\n",
    "                #print(analysis_folder)\n",
    "                output_dir = os.path.join(analysis_folder, 'beta/task-%s_%s'%(task,run))\n",
    "                #print(output_dir)\n",
    "                if not os.path.exists(output_dir):\n",
    "                    os.makedirs(output_dir)\n",
    "\n",
    "                # set confound file\n",
    "                #sub-001_ses-1_task-training_run-1_space-MNI152NLin2009cAsym_desc-preproc_confound.txt\n",
    "\n",
    "                if 'resting' in task:\n",
    "                    confound_file = os.path.join(sub_path, \"func/motion_assessment/%s_%s_task-%s_space-MNI152NLin2009cAsym_desc-preproc_confound.txt\"%(sub_id,ses_id, task))\n",
    "                else:\n",
    "                    confound_file = os.path.join(sub_path, \"func/motion_assessment/%s_%s_task-%s_%s_space-MNI152NLin2009cAsym_desc-preproc_confound.txt\"%(sub_id,ses_id, task, run))\n",
    "\n",
    "                #print(confound_file)\n",
    "                #print(run)\n",
    "                if 'run' in run:\n",
    "                    newkey=\"%s_%s\"%(task, run)\n",
    "                else:\n",
    "                    newkey=\"%s\"%task\n",
    "                #print(newkey)\n",
    "                data_dict[sub_id][newkey] = {\n",
    "                    \"TRIALS\" : { },\n",
    "                    \"CONFOUND\" : confound_file,\n",
    "                    \"FUNCRUN\" : functional\n",
    "                  }           \n",
    "\n",
    "                # set motion parameters\n",
    "                # sub-001_ses-1_task-training_run-1_moco0.txt | sub-001_ses-1_task-resting_moco5.txt\n",
    "                for i in range(6):\n",
    "                    if 'run' in run:\n",
    "                        motcor=os.path.join(sub_path, 'func','motion_assessment', 'motion_parameters','%s_%s_task-%s_%s_moco%s.txt'%(sub_id,ses_id, task,run,i))\n",
    "                    else:\n",
    "                        motcor=os.path.join(sub_path, 'func','motion_assessment', 'motion_parameters','%s_%s_task-%s_moco%s.txt'%(sub_id,ses_id, task,i))\n",
    "                    #print(motcor)\n",
    "                    data_dict[sub_id][newkey]['MOCO%i'%i] = motcor\n",
    "\n",
    "                #print(data_dict)\n",
    "\n",
    "                # setup evs(onsets)\n",
    "                trial_evs = sorted(glob.glob(os.path.join(ev_path, '%s_*%s*.txt'%(sub_id, run))))\n",
    "                #print(trial_evs[0])\n",
    "\n",
    "                if not trial_evs:\n",
    "                    pass\n",
    "                else:\n",
    "                    for trial_file in trial_evs:\n",
    "                        _id = sub_id.split(\"-\")[1]\n",
    "                        _id = _id[1:]\n",
    "                        trial_id = trial_file.split(\"/\")[-1].split(\".\")[0]\n",
    "                        #print(trial_id)\n",
    "                        nuis_file = os.path.join(ev_path, '%s.txt'%trial_id.replace('trial', 'nuis'))\n",
    "                        #print(nuis_file)\n",
    "                        \n",
    "                        trial_ext=trial_id.replace(sub_id+'_',\"\")\n",
    "                        fileout = os.path.join(output_dir, \"%s_%s_%s\"%(sub_id, ses_id,trial_ext))\n",
    "                        #print(fileout)\n",
    "                        \n",
    "                        # fill dictionary\n",
    "                        data_dict[sub_id][newkey][\"TRIALS\"][\"TRIAL%s\"%trial_id] = {\"TRIAL\" : trial_file, \"NUIS\": nuis_file, \"OUTPUT\" : fileout}\n",
    "                        \n",
    "                        # write out file\n",
    "                        make_file(sub_id, ses_id, trial_id,output_dir, task, data_dict,design_file, newkey, run)\n",
    "\n",
    "                \n",
    "    return(data_dict) \n",
    "        "
   ]
  },
  {
   "cell_type": "code",
   "execution_count": 3,
   "metadata": {},
   "outputs": [],
   "source": [
    "def set_paths():\n",
    "    #global input_dir\n",
    "    #global deriv_dir\n",
    "   \n",
    "    return input_dir, deriv_dir,design_file\n",
    "\n"
   ]
  },
  {
   "cell_type": "code",
   "execution_count": 4,
   "metadata": {},
   "outputs": [
    {
     "name": "stdout",
     "output_type": "stream",
     "text": [
      "[INFO] making fsf design files...\n",
      "[INFO] process complete.\n"
     ]
    }
   ],
   "source": [
    "def main():\n",
    "    ses_id='ses-1'\n",
    "    input_dir = '/projects/niblab/experiments/bbx/data'    \n",
    "    deriv_dir= os.path.join(input_dir, 'bids/derivatives/preprocessed')\n",
    "    design_file='/projects/niblab/design_file_templates/beta_design.fsf'\n",
    "    ev_path='/projects/niblab/experiments/bbx/data/onsets/trials'\n",
    "    print('[INFO] making fsf design files...')\n",
    "    #data_dict=create_fsf(input_dir, deriv_dir,ses_id,design_file,ev_path)\n",
    "    print('[INFO] process complete.')\n",
    "\n",
    "    \n",
    "main()\n"
   ]
  },
  {
   "cell_type": "markdown",
   "metadata": {},
   "source": [
    "Lets view a few of files created"
   ]
  },
  {
   "cell_type": "code",
   "execution_count": 5,
   "metadata": {},
   "outputs": [
    {
     "data": {
      "text/plain": [
       "['sub-001_ses-1_task-H2O-run-4_nuis1_beta1.fsf',\n",
       " 'sub-001_ses-1_task-H2O-run-4_nuis2_beta1.fsf',\n",
       " 'sub-001_ses-1_task-H2O-run-4_nuis3_beta1.fsf',\n",
       " 'sub-001_ses-1_task-H2O-run-4_nuis4_beta1.fsf',\n",
       " 'sub-001_ses-1_task-H2O-run-4_nuis5_beta1.fsf']"
      ]
     },
     "execution_count": 5,
     "metadata": {},
     "output_type": "execute_result"
    }
   ],
   "source": [
    "# look at created files\n",
    "output_path='/projects/niblab/experiments/bbx/data/bids/derivatives/preprocessed/sub-001/ses-1/analysis/beta/task-training_run-4/design_files'\n",
    "listdir(output_path)[:5]\n",
    "        "
   ]
  },
  {
   "cell_type": "code",
   "execution_count": 6,
   "metadata": {},
   "outputs": [
    {
     "name": "stdout",
     "output_type": "stream",
     "text": [
      "[INFO] 64784.000000 fsf files available.\n"
     ]
    }
   ],
   "source": [
    "beta1_files_path='/projects/niblab/experiments/bbx/data/bids/derivatives/preprocessed/sub-*/ses-1/analysis/beta/task-training_run-*/design_files/*.fsf'\n",
    "print('[INFO] %f fsf files available.'%len(glob.glob(beta1_files_path)))\n"
   ]
  },
  {
   "cell_type": "code",
   "execution_count": 7,
   "metadata": {},
   "outputs": [
    {
     "data": {
      "text/plain": [
       "['/projects/niblab/experiments/bbx/data/bids/derivatives/preprocessed/sub-001/ses-1/analysis/beta/task-training_run-4/design_files/sub-001_ses-1_task-H2O-run-4_nuis1_beta1.fsf',\n",
       " '/projects/niblab/experiments/bbx/data/bids/derivatives/preprocessed/sub-001/ses-1/analysis/beta/task-training_run-4/design_files/sub-001_ses-1_task-H2O-run-4_nuis2_beta1.fsf',\n",
       " '/projects/niblab/experiments/bbx/data/bids/derivatives/preprocessed/sub-001/ses-1/analysis/beta/task-training_run-4/design_files/sub-001_ses-1_task-H2O-run-4_nuis3_beta1.fsf',\n",
       " '/projects/niblab/experiments/bbx/data/bids/derivatives/preprocessed/sub-001/ses-1/analysis/beta/task-training_run-4/design_files/sub-001_ses-1_task-H2O-run-4_nuis4_beta1.fsf',\n",
       " '/projects/niblab/experiments/bbx/data/bids/derivatives/preprocessed/sub-001/ses-1/analysis/beta/task-training_run-4/design_files/sub-001_ses-1_task-H2O-run-4_nuis5_beta1.fsf']"
      ]
     },
     "execution_count": 7,
     "metadata": {},
     "output_type": "execute_result"
    }
   ],
   "source": [
    "# view a few of the files\n",
    "glob.glob(beta1_files_path)[:5]"
   ]
  },
  {
   "cell_type": "code",
   "execution_count": null,
   "metadata": {},
   "outputs": [],
   "source": []
  },
  {
   "cell_type": "markdown",
   "metadata": {},
   "source": [
    "## Submit slurm jobs"
   ]
  },
  {
   "cell_type": "markdown",
   "metadata": {},
   "source": [
    "Tasks Available"
   ]
  },
  {
   "cell_type": "code",
   "execution_count": 8,
   "metadata": {},
   "outputs": [
    {
     "data": {
      "text/plain": [
       "{'H2O', 'H2Ocue', 'SSB', 'SSBcue', 'USB', 'USBcue', 'rinse'}"
      ]
     },
     "execution_count": 8,
     "metadata": {},
     "output_type": "execute_result"
    }
   ],
   "source": [
    "tasks=[x.split(\"/\")[-1].split(\"_\")[2].split(\"-\")[1] for x in glob.glob(output_path+\"/*.fsf\")]\n",
    "set(tasks)\n"
   ]
  },
  {
   "cell_type": "code",
   "execution_count": 20,
   "metadata": {},
   "outputs": [],
   "source": [
    "def by_file_slurm(subject):\n",
    "    fsf_path='/projects/niblab/experiments/bbx/data/bids/derivatives/preprocessed/{}/ses-1/analysis/beta/task-training_run-*/design_files/*SSB*.fsf'.format(subject)\n",
    "    fsfs=glob.glob(fsf_path)\n",
    "    for fsf in fsfs:\n",
    "        slurm_cmd = \"sbatch /projects/niblab/experiments/bbx/data/code/beta_by_file.job {}\".format(fsf)\n",
    "        #print('[INFO] submitted: \\n', slurm_cmd)\n",
    "        #os.system(slurm_cmd)\n",
    "    \n"
   ]
  },
  {
   "cell_type": "code",
   "execution_count": 21,
   "metadata": {
    "scrolled": true
   },
   "outputs": [],
   "source": [
    "# get subject ids\n",
    "subject_ids=[x.split('/')[-2] for x in glob.glob('/projects/niblab/experiments/bbx/data/bids/derivatives/preprocessed/sub-*/ses-1')]\n",
    "\n"
   ]
  },
  {
   "cell_type": "code",
   "execution_count": 25,
   "metadata": {},
   "outputs": [
    {
     "data": {
      "text/plain": [
       "['sub-001', 'sub-002', 'sub-003', 'sub-004', 'sub-005']"
      ]
     },
     "execution_count": 25,
     "metadata": {},
     "output_type": "execute_result"
    }
   ],
   "source": [
    "subject_ids[:5] # view first 5 subject ids"
   ]
  },
  {
   "cell_type": "code",
   "execution_count": 26,
   "metadata": {},
   "outputs": [
    {
     "name": "stdout",
     "output_type": "stream",
     "text": [
      "[INFO] setting up batch jobs.\n",
      "[INFO] submitted batch jobs.\n"
     ]
    }
   ],
   "source": [
    "# run all jobs\n",
    "print('[INFO] setting up batch jobs.')\n",
    "\n",
    "#for subject in subject_ids[:2]:    \n",
    "    #by_file_slurm(subject)\n",
    "    \n",
    "print('[INFO] submitted batch jobs.')\n",
    "\n",
    "    "
   ]
  },
  {
   "cell_type": "code",
   "execution_count": 28,
   "metadata": {},
   "outputs": [
    {
     "name": "stdout",
     "output_type": "stream",
     "text": [
      "             JOBID PARTITION     NAME     USER ST       TIME  NODES NODELIST(REASON)\r\n",
      "           3025389     batch betaseri   nbytes PD       0:00      1 (Nodes required for job are DOWN, DRAINED or reserved for jobs in higher priority partitions)\r\n",
      "           3025390     batch betaseri   nbytes PD       0:00      1 (Nodes required for job are DOWN, DRAINED or reserved for jobs in higher priority partitions)\r\n",
      "           3025919     batch betaseri   nbytes PD       0:00      1 (Nodes required for job are DOWN, DRAINED or reserved for jobs in higher priority partitions)\r\n",
      "           3025920     batch betaseri   nbytes PD       0:00      1 (Nodes required for job are DOWN, DRAINED or reserved for jobs in higher priority partitions)\r\n",
      "           3025921     batch betaseri   nbytes PD       0:00      1 (Nodes required for job are DOWN, DRAINED or reserved for jobs in higher priority partitions)\r\n",
      "           3025922     batch betaseri   nbytes PD       0:00      1 (Nodes required for job are DOWN, DRAINED or reserved for jobs in higher priority partitions)\r\n",
      "           3025923     batch betaseri   nbytes PD       0:00      1 (Nodes required for job are DOWN, DRAINED or reserved for jobs in higher priority partitions)\r\n",
      "           3025924     batch betaseri   nbytes PD       0:00      1 (Nodes required for job are DOWN, DRAINED or reserved for jobs in higher priority partitions)\r\n",
      "           3025925     batch betaseri   nbytes PD       0:00      1 (Nodes required for job are DOWN, DRAINED or reserved for jobs in higher priority partitions)\r\n",
      "           3025926     batch betaseri   nbytes PD       0:00      1 (Nodes required for job are DOWN, DRAINED or reserved for jobs in higher priority partitions)\r\n",
      "           3025927     batch betaseri   nbytes PD       0:00      1 (Nodes required for job are DOWN, DRAINED or reserved for jobs in higher priority partitions)\r\n",
      "           3025928     batch betaseri   nbytes PD       0:00      1 (Nodes required for job are DOWN, DRAINED or reserved for jobs in higher priority partitions)\r\n",
      "           3025929     batch betaseri   nbytes PD       0:00      1 (Nodes required for job are DOWN, DRAINED or reserved for jobs in higher priority partitions)\r\n",
      "           3025930     batch betaseri   nbytes PD       0:00      1 (Nodes required for job are DOWN, DRAINED or reserved for jobs in higher priority partitions)\r\n",
      "           3025931     batch betaseri   nbytes PD       0:00      1 (Nodes required for job are DOWN, DRAINED or reserved for jobs in higher priority partitions)\r\n",
      "           3025932     batch betaseri   nbytes PD       0:00      1 (Nodes required for job are DOWN, DRAINED or reserved for jobs in higher priority partitions)\r\n",
      "           3025933     batch betaseri   nbytes PD       0:00      1 (Nodes required for job are DOWN, DRAINED or reserved for jobs in higher priority partitions)\r\n",
      "           3025934     batch betaseri   nbytes PD       0:00      1 (Nodes required for job are DOWN, DRAINED or reserved for jobs in higher priority partitions)\r\n",
      "           3025935     batch betaseri   nbytes PD       0:00      1 (Nodes required for job are DOWN, DRAINED or reserved for jobs in higher priority partitions)\r\n",
      "           3025936     batch betaseri   nbytes PD       0:00      1 (Nodes required for job are DOWN, DRAINED or reserved for jobs in higher priority partitions)\r\n",
      "           3025937     batch betaseri   nbytes PD       0:00      1 (Nodes required for job are DOWN, DRAINED or reserved for jobs in higher priority partitions)\r\n",
      "           3025938     batch betaseri   nbytes PD       0:00      1 (Nodes required for job are DOWN, DRAINED or reserved for jobs in higher priority partitions)\r\n",
      "           3025939     batch betaseri   nbytes PD       0:00      1 (Nodes required for job are DOWN, DRAINED or reserved for jobs in higher priority partitions)\r\n",
      "           3025940     batch betaseri   nbytes PD       0:00      1 (Nodes required for job are DOWN, DRAINED or reserved for jobs in higher priority partitions)\r\n",
      "           3025941     batch betaseri   nbytes PD       0:00      1 (Nodes required for job are DOWN, DRAINED or reserved for jobs in higher priority partitions)\r\n",
      "           3025942     batch betaseri   nbytes PD       0:00      1 (Nodes required for job are DOWN, DRAINED or reserved for jobs in higher priority partitions)\r\n",
      "           3025943     batch betaseri   nbytes PD       0:00      1 (Nodes required for job are DOWN, DRAINED or reserved for jobs in higher priority partitions)\r\n",
      "           3025944     batch betaseri   nbytes PD       0:00      1 (Nodes required for job are DOWN, DRAINED or reserved for jobs in higher priority partitions)\r\n",
      "           3025945     batch betaseri   nbytes PD       0:00      1 (Nodes required for job are DOWN, DRAINED or reserved for jobs in higher priority partitions)\r\n",
      "           3025946     batch betaseri   nbytes PD       0:00      1 (Nodes required for job are DOWN, DRAINED or reserved for jobs in higher priority partitions)\r\n",
      "           3025947     batch betaseri   nbytes PD       0:00      1 (Nodes required for job are DOWN, DRAINED or reserved for jobs in higher priority partitions)\r\n",
      "           3025948     batch betaseri   nbytes PD       0:00      1 (Nodes required for job are DOWN, DRAINED or reserved for jobs in higher priority partitions)\r\n",
      "           3025949     batch betaseri   nbytes PD       0:00      1 (Nodes required for job are DOWN, DRAINED or reserved for jobs in higher priority partitions)\r\n",
      "           3025950     batch betaseri   nbytes PD       0:00      1 (Nodes required for job are DOWN, DRAINED or reserved for jobs in higher priority partitions)\r\n",
      "           3025951     batch betaseri   nbytes PD       0:00      1 (Nodes required for job are DOWN, DRAINED or reserved for jobs in higher priority partitions)\r\n",
      "           3025952     batch betaseri   nbytes PD       0:00      1 (Nodes required for job are DOWN, DRAINED or reserved for jobs in higher priority partitions)\r\n",
      "           3025953     batch betaseri   nbytes PD       0:00      1 (Nodes required for job are DOWN, DRAINED or reserved for jobs in higher priority partitions)\r\n",
      "           3025954     batch betaseri   nbytes PD       0:00      1 (Nodes required for job are DOWN, DRAINED or reserved for jobs in higher priority partitions)\r\n",
      "           3025955     batch betaseri   nbytes PD       0:00      1 (Nodes required for job are DOWN, DRAINED or reserved for jobs in higher priority partitions)\r\n",
      "           3025956     batch betaseri   nbytes PD       0:00      1 (Nodes required for job are DOWN, DRAINED or reserved for jobs in higher priority partitions)\r\n",
      "           3025957     batch betaseri   nbytes PD       0:00      1 (Nodes required for job are DOWN, DRAINED or reserved for jobs in higher priority partitions)\r\n",
      "           3025958     batch betaseri   nbytes PD       0:00      1 (Nodes required for job are DOWN, DRAINED or reserved for jobs in higher priority partitions)\r\n",
      "           3025959     batch betaseri   nbytes PD       0:00      1 (Nodes required for job are DOWN, DRAINED or reserved for jobs in higher priority partitions)\r\n",
      "           3025960     batch betaseri   nbytes PD       0:00      1 (Nodes required for job are DOWN, DRAINED or reserved for jobs in higher priority partitions)\r\n",
      "           3025961     batch betaseri   nbytes PD       0:00      1 (Nodes required for job are DOWN, DRAINED or reserved for jobs in higher priority partitions)\r\n",
      "           3025962     batch betaseri   nbytes PD       0:00      1 (Nodes required for job are DOWN, DRAINED or reserved for jobs in higher priority partitions)\r\n",
      "           3025963     batch betaseri   nbytes PD       0:00      1 (Nodes required for job are DOWN, DRAINED or reserved for jobs in higher priority partitions)\r\n",
      "           3025964     batch betaseri   nbytes PD       0:00      1 (Nodes required for job are DOWN, DRAINED or reserved for jobs in higher priority partitions)\r\n",
      "           3025965     batch betaseri   nbytes PD       0:00      1 (Nodes required for job are DOWN, DRAINED or reserved for jobs in higher priority partitions)\r\n",
      "           3025966     batch betaseri   nbytes PD       0:00      1 (Nodes required for job are DOWN, DRAINED or reserved for jobs in higher priority partitions)\r\n",
      "           3025967     batch betaseri   nbytes PD       0:00      1 (Nodes required for job are DOWN, DRAINED or reserved for jobs in higher priority partitions)\r\n",
      "           3025968     batch betaseri   nbytes PD       0:00      1 (Nodes required for job are DOWN, DRAINED or reserved for jobs in higher priority partitions)\r\n",
      "           3025969     batch betaseri   nbytes PD       0:00      1 (Nodes required for job are DOWN, DRAINED or reserved for jobs in higher priority partitions)\r\n",
      "           3025970     batch betaseri   nbytes PD       0:00      1 (Nodes required for job are DOWN, DRAINED or reserved for jobs in higher priority partitions)\r\n",
      "           3025971     batch betaseri   nbytes PD       0:00      1 (Nodes required for job are DOWN, DRAINED or reserved for jobs in higher priority partitions)\r\n",
      "           3025972     batch betaseri   nbytes PD       0:00      1 (Nodes required for job are DOWN, DRAINED or reserved for jobs in higher priority partitions)\r\n",
      "           3025973     batch betaseri   nbytes PD       0:00      1 (Nodes required for job are DOWN, DRAINED or reserved for jobs in higher priority partitions)\r\n",
      "           3025974     batch betaseri   nbytes PD       0:00      1 (Nodes required for job are DOWN, DRAINED or reserved for jobs in higher priority partitions)\r\n",
      "           3025975     batch betaseri   nbytes PD       0:00      1 (Nodes required for job are DOWN, DRAINED or reserved for jobs in higher priority partitions)\r\n",
      "           3025976     batch betaseri   nbytes PD       0:00      1 (Nodes required for job are DOWN, DRAINED or reserved for jobs in higher priority partitions)\r\n",
      "           3025977     batch betaseri   nbytes PD       0:00      1 (Nodes required for job are DOWN, DRAINED or reserved for jobs in higher priority partitions)\r\n",
      "           3025978     batch betaseri   nbytes PD       0:00      1 (Nodes required for job are DOWN, DRAINED or reserved for jobs in higher priority partitions)\r\n",
      "           3025979     batch betaseri   nbytes PD       0:00      1 (Nodes required for job are DOWN, DRAINED or reserved for jobs in higher priority partitions)\r\n",
      "           3025980     batch betaseri   nbytes PD       0:00      1 (Nodes required for job are DOWN, DRAINED or reserved for jobs in higher priority partitions)\r\n",
      "           3025981     batch betaseri   nbytes PD       0:00      1 (Nodes required for job are DOWN, DRAINED or reserved for jobs in higher priority partitions)\r\n",
      "           3025982     batch betaseri   nbytes PD       0:00      1 (Nodes required for job are DOWN, DRAINED or reserved for jobs in higher priority partitions)\r\n",
      "           3025983     batch betaseri   nbytes PD       0:00      1 (Nodes required for job are DOWN, DRAINED or reserved for jobs in higher priority partitions)\r\n",
      "           3025984     batch betaseri   nbytes PD       0:00      1 (Nodes required for job are DOWN, DRAINED or reserved for jobs in higher priority partitions)\r\n",
      "           3025985     batch betaseri   nbytes PD       0:00      1 (Nodes required for job are DOWN, DRAINED or reserved for jobs in higher priority partitions)\r\n",
      "           3025986     batch betaseri   nbytes PD       0:00      1 (Nodes required for job are DOWN, DRAINED or reserved for jobs in higher priority partitions)\r\n",
      "           3025987     batch betaseri   nbytes PD       0:00      1 (Nodes required for job are DOWN, DRAINED or reserved for jobs in higher priority partitions)\r\n",
      "           3025988     batch betaseri   nbytes PD       0:00      1 (Nodes required for job are DOWN, DRAINED or reserved for jobs in higher priority partitions)\r\n",
      "           3025989     batch betaseri   nbytes PD       0:00      1 (Nodes required for job are DOWN, DRAINED or reserved for jobs in higher priority partitions)\r\n",
      "           3025990     batch betaseri   nbytes PD       0:00      1 (Nodes required for job are DOWN, DRAINED or reserved for jobs in higher priority partitions)\r\n",
      "           3025991     batch betaseri   nbytes PD       0:00      1 (Nodes required for job are DOWN, DRAINED or reserved for jobs in higher priority partitions)\r\n",
      "           3025992     batch betaseri   nbytes PD       0:00      1 (Nodes required for job are DOWN, DRAINED or reserved for jobs in higher priority partitions)\r\n",
      "           3025993     batch betaseri   nbytes PD       0:00      1 (Nodes required for job are DOWN, DRAINED or reserved for jobs in higher priority partitions)\r\n",
      "           3025994     batch betaseri   nbytes PD       0:00      1 (Nodes required for job are DOWN, DRAINED or reserved for jobs in higher priority partitions)\r\n",
      "           3025995     batch betaseri   nbytes PD       0:00      1 (Nodes required for job are DOWN, DRAINED or reserved for jobs in higher priority partitions)\r\n",
      "           3025996     batch betaseri   nbytes PD       0:00      1 (Nodes required for job are DOWN, DRAINED or reserved for jobs in higher priority partitions)\r\n",
      "           3025997     batch betaseri   nbytes PD       0:00      1 (Nodes required for job are DOWN, DRAINED or reserved for jobs in higher priority partitions)\r\n",
      "           3025998     batch betaseri   nbytes PD       0:00      1 (Nodes required for job are DOWN, DRAINED or reserved for jobs in higher priority partitions)\r\n",
      "           3025999     batch betaseri   nbytes PD       0:00      1 (Nodes required for job are DOWN, DRAINED or reserved for jobs in higher priority partitions)\r\n",
      "           3026000     batch betaseri   nbytes PD       0:00      1 (Nodes required for job are DOWN, DRAINED or reserved for jobs in higher priority partitions)\r\n",
      "           3026001     batch betaseri   nbytes PD       0:00      1 (Nodes required for job are DOWN, DRAINED or reserved for jobs in higher priority partitions)\r\n",
      "           3026002     batch betaseri   nbytes PD       0:00      1 (Nodes required for job are DOWN, DRAINED or reserved for jobs in higher priority partitions)\r\n",
      "           3026003     batch betaseri   nbytes PD       0:00      1 (Nodes required for job are DOWN, DRAINED or reserved for jobs in higher priority partitions)\r\n",
      "           3026004     batch betaseri   nbytes PD       0:00      1 (Nodes required for job are DOWN, DRAINED or reserved for jobs in higher priority partitions)\r\n",
      "           3026005     batch betaseri   nbytes PD       0:00      1 (Nodes required for job are DOWN, DRAINED or reserved for jobs in higher priority partitions)\r\n",
      "           3026006     batch betaseri   nbytes PD       0:00      1 (Nodes required for job are DOWN, DRAINED or reserved for jobs in higher priority partitions)\r\n",
      "           3026007     batch betaseri   nbytes PD       0:00      1 (Nodes required for job are DOWN, DRAINED or reserved for jobs in higher priority partitions)\r\n",
      "           3026008     batch betaseri   nbytes PD       0:00      1 (Nodes required for job are DOWN, DRAINED or reserved for jobs in higher priority partitions)\r\n",
      "           3026009     batch betaseri   nbytes PD       0:00      1 (Nodes required for job are DOWN, DRAINED or reserved for jobs in higher priority partitions)\r\n",
      "           3026010     batch betaseri   nbytes PD       0:00      1 (Nodes required for job are DOWN, DRAINED or reserved for jobs in higher priority partitions)\r\n",
      "           3026011     batch betaseri   nbytes PD       0:00      1 (Nodes required for job are DOWN, DRAINED or reserved for jobs in higher priority partitions)\r\n",
      "           3026012     batch betaseri   nbytes PD       0:00      1 (Nodes required for job are DOWN, DRAINED or reserved for jobs in higher priority partitions)\r\n",
      "           3026013     batch betaseri   nbytes PD       0:00      1 (Nodes required for job are DOWN, DRAINED or reserved for jobs in higher priority partitions)\r\n",
      "           3026014     batch betaseri   nbytes PD       0:00      1 (Nodes required for job are DOWN, DRAINED or reserved for jobs in higher priority partitions)\r\n",
      "           3026015     batch betaseri   nbytes PD       0:00      1 (Nodes required for job are DOWN, DRAINED or reserved for jobs in higher priority partitions)\r\n",
      "           3026016     batch betaseri   nbytes PD       0:00      1 (Nodes required for job are DOWN, DRAINED or reserved for jobs in higher priority partitions)\r\n",
      "           3026017     batch betaseri   nbytes PD       0:00      1 (Nodes required for job are DOWN, DRAINED or reserved for jobs in higher priority partitions)\r\n",
      "           3026018     batch betaseri   nbytes PD       0:00      1 (Nodes required for job are DOWN, DRAINED or reserved for jobs in higher priority partitions)\r\n",
      "           3026019     batch betaseri   nbytes PD       0:00      1 (Nodes required for job are DOWN, DRAINED or reserved for jobs in higher priority partitions)\r\n",
      "           3026020     batch betaseri   nbytes PD       0:00      1 (Nodes required for job are DOWN, DRAINED or reserved for jobs in higher priority partitions)\r\n",
      "           3026021     batch betaseri   nbytes PD       0:00      1 (Nodes required for job are DOWN, DRAINED or reserved for jobs in higher priority partitions)\r\n",
      "           3026022     batch betaseri   nbytes PD       0:00      1 (Nodes required for job are DOWN, DRAINED or reserved for jobs in higher priority partitions)\r\n",
      "           3026023     batch betaseri   nbytes PD       0:00      1 (Nodes required for job are DOWN, DRAINED or reserved for jobs in higher priority partitions)\r\n",
      "           3026024     batch betaseri   nbytes PD       0:00      1 (Nodes required for job are DOWN, DRAINED or reserved for jobs in higher priority partitions)\r\n",
      "           3026025     batch betaseri   nbytes PD       0:00      1 (Nodes required for job are DOWN, DRAINED or reserved for jobs in higher priority partitions)\r\n",
      "           3026026     batch betaseri   nbytes PD       0:00      1 (Nodes required for job are DOWN, DRAINED or reserved for jobs in higher priority partitions)\r\n",
      "           3026027     batch betaseri   nbytes PD       0:00      1 (Nodes required for job are DOWN, DRAINED or reserved for jobs in higher priority partitions)\r\n",
      "           3026028     batch betaseri   nbytes PD       0:00      1 (Nodes required for job are DOWN, DRAINED or reserved for jobs in higher priority partitions)\r\n",
      "           3026029     batch betaseri   nbytes PD       0:00      1 (Nodes required for job are DOWN, DRAINED or reserved for jobs in higher priority partitions)\r\n",
      "           3026030     batch betaseri   nbytes PD       0:00      1 (Nodes required for job are DOWN, DRAINED or reserved for jobs in higher priority partitions)\r\n",
      "           3026031     batch betaseri   nbytes PD       0:00      1 (Nodes required for job are DOWN, DRAINED or reserved for jobs in higher priority partitions)\r\n",
      "           3026032     batch betaseri   nbytes PD       0:00      1 (Nodes required for job are DOWN, DRAINED or reserved for jobs in higher priority partitions)\r\n",
      "           3026033     batch betaseri   nbytes PD       0:00      1 (Nodes required for job are DOWN, DRAINED or reserved for jobs in higher priority partitions)\r\n",
      "           3026034     batch betaseri   nbytes PD       0:00      1 (Nodes required for job are DOWN, DRAINED or reserved for jobs in higher priority partitions)\r\n",
      "           3026035     batch betaseri   nbytes PD       0:00      1 (Nodes required for job are DOWN, DRAINED or reserved for jobs in higher priority partitions)\r\n",
      "           3026036     batch betaseri   nbytes PD       0:00      1 (Nodes required for job are DOWN, DRAINED or reserved for jobs in higher priority partitions)\r\n",
      "           3026037     batch betaseri   nbytes PD       0:00      1 (Nodes required for job are DOWN, DRAINED or reserved for jobs in higher priority partitions)\r\n",
      "           3026038     batch betaseri   nbytes PD       0:00      1 (Nodes required for job are DOWN, DRAINED or reserved for jobs in higher priority partitions)\r\n",
      "           3026039     batch betaseri   nbytes PD       0:00      1 (Nodes required for job are DOWN, DRAINED or reserved for jobs in higher priority partitions)\r\n",
      "           3026040     batch betaseri   nbytes PD       0:00      1 (Nodes required for job are DOWN, DRAINED or reserved for jobs in higher priority partitions)\r\n",
      "           3026041     batch betaseri   nbytes PD       0:00      1 (Nodes required for job are DOWN, DRAINED or reserved for jobs in higher priority partitions)\r\n",
      "           3026042     batch betaseri   nbytes PD       0:00      1 (Nodes required for job are DOWN, DRAINED or reserved for jobs in higher priority partitions)\r\n",
      "           3026043     batch betaseri   nbytes PD       0:00      1 (Nodes required for job are DOWN, DRAINED or reserved for jobs in higher priority partitions)\r\n",
      "           3026044     batch betaseri   nbytes PD       0:00      1 (Nodes required for job are DOWN, DRAINED or reserved for jobs in higher priority partitions)\r\n",
      "           3026045     batch betaseri   nbytes PD       0:00      1 (Nodes required for job are DOWN, DRAINED or reserved for jobs in higher priority partitions)\r\n",
      "           3026046     batch betaseri   nbytes PD       0:00      1 (Nodes required for job are DOWN, DRAINED or reserved for jobs in higher priority partitions)\r\n",
      "           3026047     batch betaseri   nbytes PD       0:00      1 (Nodes required for job are DOWN, DRAINED or reserved for jobs in higher priority partitions)\r\n",
      "           3026048     batch betaseri   nbytes PD       0:00      1 (Nodes required for job are DOWN, DRAINED or reserved for jobs in higher priority partitions)\r\n",
      "           3026049     batch betaseri   nbytes PD       0:00      1 (Nodes required for job are DOWN, DRAINED or reserved for jobs in higher priority partitions)\r\n",
      "           3026050     batch betaseri   nbytes PD       0:00      1 (Nodes required for job are DOWN, DRAINED or reserved for jobs in higher priority partitions)\r\n",
      "           3026051     batch betaseri   nbytes PD       0:00      1 (Nodes required for job are DOWN, DRAINED or reserved for jobs in higher priority partitions)\r\n",
      "           3026052     batch betaseri   nbytes PD       0:00      1 (Nodes required for job are DOWN, DRAINED or reserved for jobs in higher priority partitions)\r\n",
      "           3026053     batch betaseri   nbytes PD       0:00      1 (Nodes required for job are DOWN, DRAINED or reserved for jobs in higher priority partitions)\r\n",
      "           3026054     batch betaseri   nbytes PD       0:00      1 (Nodes required for job are DOWN, DRAINED or reserved for jobs in higher priority partitions)\r\n",
      "           3026055     batch betaseri   nbytes PD       0:00      1 (Nodes required for job are DOWN, DRAINED or reserved for jobs in higher priority partitions)\r\n",
      "           3026056     batch betaseri   nbytes PD       0:00      1 (Nodes required for job are DOWN, DRAINED or reserved for jobs in higher priority partitions)\r\n",
      "           3026057     batch betaseri   nbytes PD       0:00      1 (Nodes required for job are DOWN, DRAINED or reserved for jobs in higher priority partitions)\r\n",
      "           3026058     batch betaseri   nbytes PD       0:00      1 (Nodes required for job are DOWN, DRAINED or reserved for jobs in higher priority partitions)\r\n",
      "           3026059     batch betaseri   nbytes PD       0:00      1 (Nodes required for job are DOWN, DRAINED or reserved for jobs in higher priority partitions)\r\n",
      "           3026060     batch betaseri   nbytes PD       0:00      1 (Nodes required for job are DOWN, DRAINED or reserved for jobs in higher priority partitions)\r\n",
      "           3026061     batch betaseri   nbytes PD       0:00      1 (Nodes required for job are DOWN, DRAINED or reserved for jobs in higher priority partitions)\r\n",
      "           3026062     batch betaseri   nbytes PD       0:00      1 (Nodes required for job are DOWN, DRAINED or reserved for jobs in higher priority partitions)\r\n",
      "           3026063     batch betaseri   nbytes PD       0:00      1 (Nodes required for job are DOWN, DRAINED or reserved for jobs in higher priority partitions)\r\n",
      "           3026064     batch betaseri   nbytes PD       0:00      1 (Nodes required for job are DOWN, DRAINED or reserved for jobs in higher priority partitions)\r\n",
      "           3026065     batch betaseri   nbytes PD       0:00      1 (Nodes required for job are DOWN, DRAINED or reserved for jobs in higher priority partitions)\r\n",
      "           3026066     batch betaseri   nbytes PD       0:00      1 (Nodes required for job are DOWN, DRAINED or reserved for jobs in higher priority partitions)\r\n",
      "           3026067     batch betaseri   nbytes PD       0:00      1 (Nodes required for job are DOWN, DRAINED or reserved for jobs in higher priority partitions)\r\n",
      "           3026068     batch betaseri   nbytes PD       0:00      1 (Nodes required for job are DOWN, DRAINED or reserved for jobs in higher priority partitions)\r\n",
      "           3026069     batch betaseri   nbytes PD       0:00      1 (Nodes required for job are DOWN, DRAINED or reserved for jobs in higher priority partitions)\r\n",
      "           3026070     batch betaseri   nbytes PD       0:00      1 (Nodes required for job are DOWN, DRAINED or reserved for jobs in higher priority partitions)\r\n",
      "           3026071     batch betaseri   nbytes PD       0:00      1 (Nodes required for job are DOWN, DRAINED or reserved for jobs in higher priority partitions)\r\n",
      "           3026072     batch betaseri   nbytes PD       0:00      1 (Nodes required for job are DOWN, DRAINED or reserved for jobs in higher priority partitions)\r\n",
      "           3026073     batch betaseri   nbytes PD       0:00      1 (Nodes required for job are DOWN, DRAINED or reserved for jobs in higher priority partitions)\r\n",
      "           3026074     batch betaseri   nbytes PD       0:00      1 (Nodes required for job are DOWN, DRAINED or reserved for jobs in higher priority partitions)\r\n",
      "           3026075     batch betaseri   nbytes PD       0:00      1 (Nodes required for job are DOWN, DRAINED or reserved for jobs in higher priority partitions)\r\n",
      "           3026076     batch betaseri   nbytes PD       0:00      1 (Nodes required for job are DOWN, DRAINED or reserved for jobs in higher priority partitions)\r\n",
      "           3026077     batch betaseri   nbytes PD       0:00      1 (Nodes required for job are DOWN, DRAINED or reserved for jobs in higher priority partitions)\r\n",
      "           3026078     batch betaseri   nbytes PD       0:00      1 (Nodes required for job are DOWN, DRAINED or reserved for jobs in higher priority partitions)\r\n",
      "           3026079     batch betaseri   nbytes PD       0:00      1 (Nodes required for job are DOWN, DRAINED or reserved for jobs in higher priority partitions)\r\n",
      "           3026080     batch betaseri   nbytes PD       0:00      1 (Nodes required for job are DOWN, DRAINED or reserved for jobs in higher priority partitions)\r\n",
      "           3026081     batch betaseri   nbytes PD       0:00      1 (Nodes required for job are DOWN, DRAINED or reserved for jobs in higher priority partitions)\r\n",
      "           3026082     batch betaseri   nbytes PD       0:00      1 (Nodes required for job are DOWN, DRAINED or reserved for jobs in higher priority partitions)\r\n",
      "           3026083     batch betaseri   nbytes PD       0:00      1 (Nodes required for job are DOWN, DRAINED or reserved for jobs in higher priority partitions)\r\n",
      "           3026084     batch betaseri   nbytes PD       0:00      1 (Nodes required for job are DOWN, DRAINED or reserved for jobs in higher priority partitions)\r\n",
      "           3026085     batch betaseri   nbytes PD       0:00      1 (Nodes required for job are DOWN, DRAINED or reserved for jobs in higher priority partitions)\r\n",
      "           3026086     batch betaseri   nbytes PD       0:00      1 (Nodes required for job are DOWN, DRAINED or reserved for jobs in higher priority partitions)\r\n",
      "           3026087     batch betaseri   nbytes PD       0:00      1 (Nodes required for job are DOWN, DRAINED or reserved for jobs in higher priority partitions)\r\n",
      "           3026088     batch betaseri   nbytes PD       0:00      1 (Nodes required for job are DOWN, DRAINED or reserved for jobs in higher priority partitions)\r\n",
      "           3026089     batch betaseri   nbytes PD       0:00      1 (Nodes required for job are DOWN, DRAINED or reserved for jobs in higher priority partitions)\r\n",
      "           3026090     batch betaseri   nbytes PD       0:00      1 (Nodes required for job are DOWN, DRAINED or reserved for jobs in higher priority partitions)\r\n",
      "           3026091     batch betaseri   nbytes PD       0:00      1 (Nodes required for job are DOWN, DRAINED or reserved for jobs in higher priority partitions)\r\n",
      "           3026092     batch betaseri   nbytes PD       0:00      1 (Nodes required for job are DOWN, DRAINED or reserved for jobs in higher priority partitions)\r\n",
      "           3026093     batch betaseri   nbytes PD       0:00      1 (Nodes required for job are DOWN, DRAINED or reserved for jobs in higher priority partitions)\r\n",
      "           3026094     batch betaseri   nbytes PD       0:00      1 (Nodes required for job are DOWN, DRAINED or reserved for jobs in higher priority partitions)\r\n",
      "           3026095     batch betaseri   nbytes PD       0:00      1 (Nodes required for job are DOWN, DRAINED or reserved for jobs in higher priority partitions)\r\n",
      "           3026096     batch betaseri   nbytes PD       0:00      1 (Nodes required for job are DOWN, DRAINED or reserved for jobs in higher priority partitions)\r\n",
      "           3026097     batch betaseri   nbytes PD       0:00      1 (Nodes required for job are DOWN, DRAINED or reserved for jobs in higher priority partitions)\r\n",
      "           3026098     batch betaseri   nbytes PD       0:00      1 (Nodes required for job are DOWN, DRAINED or reserved for jobs in higher priority partitions)\r\n",
      "           3026099     batch betaseri   nbytes PD       0:00      1 (Nodes required for job are DOWN, DRAINED or reserved for jobs in higher priority partitions)\r\n",
      "           3026100     batch betaseri   nbytes PD       0:00      1 (Nodes required for job are DOWN, DRAINED or reserved for jobs in higher priority partitions)\r\n",
      "           3026101     batch betaseri   nbytes PD       0:00      1 (Nodes required for job are DOWN, DRAINED or reserved for jobs in higher priority partitions)\r\n",
      "           3026102     batch betaseri   nbytes PD       0:00      1 (Nodes required for job are DOWN, DRAINED or reserved for jobs in higher priority partitions)\r\n",
      "           3026103     batch betaseri   nbytes PD       0:00      1 (Nodes required for job are DOWN, DRAINED or reserved for jobs in higher priority partitions)\r\n",
      "           3026104     batch betaseri   nbytes PD       0:00      1 (Nodes required for job are DOWN, DRAINED or reserved for jobs in higher priority partitions)\r\n",
      "           3026105     batch betaseri   nbytes PD       0:00      1 (Nodes required for job are DOWN, DRAINED or reserved for jobs in higher priority partitions)\r\n",
      "           3026106     batch betaseri   nbytes PD       0:00      1 (Nodes required for job are DOWN, DRAINED or reserved for jobs in higher priority partitions)\r\n",
      "           3026107     batch betaseri   nbytes PD       0:00      1 (Nodes required for job are DOWN, DRAINED or reserved for jobs in higher priority partitions)\r\n",
      "           3026108     batch betaseri   nbytes PD       0:00      1 (Nodes required for job are DOWN, DRAINED or reserved for jobs in higher priority partitions)\r\n",
      "           3026109     batch betaseri   nbytes PD       0:00      1 (Nodes required for job are DOWN, DRAINED or reserved for jobs in higher priority partitions)\r\n",
      "           3026110     batch betaseri   nbytes PD       0:00      1 (Nodes required for job are DOWN, DRAINED or reserved for jobs in higher priority partitions)\r\n",
      "           3026111     batch betaseri   nbytes PD       0:00      1 (Nodes required for job are DOWN, DRAINED or reserved for jobs in higher priority partitions)\r\n",
      "           3026112     batch betaseri   nbytes PD       0:00      1 (Nodes required for job are DOWN, DRAINED or reserved for jobs in higher priority partitions)\r\n",
      "           3026113     batch betaseri   nbytes PD       0:00      1 (Nodes required for job are DOWN, DRAINED or reserved for jobs in higher priority partitions)\r\n",
      "           3026114     batch betaseri   nbytes PD       0:00      1 (Nodes required for job are DOWN, DRAINED or reserved for jobs in higher priority partitions)\r\n",
      "           3026115     batch betaseri   nbytes PD       0:00      1 (Nodes required for job are DOWN, DRAINED or reserved for jobs in higher priority partitions)\r\n",
      "           3026116     batch betaseri   nbytes PD       0:00      1 (Nodes required for job are DOWN, DRAINED or reserved for jobs in higher priority partitions)\r\n",
      "           3026117     batch betaseri   nbytes PD       0:00      1 (Nodes required for job are DOWN, DRAINED or reserved for jobs in higher priority partitions)\r\n",
      "           3026118     batch betaseri   nbytes PD       0:00      1 (Nodes required for job are DOWN, DRAINED or reserved for jobs in higher priority partitions)\r\n",
      "           3026119     batch betaseri   nbytes PD       0:00      1 (Nodes required for job are DOWN, DRAINED or reserved for jobs in higher priority partitions)\r\n",
      "           3026120     batch betaseri   nbytes PD       0:00      1 (Nodes required for job are DOWN, DRAINED or reserved for jobs in higher priority partitions)\r\n",
      "           3026121     batch betaseri   nbytes PD       0:00      1 (Nodes required for job are DOWN, DRAINED or reserved for jobs in higher priority partitions)\r\n",
      "           3026122     batch betaseri   nbytes PD       0:00      1 (Nodes required for job are DOWN, DRAINED or reserved for jobs in higher priority partitions)\r\n",
      "           3026123     batch betaseri   nbytes PD       0:00      1 (Nodes required for job are DOWN, DRAINED or reserved for jobs in higher priority partitions)\r\n",
      "           3026124     batch betaseri   nbytes PD       0:00      1 (Nodes required for job are DOWN, DRAINED or reserved for jobs in higher priority partitions)\r\n",
      "           3026125     batch betaseri   nbytes PD       0:00      1 (Nodes required for job are DOWN, DRAINED or reserved for jobs in higher priority partitions)\r\n",
      "           3026126     batch betaseri   nbytes PD       0:00      1 (Nodes required for job are DOWN, DRAINED or reserved for jobs in higher priority partitions)\r\n",
      "           3026127     batch betaseri   nbytes PD       0:00      1 (Nodes required for job are DOWN, DRAINED or reserved for jobs in higher priority partitions)\r\n",
      "           3026128     batch betaseri   nbytes PD       0:00      1 (Nodes required for job are DOWN, DRAINED or reserved for jobs in higher priority partitions)\r\n",
      "           3026129     batch betaseri   nbytes PD       0:00      1 (Nodes required for job are DOWN, DRAINED or reserved for jobs in higher priority partitions)\r\n",
      "           3026130     batch betaseri   nbytes PD       0:00      1 (Nodes required for job are DOWN, DRAINED or reserved for jobs in higher priority partitions)\r\n",
      "           3026131     batch betaseri   nbytes PD       0:00      1 (Nodes required for job are DOWN, DRAINED or reserved for jobs in higher priority partitions)\r\n",
      "           3026132     batch betaseri   nbytes PD       0:00      1 (Nodes required for job are DOWN, DRAINED or reserved for jobs in higher priority partitions)\r\n",
      "           3026133     batch betaseri   nbytes PD       0:00      1 (Nodes required for job are DOWN, DRAINED or reserved for jobs in higher priority partitions)\r\n",
      "           3026134     batch betaseri   nbytes PD       0:00      1 (Nodes required for job are DOWN, DRAINED or reserved for jobs in higher priority partitions)\r\n",
      "           3026135     batch betaseri   nbytes PD       0:00      1 (Nodes required for job are DOWN, DRAINED or reserved for jobs in higher priority partitions)\r\n",
      "           3026136     batch betaseri   nbytes PD       0:00      1 (Nodes required for job are DOWN, DRAINED or reserved for jobs in higher priority partitions)\r\n",
      "           3026137     batch betaseri   nbytes PD       0:00      1 (Nodes required for job are DOWN, DRAINED or reserved for jobs in higher priority partitions)\r\n",
      "           3026138     batch betaseri   nbytes PD       0:00      1 (Nodes required for job are DOWN, DRAINED or reserved for jobs in higher priority partitions)\r\n",
      "           3026139     batch betaseri   nbytes PD       0:00      1 (Nodes required for job are DOWN, DRAINED or reserved for jobs in higher priority partitions)\r\n",
      "           3026140     batch betaseri   nbytes PD       0:00      1 (Nodes required for job are DOWN, DRAINED or reserved for jobs in higher priority partitions)\r\n",
      "           3026141     batch betaseri   nbytes PD       0:00      1 (Nodes required for job are DOWN, DRAINED or reserved for jobs in higher priority partitions)\r\n",
      "           3026142     batch betaseri   nbytes PD       0:00      1 (Nodes required for job are DOWN, DRAINED or reserved for jobs in higher priority partitions)\r\n",
      "           3026143     batch betaseri   nbytes PD       0:00      1 (Nodes required for job are DOWN, DRAINED or reserved for jobs in higher priority partitions)\r\n",
      "           3026144     batch betaseri   nbytes PD       0:00      1 (Nodes required for job are DOWN, DRAINED or reserved for jobs in higher priority partitions)\r\n",
      "           3026145     batch betaseri   nbytes PD       0:00      1 (Nodes required for job are DOWN, DRAINED or reserved for jobs in higher priority partitions)\r\n",
      "           3026146     batch betaseri   nbytes PD       0:00      1 (Nodes required for job are DOWN, DRAINED or reserved for jobs in higher priority partitions)\r\n",
      "           3026147     batch betaseri   nbytes PD       0:00      1 (Nodes required for job are DOWN, DRAINED or reserved for jobs in higher priority partitions)\r\n",
      "           3026148     batch betaseri   nbytes PD       0:00      1 (Nodes required for job are DOWN, DRAINED or reserved for jobs in higher priority partitions)\r\n",
      "           3026149     batch betaseri   nbytes PD       0:00      1 (Nodes required for job are DOWN, DRAINED or reserved for jobs in higher priority partitions)\r\n",
      "           3026150     batch betaseri   nbytes PD       0:00      1 (Nodes required for job are DOWN, DRAINED or reserved for jobs in higher priority partitions)\r\n",
      "           3026151     batch betaseri   nbytes PD       0:00      1 (Nodes required for job are DOWN, DRAINED or reserved for jobs in higher priority partitions)\r\n",
      "           3026152     batch betaseri   nbytes PD       0:00      1 (Nodes required for job are DOWN, DRAINED or reserved for jobs in higher priority partitions)\r\n",
      "           3026153     batch betaseri   nbytes PD       0:00      1 (Nodes required for job are DOWN, DRAINED or reserved for jobs in higher priority partitions)\r\n",
      "           3026154     batch betaseri   nbytes PD       0:00      1 (Nodes required for job are DOWN, DRAINED or reserved for jobs in higher priority partitions)\r\n",
      "           3026155     batch betaseri   nbytes PD       0:00      1 (Nodes required for job are DOWN, DRAINED or reserved for jobs in higher priority partitions)\r\n",
      "           3026156     batch betaseri   nbytes PD       0:00      1 (Nodes required for job are DOWN, DRAINED or reserved for jobs in higher priority partitions)\r\n",
      "           3026157     batch betaseri   nbytes PD       0:00      1 (Nodes required for job are DOWN, DRAINED or reserved for jobs in higher priority partitions)\r\n",
      "           3026158     batch betaseri   nbytes PD       0:00      1 (Nodes required for job are DOWN, DRAINED or reserved for jobs in higher priority partitions)\r\n",
      "           3026159     batch betaseri   nbytes PD       0:00      1 (Nodes required for job are DOWN, DRAINED or reserved for jobs in higher priority partitions)\r\n",
      "           3026160     batch betaseri   nbytes PD       0:00      1 (Nodes required for job are DOWN, DRAINED or reserved for jobs in higher priority partitions)\r\n",
      "           3026161     batch betaseri   nbytes PD       0:00      1 (Nodes required for job are DOWN, DRAINED or reserved for jobs in higher priority partitions)\r\n",
      "           3026162     batch betaseri   nbytes PD       0:00      1 (Nodes required for job are DOWN, DRAINED or reserved for jobs in higher priority partitions)\r\n",
      "           3026163     batch betaseri   nbytes PD       0:00      1 (Nodes required for job are DOWN, DRAINED or reserved for jobs in higher priority partitions)\r\n",
      "           3026164     batch betaseri   nbytes PD       0:00      1 (Nodes required for job are DOWN, DRAINED or reserved for jobs in higher priority partitions)\r\n",
      "           3026165     batch betaseri   nbytes PD       0:00      1 (Nodes required for job are DOWN, DRAINED or reserved for jobs in higher priority partitions)\r\n",
      "           3026166     batch betaseri   nbytes PD       0:00      1 (Nodes required for job are DOWN, DRAINED or reserved for jobs in higher priority partitions)\r\n",
      "           3026167     batch betaseri   nbytes PD       0:00      1 (Nodes required for job are DOWN, DRAINED or reserved for jobs in higher priority partitions)\r\n",
      "           3026168     batch betaseri   nbytes PD       0:00      1 (Nodes required for job are DOWN, DRAINED or reserved for jobs in higher priority partitions)\r\n",
      "           3026169     batch betaseri   nbytes PD       0:00      1 (Nodes required for job are DOWN, DRAINED or reserved for jobs in higher priority partitions)\r\n",
      "           3026170     batch betaseri   nbytes PD       0:00      1 (Nodes required for job are DOWN, DRAINED or reserved for jobs in higher priority partitions)\r\n"
     ]
    }
   ],
   "source": [
    "!squeue -u nbytes"
   ]
  },
  {
   "cell_type": "code",
   "execution_count": null,
   "metadata": {},
   "outputs": [],
   "source": []
  },
  {
   "cell_type": "markdown",
   "metadata": {},
   "source": [
    "Look at the input directory:"
   ]
  },
  {
   "cell_type": "code",
   "execution_count": 44,
   "metadata": {},
   "outputs": [
    {
     "name": "stdout",
     "output_type": "stream",
     "text": [
      "analysis  anat\tfunc\n",
      "beta\n"
     ]
    }
   ],
   "source": [
    "\n",
    "!ls '/projects/niblab/experiments/bbx/data/bids/derivatives/preprocessed/sub-001/ses-1/analysis'"
   ]
  },
  {
   "cell_type": "code",
   "execution_count": 47,
   "metadata": {},
   "outputs": [
    {
     "name": "stdout",
     "output_type": "stream",
     "text": [
      "bad\t     WashU_300rois_MNI152_3mm_origOrder.nii\r\n",
      "MNI_3mm_sep  WashU_300rois_order.txt\r\n"
     ]
    }
   ],
   "source": [
    "!ls /projects/niblab/parcellations/bigbrain300"
   ]
  },
  {
   "cell_type": "markdown",
   "metadata": {},
   "source": [
    "## Setup Feat files"
   ]
  },
  {
   "cell_type": "markdown",
   "metadata": {},
   "source": [
    "Confound files:"
   ]
  },
  {
   "cell_type": "code",
   "execution_count": 13,
   "metadata": {},
   "outputs": [],
   "source": [
    "#!ls '/projects/niblab/experiments/bbx/data/bids/derivatives/preprocessed/sub-001/ses-1/func/motion_assessment'\n",
    "\n"
   ]
  },
  {
   "cell_type": "markdown",
   "metadata": {},
   "source": [
    "## Run Slurm jobs"
   ]
  },
  {
   "cell_type": "markdown",
   "metadata": {},
   "source": [
    "## Concatenate PEs"
   ]
  },
  {
   "cell_type": "code",
   "execution_count": null,
   "metadata": {},
   "outputs": [],
   "source": [
    "subject_path='/projects/niblab/experiments/bbx/data/bids/derivatives/preprocessed/sub-*'\n",
    "subject_folders=sorted(glob.glob(subject_path))\n",
    "\n",
    "data_dict={}\n",
    "bad_subs=[]\n"
   ]
  },
  {
   "cell_type": "code",
   "execution_count": null,
   "metadata": {},
   "outputs": [],
   "source": []
  }
 ],
 "metadata": {
  "kernelspec": {
   "display_name": "Python 3",
   "language": "python",
   "name": "python3"
  },
  "language_info": {
   "codemirror_mode": {
    "name": "ipython",
    "version": 3
   },
   "file_extension": ".py",
   "mimetype": "text/x-python",
   "name": "python",
   "nbconvert_exporter": "python",
   "pygments_lexer": "ipython3",
   "version": "3.7.4"
  }
 },
 "nbformat": 4,
 "nbformat_minor": 2
}
