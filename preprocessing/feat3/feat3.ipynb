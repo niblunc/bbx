{
 "cells": [
  {
   "cell_type": "markdown",
   "metadata": {},
   "source": [
    "# Feat 3"
   ]
  },
  {
   "cell_type": "code",
   "execution_count": 39,
   "metadata": {},
   "outputs": [],
   "source": [
    "import glob, os, re"
   ]
  },
  {
   "cell_type": "code",
   "execution_count": 53,
   "metadata": {},
   "outputs": [
    {
     "name": "stdout",
     "output_type": "stream",
     "text": [
      ">>>-----> Writing output file:  /projects/niblab/bids_projects/Experiments/bbx/bids/derivatives/analysis/feat3/ses-1/cope1.fsf\n",
      ">>>-----> Writing output file:  /projects/niblab/bids_projects/Experiments/bbx/bids/derivatives/analysis/feat3/ses-1/cope2.fsf\n",
      ">>>-----> Writing output file:  /projects/niblab/bids_projects/Experiments/bbx/bids/derivatives/analysis/feat3/ses-1/cope3.fsf\n",
      ">>>-----> Writing output file:  /projects/niblab/bids_projects/Experiments/bbx/bids/derivatives/analysis/feat3/ses-1/cope4.fsf\n",
      ">>>-----> Writing output file:  /projects/niblab/bids_projects/Experiments/bbx/bids/derivatives/analysis/feat3/ses-1/cope5.fsf\n",
      ">>>-----> Writing output file:  /projects/niblab/bids_projects/Experiments/bbx/bids/derivatives/analysis/feat3/ses-1/cope6.fsf\n",
      ">>>-----> Writing output file:  /projects/niblab/bids_projects/Experiments/bbx/bids/derivatives/analysis/feat3/ses-1/cope7.fsf\n",
      ">>>-----> Complete. \n"
     ]
    }
   ],
   "source": [
    "\n",
    "def make_dict(cope_dict,x):\n",
    "    cope_dict[x] = {}\n",
    "\n",
    "\n",
    "def make_fsfs(num_of_copes, num_of_input, template_file, deriv_dir, cope_dict):\n",
    "\n",
    "    # loop through copes and make design file for each\n",
    "    for cope_num in range(1, num_of_copes+1):\n",
    "        make_dict(cope_dict, cope_num)\n",
    "        #OUTPUTDIR = os.path.join(deriv_dir, 'group_ana/cope%s_ses-1'%cope_num)\n",
    "        OUTPUTDIR = os.path.join(deriv_dir, 'analysis/feat3/ses-1/cope%s'%cope_num)\n",
    "        \n",
    "        #print(\">>>---> REPLACING 'OUTPUT' > %s\"%OUTPUTDIR)\n",
    "        sess = 'ses-1'\n",
    "        #print(\"RUNNING ON SESSION \", sess )\n",
    "        COPES = glob.glob(os.path.join(deriv_dir, \"sub-*\", sess,'func/Analysis/feat2/sub-*.gfeat/cope%s.feat'%cope_num))\n",
    "        COPES = sorted(COPES)\n",
    "        \n",
    "        # fill dictionary\n",
    "        for x,cope in enumerate(COPES):\n",
    "            count=int(x)+1\n",
    "            #print(count)\n",
    "            if count > 9:\n",
    "                INPUTX = \"INPUT_%i\"%(count)\n",
    "            else:\n",
    "                INPUTX = \"INPUT%i\"%(count)\n",
    "            cope_dict[cope_num][INPUTX] = cope\n",
    "            #print(\"%s : \\t%s\"%(INPUTX,cope))\n",
    "        #print(cope_dict)\n",
    "        \n",
    "        # open and fill template file\n",
    "        with open(template_file, 'r') as infile:\n",
    "            tempfsf=infile.read()\n",
    "            tempfsf = tempfsf.replace(\"OUTPUT\", OUTPUTDIR)\n",
    "            for input_title in sorted(cope_dict[cope_num]):\n",
    "                input_ = cope_dict[cope_num][input_title]\n",
    "                #print(\"\\nTITLE: \\t{} \\n\\nINPUT: \\t{}\".format(input_title,input_))\n",
    "                #input_match = re.compile(r\"\\b%s\\b\"%(input_title))\n",
    "                #print(input_match)\n",
    "                tempfsf = re.sub(r\"\\b%s\\b\"%(input_title), input_, tempfsf)\n",
    "                #tempfsf = tempfsf.replace(\"%s\"%input_match, input_)\n",
    "            OUTFILE_PATH = os.path.join(deriv_dir, 'analysis/feat3/ses-1/cope%s.fsf'%(cope_num))\n",
    "            #print(tempfsf)\n",
    "            with open(OUTFILE_PATH, 'w') as outfile:\n",
    "                print(\">>>-----> Writing output file: \", OUTFILE_PATH)\n",
    "                outfile.write(tempfsf)\n",
    "            outfile.close()\n",
    "        infile.close()\n",
    "    print(\">>>-----> Complete. \")\n",
    "def main():\n",
    "    # SET OUR RELEVANT PATHS\n",
    "    deriv_dir = \"/projects/niblab/bids_projects/Experiments/bbx/bids/derivatives\"\n",
    "    #cope_dict[x] = {}\n",
    "\n",
    "    template_file = os.path.join('/projects/niblab/bids_projects/Experiments/bbx/bids/code/feat3/design3.fsf')\n",
    "    # get the number of cope files to make (# of copes)\n",
    "    num_of_copes = 7\n",
    "    num_of_input = 141\n",
    "    cope_dict = {}\n",
    "    make_fsfs(num_of_copes, num_of_input, template_file, deriv_dir, cope_dict)\n",
    "\n",
    "main()\n"
   ]
  }
 ],
 "metadata": {
  "kernelspec": {
   "display_name": "Python 3",
   "language": "python",
   "name": "python3"
  },
  "language_info": {
   "codemirror_mode": {
    "name": "ipython",
    "version": 3
   },
   "file_extension": ".py",
   "mimetype": "text/x-python",
   "name": "python",
   "nbconvert_exporter": "python",
   "pygments_lexer": "ipython3",
   "version": "3.7.3"
  }
 },
 "nbformat": 4,
 "nbformat_minor": 4
}
