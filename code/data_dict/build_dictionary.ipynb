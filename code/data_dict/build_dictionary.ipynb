{
 "cells": [
  {
   "cell_type": "code",
   "execution_count": 178,
   "metadata": {
    "pycharm": {
     "is_executing": false
    }
   },
   "outputs": [],
   "source": [
    "import os, glob\n",
    "import sys\n",
    "import pandas as pd\n",
    "\n",
    "from IPython.display import display"
   ]
  },
  {
   "cell_type": "code",
   "execution_count": 179,
   "metadata": {
    "pycharm": {
     "is_executing": false
    }
   },
   "outputs": [],
   "source": [
    "sys.path.append(\"/Users/nikkibytes/Documents/git_nibl/bbx/data/code/\")"
   ]
  },
  {
   "cell_type": "code",
   "execution_count": 180,
   "metadata": {
    "pycharm": {
     "is_executing": false
    }
   },
   "outputs": [],
   "source": [
    "#import data_dict"
   ]
  },
  {
   "cell_type": "markdown",
   "metadata": {},
   "source": [
    "# Building the BBX Data Dictionary \n",
    "\n",
    "## TOC:\n",
    "* [Load Your Data](#dataload)\n",
    "* [Data Cleaning](#dataclean)\n",
    "* [Data Translation](#datatrans)\n",
    "\n"
   ]
  },
  {
   "cell_type": "markdown",
   "metadata": {},
   "source": [
    "## Load Your Data <a class=\"anchor\" id=\"dataload\"></a>\n"
   ]
  },
  {
   "cell_type": "code",
   "execution_count": 181,
   "metadata": {
    "pycharm": {
     "is_executing": false
    }
   },
   "outputs": [],
   "source": [
    "# Set data paths\n",
    "\n",
    "data_path='/Users/nikkibytes/Documents/git_nibl/bbx/data/behavioral/data_dict'\n",
    "\n",
    "\n",
    "# Grab list of behavioral files found in the data bath (raw and clean data)\n",
    "raw_behaviorals=glob.glob(os.path.join(data_path, \"bbx_w1behav_raw_09242020.csv\"))\n",
    "#clean_behaviorals= glob.glob(os.path.join(data_path,  \"w1behavclean*.xlsx\"))\n",
    "\n",
    "# Print the filepaths found\n",
    "#print(\"[INFO] raw behavioral data files founds: %s \\\n",
    "#\\n[INFO] clean behavioral data files found: %s\"%(raw_behaviorals, clean_behaviorals))\n",
    "                                                                                                       "
   ]
  },
  {
   "cell_type": "code",
   "execution_count": 182,
   "metadata": {
    "pycharm": {
     "is_executing": false
    }
   },
   "outputs": [],
   "source": [
    "# Load behavioral data\n",
    "s1_raw_behav=pd.read_csv(raw_behaviorals[0])\n",
    "#s1_clean_behav=pd.read_excel(clean_behaviorals[0])\n"
   ]
  },
  {
   "cell_type": "code",
   "execution_count": 183,
   "metadata": {
    "pycharm": {
     "is_executing": false
    }
   },
   "outputs": [],
   "source": [
    "# Build dataframes from data_dictionary file, \n",
    "# scoring and conversion information found in these files\n",
    "measures_df = pd.read_excel(os.path.join(data_path,'bbx_datadictionary.xlsx' ), sep='\\t', sheet_name=\"bbx_codebook\")\n",
    "var_score_df = pd.read_excel(os.path.join(data_path, 'bbx_datadictionary.xlsx'),  sep='\\t', sheet_name=\"scoring\")\n",
    "var_df = pd.read_excel(os.path.join(data_path,'bbx_datadictionary.xlsx' ), sep='\\t', sheet_name=\"bbx_cbookfmt\")\n"
   ]
  },
  {
   "cell_type": "markdown",
   "metadata": {},
   "source": [
    "**View Dataframes:**"
   ]
  },
  {
   "cell_type": "code",
   "execution_count": 184,
   "metadata": {
    "pycharm": {
     "is_executing": false
    }
   },
   "outputs": [
    {
     "data": {
      "text/plain": "               NAME  LENGTH           LABEL vartype      unit      n  nmiss  \\\n0     participantID     NaN  Participant ID    char       NaN  132.0    0.0   \n1      w1behav_date     NaN   Recorded Date     num  MM/DD/YY  132.0    0.0   \n2  w1behav_height_1     NaN     Height (cm)     num        cm  132.0    0.0   \n3  w1behav_weight_1     NaN     Weight (kg)     num        kg  132.0    0.0   \n4       w1behav_bmi     NaN    BMI (kg/m^2)     num    kg/m^2  132.0    0.0   \n\n         mean        std    min    max  outlier ID  \n0         NaN        NaN    NaN    NaN         NaN  \n1         NaN        NaN    NaN    NaN         NaN  \n2  168.315152   8.922745  150.0  189.5         NaN  \n3   66.220455  11.826421   47.5  115.7         NaN  \n4   23.109034   3.104824   18.1   34.6         NaN  ",
      "text/html": "<div>\n<style scoped>\n    .dataframe tbody tr th:only-of-type {\n        vertical-align: middle;\n    }\n\n    .dataframe tbody tr th {\n        vertical-align: top;\n    }\n\n    .dataframe thead th {\n        text-align: right;\n    }\n</style>\n<table border=\"1\" class=\"dataframe\">\n  <thead>\n    <tr style=\"text-align: right;\">\n      <th></th>\n      <th>NAME</th>\n      <th>LENGTH</th>\n      <th>LABEL</th>\n      <th>vartype</th>\n      <th>unit</th>\n      <th>n</th>\n      <th>nmiss</th>\n      <th>mean</th>\n      <th>std</th>\n      <th>min</th>\n      <th>max</th>\n      <th>outlier ID</th>\n    </tr>\n  </thead>\n  <tbody>\n    <tr>\n      <th>0</th>\n      <td>participantID</td>\n      <td>NaN</td>\n      <td>Participant ID</td>\n      <td>char</td>\n      <td>NaN</td>\n      <td>132.0</td>\n      <td>0.0</td>\n      <td>NaN</td>\n      <td>NaN</td>\n      <td>NaN</td>\n      <td>NaN</td>\n      <td>NaN</td>\n    </tr>\n    <tr>\n      <th>1</th>\n      <td>w1behav_date</td>\n      <td>NaN</td>\n      <td>Recorded Date</td>\n      <td>num</td>\n      <td>MM/DD/YY</td>\n      <td>132.0</td>\n      <td>0.0</td>\n      <td>NaN</td>\n      <td>NaN</td>\n      <td>NaN</td>\n      <td>NaN</td>\n      <td>NaN</td>\n    </tr>\n    <tr>\n      <th>2</th>\n      <td>w1behav_height_1</td>\n      <td>NaN</td>\n      <td>Height (cm)</td>\n      <td>num</td>\n      <td>cm</td>\n      <td>132.0</td>\n      <td>0.0</td>\n      <td>168.315152</td>\n      <td>8.922745</td>\n      <td>150.0</td>\n      <td>189.5</td>\n      <td>NaN</td>\n    </tr>\n    <tr>\n      <th>3</th>\n      <td>w1behav_weight_1</td>\n      <td>NaN</td>\n      <td>Weight (kg)</td>\n      <td>num</td>\n      <td>kg</td>\n      <td>132.0</td>\n      <td>0.0</td>\n      <td>66.220455</td>\n      <td>11.826421</td>\n      <td>47.5</td>\n      <td>115.7</td>\n      <td>NaN</td>\n    </tr>\n    <tr>\n      <th>4</th>\n      <td>w1behav_bmi</td>\n      <td>NaN</td>\n      <td>BMI (kg/m^2)</td>\n      <td>num</td>\n      <td>kg/m^2</td>\n      <td>132.0</td>\n      <td>0.0</td>\n      <td>23.109034</td>\n      <td>3.104824</td>\n      <td>18.1</td>\n      <td>34.6</td>\n      <td>NaN</td>\n    </tr>\n  </tbody>\n</table>\n</div>"
     },
     "metadata": {},
     "output_type": "display_data"
    },
    {
     "data": {
      "text/plain": "       Variable Name Range                   Format Label\n0  w1behav_ethnicity     0     0 = Non-Hispanic or Latino\n1                NaN     1          1= Hispanic or Latino\n2       w1behav_race     1                      1 = White\n3                NaN     2  2 = Black or African American\n4                NaN     3                      3 = Asian",
      "text/html": "<div>\n<style scoped>\n    .dataframe tbody tr th:only-of-type {\n        vertical-align: middle;\n    }\n\n    .dataframe tbody tr th {\n        vertical-align: top;\n    }\n\n    .dataframe thead th {\n        text-align: right;\n    }\n</style>\n<table border=\"1\" class=\"dataframe\">\n  <thead>\n    <tr style=\"text-align: right;\">\n      <th></th>\n      <th>Variable Name</th>\n      <th>Range</th>\n      <th>Format Label</th>\n    </tr>\n  </thead>\n  <tbody>\n    <tr>\n      <th>0</th>\n      <td>w1behav_ethnicity</td>\n      <td>0</td>\n      <td>0 = Non-Hispanic or Latino</td>\n    </tr>\n    <tr>\n      <th>1</th>\n      <td>NaN</td>\n      <td>1</td>\n      <td>1= Hispanic or Latino</td>\n    </tr>\n    <tr>\n      <th>2</th>\n      <td>w1behav_race</td>\n      <td>1</td>\n      <td>1 = White</td>\n    </tr>\n    <tr>\n      <th>3</th>\n      <td>NaN</td>\n      <td>2</td>\n      <td>2 = Black or African American</td>\n    </tr>\n    <tr>\n      <th>4</th>\n      <td>NaN</td>\n      <td>3</td>\n      <td>3 = Asian</td>\n    </tr>\n  </tbody>\n</table>\n</div>"
     },
     "metadata": {},
     "output_type": "display_data"
    },
    {
     "data": {
      "text/plain": "   Set           Output                                 Calculation  \\\n0  FFQ     w1ffq##_kcal                  w1behav_ffq## * kcal_ffq##   \n1  FFQ    w1ffq_avgkcal                      SUM(w1ffq##_kcal) / 14   \n2  FFQ     w1ffq##_gfat                   w1behav_ffq## * fat_ffq##   \n3  FFQ  w1ffq##_fatkcal                       SUM(w1ffq##_gfat) * 9   \n4  FFQ     w1ffq_pctfat  SUM(w1ffq##_fatkcal)/SUM(w1ffq##_kcal)*100   \n\n                                         Description  \\\n0         Total kcal consumed for each food variable   \n1  Average kcal consumed each day for the reporte...   \n2    Total fat grams consumed for each food variable   \n3  Total kcal derived from fat consumed for each ...   \n4             Percent of total kcal derived from fat   \n\n                                   Notes  \n0  kcal_ffq## comes from FFQ excel sheet  \n1                                    NaN  \n2   fat_ffq## comes from FFQ excel sheet  \n3                                    NaN  \n4                                    NaN  ",
      "text/html": "<div>\n<style scoped>\n    .dataframe tbody tr th:only-of-type {\n        vertical-align: middle;\n    }\n\n    .dataframe tbody tr th {\n        vertical-align: top;\n    }\n\n    .dataframe thead th {\n        text-align: right;\n    }\n</style>\n<table border=\"1\" class=\"dataframe\">\n  <thead>\n    <tr style=\"text-align: right;\">\n      <th></th>\n      <th>Set</th>\n      <th>Output</th>\n      <th>Calculation</th>\n      <th>Description</th>\n      <th>Notes</th>\n    </tr>\n  </thead>\n  <tbody>\n    <tr>\n      <th>0</th>\n      <td>FFQ</td>\n      <td>w1ffq##_kcal</td>\n      <td>w1behav_ffq## * kcal_ffq##</td>\n      <td>Total kcal consumed for each food variable</td>\n      <td>kcal_ffq## comes from FFQ excel sheet</td>\n    </tr>\n    <tr>\n      <th>1</th>\n      <td>FFQ</td>\n      <td>w1ffq_avgkcal</td>\n      <td>SUM(w1ffq##_kcal) / 14</td>\n      <td>Average kcal consumed each day for the reporte...</td>\n      <td>NaN</td>\n    </tr>\n    <tr>\n      <th>2</th>\n      <td>FFQ</td>\n      <td>w1ffq##_gfat</td>\n      <td>w1behav_ffq## * fat_ffq##</td>\n      <td>Total fat grams consumed for each food variable</td>\n      <td>fat_ffq## comes from FFQ excel sheet</td>\n    </tr>\n    <tr>\n      <th>3</th>\n      <td>FFQ</td>\n      <td>w1ffq##_fatkcal</td>\n      <td>SUM(w1ffq##_gfat) * 9</td>\n      <td>Total kcal derived from fat consumed for each ...</td>\n      <td>NaN</td>\n    </tr>\n    <tr>\n      <th>4</th>\n      <td>FFQ</td>\n      <td>w1ffq_pctfat</td>\n      <td>SUM(w1ffq##_fatkcal)/SUM(w1ffq##_kcal)*100</td>\n      <td>Percent of total kcal derived from fat</td>\n      <td>NaN</td>\n    </tr>\n  </tbody>\n</table>\n</div>"
     },
     "metadata": {},
     "output_type": "display_data"
    }
   ],
   "source": [
    "display(measures_df.head())\n",
    "display(var_df.head())\n",
    "display(var_score_df.head())"
   ]
  },
  {
   "cell_type": "markdown",
   "metadata": {},
   "source": [
    "## Data Cleaning <a anchor='class' id=\"dataclean\"></a>"
   ]
  },
  {
   "cell_type": "markdown",
   "metadata": {},
   "source": [
    "* dropping excess rows  \n",
    "* dropping excess columns \n",
    "* separate into multiple dfs for variable calculation  \n",
    "\n",
    "Note-\n",
    "* need to possibly remove or edit missing values (i.e NaN)  \n",
    "* need to properly marked sub ID"
   ]
  },
  {
   "cell_type": "markdown",
   "metadata": {},
   "source": [
    "**Cleaning session 1 files**"
   ]
  },
  {
   "cell_type": "code",
   "execution_count": 185,
   "metadata": {
    "pycharm": {
     "is_executing": false
    }
   },
   "outputs": [
    {
     "name": "stdout",
     "text": [
      "[INFO] raw behavioral file: \n"
     ],
     "output_type": "stream"
    },
    {
     "data": {
      "text/plain": "                                           StartDate  \\\n0                                         Start Date   \n1  {\"ImportId\":\"startDate\",\"timeZone\":\"America/De...   \n2                                2018-02-05 12:27:50   \n3                                2018-02-12 12:28:14   \n4                                2018-02-14 10:35:00   \n\n                                             EndDate                 Status  \\\n0                                           End Date          Response Type   \n1  {\"ImportId\":\"endDate\",\"timeZone\":\"America/Denv...  {\"ImportId\":\"status\"}   \n2                                2018-02-09 11:06:01             IP Address   \n3                                2018-02-12 12:43:57         Survey Preview   \n4                                2018-02-14 11:11:27             IP Address   \n\n                  IPAddress                 Progress    Duration (in seconds)  \\\n0                IP Address                 Progress    Duration (in seconds)   \n1  {\"ImportId\":\"ipAddress\"}  {\"ImportId\":\"progress\"}  {\"ImportId\":\"duration\"}   \n2             152.23.56.122                      100                   340690   \n3                       NaN                      100                      942   \n4             152.23.126.65                      100                     2187   \n\n                  Finished                                       RecordedDate  \\\n0                 Finished                                      Recorded Date   \n1  {\"ImportId\":\"finished\"}  {\"ImportId\":\"recordedDate\",\"timeZone\":\"America...   \n2                     True                                2018-02-09 11:06:02   \n3                     True                                2018-02-12 12:43:57   \n4                     True                                2018-02-14 11:11:29   \n\n                 ResponseId                 RecipientLastName  ...  \\\n0               Response ID               Recipient Last Name  ...   \n1  {\"ImportId\":\"_recordId\"}  {\"ImportId\":\"recipientLastName\"}  ...   \n2         R_2EuE6gv1qyMOWxF                               NaN  ...   \n3         R_2c7csMlkT52V2o0                               NaN  ...   \n4         R_2f1nUIDPQigizsq                               NaN  ...   \n\n                                 SC6                                SC7  \\\n0              DEBQ: External Eating                         Handedness   \n1  {\"ImportId\":\"SC_ezkxfZnqgCqd2tv\"}  {\"ImportId\":\"SC_d4KypOOtGQTazHf\"}   \n2                                 30                                 24   \n3                                 14                                 24   \n4                                 46                                 24   \n\n                                 SC8                                SC9  \\\n0                         BAS: Drive                   BAS: Fun Seeking   \n1  {\"ImportId\":\"SC_3yLllYJsbQLbDhj\"}  {\"ImportId\":\"SC_bEgBBU9SRiHfMfb\"}   \n2                                 16                                 16   \n3                                 11                                 10   \n4                                  0                                  0   \n\n                                SC10                               SC11  \\\n0         BAS: Reward Responsiveness                                BIS   \n1  {\"ImportId\":\"SC_0kzddozJeiesAq9\"}  {\"ImportId\":\"SC_brQGnvjcth6zMLr\"}   \n2                                 20                                 22   \n3                                 10                                 13   \n4                                  0                                  0   \n\n                                SC12                               SC13  \\\n0                          SPSRQ: SP                          SPSRQ: SR   \n1  {\"ImportId\":\"SC_ezCKJGC3TtJbvBr\"}  {\"ImportId\":\"SC_eDkfp1W4wY7g34N\"}   \n2                                 30                                 30   \n3                                 32                                 31   \n4                                  0                                  0   \n\n                                SC14                                BMI  \n0                                FCI                                BMI  \n1  {\"ImportId\":\"SC_bmk9Sn4mX7WwDv7\"}  {\"ImportId\":\"BMI_DERIVEDzm1gplk\"}  \n2                                148                  125.6532152707214  \n3                                164                  900.9009009009009  \n4                                168                  24.19881656804733  \n\n[5 rows x 437 columns]",
      "text/html": "<div>\n<style scoped>\n    .dataframe tbody tr th:only-of-type {\n        vertical-align: middle;\n    }\n\n    .dataframe tbody tr th {\n        vertical-align: top;\n    }\n\n    .dataframe thead th {\n        text-align: right;\n    }\n</style>\n<table border=\"1\" class=\"dataframe\">\n  <thead>\n    <tr style=\"text-align: right;\">\n      <th></th>\n      <th>StartDate</th>\n      <th>EndDate</th>\n      <th>Status</th>\n      <th>IPAddress</th>\n      <th>Progress</th>\n      <th>Duration (in seconds)</th>\n      <th>Finished</th>\n      <th>RecordedDate</th>\n      <th>ResponseId</th>\n      <th>RecipientLastName</th>\n      <th>...</th>\n      <th>SC6</th>\n      <th>SC7</th>\n      <th>SC8</th>\n      <th>SC9</th>\n      <th>SC10</th>\n      <th>SC11</th>\n      <th>SC12</th>\n      <th>SC13</th>\n      <th>SC14</th>\n      <th>BMI</th>\n    </tr>\n  </thead>\n  <tbody>\n    <tr>\n      <th>0</th>\n      <td>Start Date</td>\n      <td>End Date</td>\n      <td>Response Type</td>\n      <td>IP Address</td>\n      <td>Progress</td>\n      <td>Duration (in seconds)</td>\n      <td>Finished</td>\n      <td>Recorded Date</td>\n      <td>Response ID</td>\n      <td>Recipient Last Name</td>\n      <td>...</td>\n      <td>DEBQ: External Eating</td>\n      <td>Handedness</td>\n      <td>BAS: Drive</td>\n      <td>BAS: Fun Seeking</td>\n      <td>BAS: Reward Responsiveness</td>\n      <td>BIS</td>\n      <td>SPSRQ: SP</td>\n      <td>SPSRQ: SR</td>\n      <td>FCI</td>\n      <td>BMI</td>\n    </tr>\n    <tr>\n      <th>1</th>\n      <td>{\"ImportId\":\"startDate\",\"timeZone\":\"America/De...</td>\n      <td>{\"ImportId\":\"endDate\",\"timeZone\":\"America/Denv...</td>\n      <td>{\"ImportId\":\"status\"}</td>\n      <td>{\"ImportId\":\"ipAddress\"}</td>\n      <td>{\"ImportId\":\"progress\"}</td>\n      <td>{\"ImportId\":\"duration\"}</td>\n      <td>{\"ImportId\":\"finished\"}</td>\n      <td>{\"ImportId\":\"recordedDate\",\"timeZone\":\"America...</td>\n      <td>{\"ImportId\":\"_recordId\"}</td>\n      <td>{\"ImportId\":\"recipientLastName\"}</td>\n      <td>...</td>\n      <td>{\"ImportId\":\"SC_ezkxfZnqgCqd2tv\"}</td>\n      <td>{\"ImportId\":\"SC_d4KypOOtGQTazHf\"}</td>\n      <td>{\"ImportId\":\"SC_3yLllYJsbQLbDhj\"}</td>\n      <td>{\"ImportId\":\"SC_bEgBBU9SRiHfMfb\"}</td>\n      <td>{\"ImportId\":\"SC_0kzddozJeiesAq9\"}</td>\n      <td>{\"ImportId\":\"SC_brQGnvjcth6zMLr\"}</td>\n      <td>{\"ImportId\":\"SC_ezCKJGC3TtJbvBr\"}</td>\n      <td>{\"ImportId\":\"SC_eDkfp1W4wY7g34N\"}</td>\n      <td>{\"ImportId\":\"SC_bmk9Sn4mX7WwDv7\"}</td>\n      <td>{\"ImportId\":\"BMI_DERIVEDzm1gplk\"}</td>\n    </tr>\n    <tr>\n      <th>2</th>\n      <td>2018-02-05 12:27:50</td>\n      <td>2018-02-09 11:06:01</td>\n      <td>IP Address</td>\n      <td>152.23.56.122</td>\n      <td>100</td>\n      <td>340690</td>\n      <td>True</td>\n      <td>2018-02-09 11:06:02</td>\n      <td>R_2EuE6gv1qyMOWxF</td>\n      <td>NaN</td>\n      <td>...</td>\n      <td>30</td>\n      <td>24</td>\n      <td>16</td>\n      <td>16</td>\n      <td>20</td>\n      <td>22</td>\n      <td>30</td>\n      <td>30</td>\n      <td>148</td>\n      <td>125.6532152707214</td>\n    </tr>\n    <tr>\n      <th>3</th>\n      <td>2018-02-12 12:28:14</td>\n      <td>2018-02-12 12:43:57</td>\n      <td>Survey Preview</td>\n      <td>NaN</td>\n      <td>100</td>\n      <td>942</td>\n      <td>True</td>\n      <td>2018-02-12 12:43:57</td>\n      <td>R_2c7csMlkT52V2o0</td>\n      <td>NaN</td>\n      <td>...</td>\n      <td>14</td>\n      <td>24</td>\n      <td>11</td>\n      <td>10</td>\n      <td>10</td>\n      <td>13</td>\n      <td>32</td>\n      <td>31</td>\n      <td>164</td>\n      <td>900.9009009009009</td>\n    </tr>\n    <tr>\n      <th>4</th>\n      <td>2018-02-14 10:35:00</td>\n      <td>2018-02-14 11:11:27</td>\n      <td>IP Address</td>\n      <td>152.23.126.65</td>\n      <td>100</td>\n      <td>2187</td>\n      <td>True</td>\n      <td>2018-02-14 11:11:29</td>\n      <td>R_2f1nUIDPQigizsq</td>\n      <td>NaN</td>\n      <td>...</td>\n      <td>46</td>\n      <td>24</td>\n      <td>0</td>\n      <td>0</td>\n      <td>0</td>\n      <td>0</td>\n      <td>0</td>\n      <td>0</td>\n      <td>168</td>\n      <td>24.19881656804733</td>\n    </tr>\n  </tbody>\n</table>\n<p>5 rows × 437 columns</p>\n</div>"
     },
     "metadata": {},
     "output_type": "display_data"
    }
   ],
   "source": [
    "print(\"[INFO] raw behavioral file: \")\n",
    "display(s1_raw_behav.head())"
   ]
  },
  {
   "cell_type": "code",
   "execution_count": 186,
   "metadata": {
    "pycharm": {
     "is_executing": false
    }
   },
   "outputs": [],
   "source": [
    "# get rid of leading, irrelevant rows  \n",
    "# WARNING: run ONLY ONCE\n",
    "s1_raw_behav.drop([0,1,2,3,4,5,6], inplace=True)"
   ]
  },
  {
   "cell_type": "code",
   "execution_count": 187,
   "metadata": {
    "pycharm": {
     "is_executing": false
    }
   },
   "outputs": [
    {
     "name": "stdout",
     "text": [
      "[INFO] raw behavioral file (note the dropped rows): \n"
     ],
     "output_type": "stream"
    },
    {
     "data": {
      "text/plain": "              StartDate              EndDate      Status      IPAddress  \\\n7   2018-03-19 07:44:07  2018-03-19 09:22:59  IP Address   152.23.86.81   \n8   2018-03-19 12:15:21  2018-03-19 13:35:15  IP Address   152.23.86.81   \n9   2018-03-23 13:40:24  2018-03-23 14:58:57  IP Address  152.23.213.32   \n10  2018-03-23 15:04:04  2018-03-23 16:20:11  IP Address  152.23.213.32   \n11  2018-03-28 10:16:59  2018-03-28 11:40:50  IP Address   152.23.86.81   \n\n   Progress Duration (in seconds) Finished         RecordedDate  \\\n7       100                  5931     True  2018-03-19 09:23:01   \n8       100                  4793     True  2018-03-19 13:35:16   \n9       100                  4711     True  2018-03-23 14:58:58   \n10       98                  4566    False  2018-03-24 11:54:33   \n11      100                  5031     True  2018-03-28 11:40:52   \n\n           ResponseId RecipientLastName  ... SC6 SC7 SC8 SC9 SC10 SC11 SC12  \\\n7   R_2SrhSBMJXhLwPbo               NaN  ...  29  24  11  11   16   18   33   \n8   R_2wvooa4ew57SG93               NaN  ...  21  22   9  12   19   21   28   \n9   R_2b3sEMOtTJmktVl               NaN  ...  35  22  12  10   19   19   36   \n10  R_4JdBh5aSkJ67kPL               NaN  ...  34  23  14  13   18   18   18   \n11  R_2dnKdQ1rXBZaTAA               NaN  ...  28  24  14  14   20   23   32   \n\n   SC13 SC14                BMI  \n7    32  134  21.07869282404572  \n8    21  111  34.55075679991884  \n9    37  143  22.85640495867769  \n10   34  113  20.37629412663135  \n11   38  162  21.77145582582835  \n\n[5 rows x 437 columns]",
      "text/html": "<div>\n<style scoped>\n    .dataframe tbody tr th:only-of-type {\n        vertical-align: middle;\n    }\n\n    .dataframe tbody tr th {\n        vertical-align: top;\n    }\n\n    .dataframe thead th {\n        text-align: right;\n    }\n</style>\n<table border=\"1\" class=\"dataframe\">\n  <thead>\n    <tr style=\"text-align: right;\">\n      <th></th>\n      <th>StartDate</th>\n      <th>EndDate</th>\n      <th>Status</th>\n      <th>IPAddress</th>\n      <th>Progress</th>\n      <th>Duration (in seconds)</th>\n      <th>Finished</th>\n      <th>RecordedDate</th>\n      <th>ResponseId</th>\n      <th>RecipientLastName</th>\n      <th>...</th>\n      <th>SC6</th>\n      <th>SC7</th>\n      <th>SC8</th>\n      <th>SC9</th>\n      <th>SC10</th>\n      <th>SC11</th>\n      <th>SC12</th>\n      <th>SC13</th>\n      <th>SC14</th>\n      <th>BMI</th>\n    </tr>\n  </thead>\n  <tbody>\n    <tr>\n      <th>7</th>\n      <td>2018-03-19 07:44:07</td>\n      <td>2018-03-19 09:22:59</td>\n      <td>IP Address</td>\n      <td>152.23.86.81</td>\n      <td>100</td>\n      <td>5931</td>\n      <td>True</td>\n      <td>2018-03-19 09:23:01</td>\n      <td>R_2SrhSBMJXhLwPbo</td>\n      <td>NaN</td>\n      <td>...</td>\n      <td>29</td>\n      <td>24</td>\n      <td>11</td>\n      <td>11</td>\n      <td>16</td>\n      <td>18</td>\n      <td>33</td>\n      <td>32</td>\n      <td>134</td>\n      <td>21.07869282404572</td>\n    </tr>\n    <tr>\n      <th>8</th>\n      <td>2018-03-19 12:15:21</td>\n      <td>2018-03-19 13:35:15</td>\n      <td>IP Address</td>\n      <td>152.23.86.81</td>\n      <td>100</td>\n      <td>4793</td>\n      <td>True</td>\n      <td>2018-03-19 13:35:16</td>\n      <td>R_2wvooa4ew57SG93</td>\n      <td>NaN</td>\n      <td>...</td>\n      <td>21</td>\n      <td>22</td>\n      <td>9</td>\n      <td>12</td>\n      <td>19</td>\n      <td>21</td>\n      <td>28</td>\n      <td>21</td>\n      <td>111</td>\n      <td>34.55075679991884</td>\n    </tr>\n    <tr>\n      <th>9</th>\n      <td>2018-03-23 13:40:24</td>\n      <td>2018-03-23 14:58:57</td>\n      <td>IP Address</td>\n      <td>152.23.213.32</td>\n      <td>100</td>\n      <td>4711</td>\n      <td>True</td>\n      <td>2018-03-23 14:58:58</td>\n      <td>R_2b3sEMOtTJmktVl</td>\n      <td>NaN</td>\n      <td>...</td>\n      <td>35</td>\n      <td>22</td>\n      <td>12</td>\n      <td>10</td>\n      <td>19</td>\n      <td>19</td>\n      <td>36</td>\n      <td>37</td>\n      <td>143</td>\n      <td>22.85640495867769</td>\n    </tr>\n    <tr>\n      <th>10</th>\n      <td>2018-03-23 15:04:04</td>\n      <td>2018-03-23 16:20:11</td>\n      <td>IP Address</td>\n      <td>152.23.213.32</td>\n      <td>98</td>\n      <td>4566</td>\n      <td>False</td>\n      <td>2018-03-24 11:54:33</td>\n      <td>R_4JdBh5aSkJ67kPL</td>\n      <td>NaN</td>\n      <td>...</td>\n      <td>34</td>\n      <td>23</td>\n      <td>14</td>\n      <td>13</td>\n      <td>18</td>\n      <td>18</td>\n      <td>18</td>\n      <td>34</td>\n      <td>113</td>\n      <td>20.37629412663135</td>\n    </tr>\n    <tr>\n      <th>11</th>\n      <td>2018-03-28 10:16:59</td>\n      <td>2018-03-28 11:40:50</td>\n      <td>IP Address</td>\n      <td>152.23.86.81</td>\n      <td>100</td>\n      <td>5031</td>\n      <td>True</td>\n      <td>2018-03-28 11:40:52</td>\n      <td>R_2dnKdQ1rXBZaTAA</td>\n      <td>NaN</td>\n      <td>...</td>\n      <td>28</td>\n      <td>24</td>\n      <td>14</td>\n      <td>14</td>\n      <td>20</td>\n      <td>23</td>\n      <td>32</td>\n      <td>38</td>\n      <td>162</td>\n      <td>21.77145582582835</td>\n    </tr>\n  </tbody>\n</table>\n<p>5 rows × 437 columns</p>\n</div>"
     },
     "metadata": {},
     "output_type": "display_data"
    }
   ],
   "source": [
    "print(\"[INFO] raw behavioral file (note the dropped rows): \")\n",
    "display(s1_raw_behav.head())"
   ]
  },
  {
   "cell_type": "code",
   "execution_count": 188,
   "metadata": {
    "pycharm": {
     "is_executing": false
    }
   },
   "outputs": [
    {
     "name": "stdout",
     "text": [
      "\n[INFO] dropping these columns from the behavioral file. \n\n ['Status', 'IPAddress', 'ResponseId', 'RecipientLastName', 'RecipientFirstName', 'RecipientEmail', 'ExternalReference', 'LocationLatitude', 'LocationLongitude', 'DistributionChannel', 'UserLanguage']\n"
     ],
     "output_type": "stream"
    }
   ],
   "source": [
    "# We find columns we don't want to keep by finding what columns are not \n",
    "# in the clean excel reference file\n",
    "# -note we are keeping BMI and Recorded date, unlike the reference file\n",
    "\n",
    "drop_list = [ 'Status', 'IPAddress', 'ResponseId', 'RecipientLastName',\n",
    "             'RecipientFirstName', 'RecipientEmail', 'ExternalReference',\n",
    "             'LocationLatitude', 'LocationLongitude', 'DistributionChannel', \n",
    "             'UserLanguage']\n",
    "print('\\n[INFO] dropping these columns from the behavioral file. \\n\\n',drop_list)"
   ]
  },
  {
   "cell_type": "code",
   "execution_count": 189,
   "metadata": {
    "pycharm": {
     "is_executing": false
    }
   },
   "outputs": [],
   "source": [
    "# drop columns\n",
    "s1_raw_behav.drop(drop_list, axis=1, inplace=True)\n"
   ]
  },
  {
   "cell_type": "code",
   "execution_count": 190,
   "metadata": {
    "pycharm": {
     "is_executing": false
    }
   },
   "outputs": [
    {
     "name": "stdout",
     "text": [
      "[INFO] current behavioral dataframe:\n"
     ],
     "output_type": "stream"
    },
    {
     "data": {
      "text/plain": "              StartDate              EndDate Progress Duration (in seconds)  \\\n7   2018-03-19 07:44:07  2018-03-19 09:22:59      100                  5931   \n8   2018-03-19 12:15:21  2018-03-19 13:35:15      100                  4793   \n9   2018-03-23 13:40:24  2018-03-23 14:58:57      100                  4711   \n10  2018-03-23 15:04:04  2018-03-23 16:20:11       98                  4566   \n11  2018-03-28 10:16:59  2018-03-28 11:40:50      100                  5031   \n\n   Finished         RecordedDate w1behav_assessor participantID  \\\n7      True  2018-03-19 09:23:01    Gandee bauert       BBX_001   \n8      True  2018-03-19 13:35:16     Gandee jones       BBX_002   \n9      True  2018-03-23 14:58:58           Gandee       bbx_005   \n10    False  2018-03-24 11:54:33           Gandee       bbx_004   \n11     True  2018-03-28 11:40:52           Bauert       BBX 006   \n\n   w1behav_consent w1behav_height_1  ... SC6 SC7 SC8 SC9 SC10 SC11 SC12 SC13  \\\n7              Yes            155.7  ...  29  24  11  11   16   18   33   32   \n8              Yes            167.9  ...  21  22   9  12   19   21   28   21   \n9              Yes            176.0  ...  35  22  12  10   19   19   36   37   \n10             Yes            167.4  ...  34  23  14  13   18   18   18   34   \n11             Yes            163.5  ...  28  24  14  14   20   23   32   38   \n\n   SC14                BMI  \n7   134  21.07869282404572  \n8   111  34.55075679991884  \n9   143  22.85640495867769  \n10  113  20.37629412663135  \n11  162  21.77145582582835  \n\n[5 rows x 426 columns]",
      "text/html": "<div>\n<style scoped>\n    .dataframe tbody tr th:only-of-type {\n        vertical-align: middle;\n    }\n\n    .dataframe tbody tr th {\n        vertical-align: top;\n    }\n\n    .dataframe thead th {\n        text-align: right;\n    }\n</style>\n<table border=\"1\" class=\"dataframe\">\n  <thead>\n    <tr style=\"text-align: right;\">\n      <th></th>\n      <th>StartDate</th>\n      <th>EndDate</th>\n      <th>Progress</th>\n      <th>Duration (in seconds)</th>\n      <th>Finished</th>\n      <th>RecordedDate</th>\n      <th>w1behav_assessor</th>\n      <th>participantID</th>\n      <th>w1behav_consent</th>\n      <th>w1behav_height_1</th>\n      <th>...</th>\n      <th>SC6</th>\n      <th>SC7</th>\n      <th>SC8</th>\n      <th>SC9</th>\n      <th>SC10</th>\n      <th>SC11</th>\n      <th>SC12</th>\n      <th>SC13</th>\n      <th>SC14</th>\n      <th>BMI</th>\n    </tr>\n  </thead>\n  <tbody>\n    <tr>\n      <th>7</th>\n      <td>2018-03-19 07:44:07</td>\n      <td>2018-03-19 09:22:59</td>\n      <td>100</td>\n      <td>5931</td>\n      <td>True</td>\n      <td>2018-03-19 09:23:01</td>\n      <td>Gandee bauert</td>\n      <td>BBX_001</td>\n      <td>Yes</td>\n      <td>155.7</td>\n      <td>...</td>\n      <td>29</td>\n      <td>24</td>\n      <td>11</td>\n      <td>11</td>\n      <td>16</td>\n      <td>18</td>\n      <td>33</td>\n      <td>32</td>\n      <td>134</td>\n      <td>21.07869282404572</td>\n    </tr>\n    <tr>\n      <th>8</th>\n      <td>2018-03-19 12:15:21</td>\n      <td>2018-03-19 13:35:15</td>\n      <td>100</td>\n      <td>4793</td>\n      <td>True</td>\n      <td>2018-03-19 13:35:16</td>\n      <td>Gandee jones</td>\n      <td>BBX_002</td>\n      <td>Yes</td>\n      <td>167.9</td>\n      <td>...</td>\n      <td>21</td>\n      <td>22</td>\n      <td>9</td>\n      <td>12</td>\n      <td>19</td>\n      <td>21</td>\n      <td>28</td>\n      <td>21</td>\n      <td>111</td>\n      <td>34.55075679991884</td>\n    </tr>\n    <tr>\n      <th>9</th>\n      <td>2018-03-23 13:40:24</td>\n      <td>2018-03-23 14:58:57</td>\n      <td>100</td>\n      <td>4711</td>\n      <td>True</td>\n      <td>2018-03-23 14:58:58</td>\n      <td>Gandee</td>\n      <td>bbx_005</td>\n      <td>Yes</td>\n      <td>176.0</td>\n      <td>...</td>\n      <td>35</td>\n      <td>22</td>\n      <td>12</td>\n      <td>10</td>\n      <td>19</td>\n      <td>19</td>\n      <td>36</td>\n      <td>37</td>\n      <td>143</td>\n      <td>22.85640495867769</td>\n    </tr>\n    <tr>\n      <th>10</th>\n      <td>2018-03-23 15:04:04</td>\n      <td>2018-03-23 16:20:11</td>\n      <td>98</td>\n      <td>4566</td>\n      <td>False</td>\n      <td>2018-03-24 11:54:33</td>\n      <td>Gandee</td>\n      <td>bbx_004</td>\n      <td>Yes</td>\n      <td>167.4</td>\n      <td>...</td>\n      <td>34</td>\n      <td>23</td>\n      <td>14</td>\n      <td>13</td>\n      <td>18</td>\n      <td>18</td>\n      <td>18</td>\n      <td>34</td>\n      <td>113</td>\n      <td>20.37629412663135</td>\n    </tr>\n    <tr>\n      <th>11</th>\n      <td>2018-03-28 10:16:59</td>\n      <td>2018-03-28 11:40:50</td>\n      <td>100</td>\n      <td>5031</td>\n      <td>True</td>\n      <td>2018-03-28 11:40:52</td>\n      <td>Bauert</td>\n      <td>BBX 006</td>\n      <td>Yes</td>\n      <td>163.5</td>\n      <td>...</td>\n      <td>28</td>\n      <td>24</td>\n      <td>14</td>\n      <td>14</td>\n      <td>20</td>\n      <td>23</td>\n      <td>32</td>\n      <td>38</td>\n      <td>162</td>\n      <td>21.77145582582835</td>\n    </tr>\n  </tbody>\n</table>\n<p>5 rows × 426 columns</p>\n</div>"
     },
     "metadata": {},
     "output_type": "display_data"
    }
   ],
   "source": [
    "print(\"[INFO] current behavioral dataframe:\")\n",
    "display(s1_raw_behav.head())"
   ]
  },
  {
   "cell_type": "code",
   "execution_count": 191,
   "metadata": {
    "pycharm": {
     "is_executing": false
    }
   },
   "outputs": [],
   "source": [
    "#list(s1_raw_behav.keys())"
   ]
  },
  {
   "cell_type": "markdown",
   "metadata": {},
   "source": [
    "\n",
    "## Data Translations <a anchor=\"class\" id=\"datatrans\"></a>"
   ]
  },
  {
   "cell_type": "markdown",
   "metadata": {
    "pycharm": {
     "is_executing": false,
     "name": "#%% md\n"
    }
   },
   "source": [
    "### Data Numerical Translation \n",
    "Converting the string data found in the behavioral to their corresponding numerical value.  "
   ]
  },
  {
   "cell_type": "code",
   "execution_count": 192,
   "outputs": [],
   "source": [
    "ffq_df = s1_raw_behav.filter(regex=\"ffq\", axis=1)\n",
    "\n",
    "bis_df = s1_raw_behav.filter(regex=\"bis\", axis=1)\n",
    "\n",
    "fci_df = s1_raw_behav.filter(regex=\"fci\", axis=1)\n",
    "\n",
    "debq_df = s1_raw_behav.filter(regex=\"debq\", axis=1)\n",
    "\n",
    "ipaq_df = s1_raw_behav.filter(regex=\"ipaq\", axis=1)\n",
    "\n",
    "hand_df = s1_raw_behav.filter(regex=\"hand\", axis=1)\n",
    "\n",
    "spsrq_df = s1_raw_behav.filter(regex=\"spsrg\", axis=1)\n",
    "\n",
    "yfas_df = s1_raw_behav.filter(regex=\"yfas\", axis=1)\n",
    "\n",
    "bisbas_df = s1_raw_behav.filter(regex=\"bisbas\", axis=1)\n",
    "\n",
    "pfs_df = s1_raw_behav.filter(regex=\"pfs\", axis=1)\n",
    "\n"
   ],
   "metadata": {
    "collapsed": false,
    "pycharm": {
     "name": "#%%\n",
     "is_executing": false
    }
   }
  },
  {
   "cell_type": "code",
   "execution_count": 193,
   "outputs": [
    {
     "name": "stdout",
     "text": [
      "[INFO] updated version:     Variable Name Range                   Format Label\n0      ethnicity     0     0 = Non-Hispanic or Latino\n1            NaN     1          1= Hispanic or Latino\n2           race     1                      1 = White\n3            NaN     2  2 = Black or African American\n4            NaN     3                      3 = Asian\n..           ...   ...                            ...\n74         sleep     1                  1 = Very good\n75           NaN     2              2 = Somewhat good\n76           NaN     3                    3 = Average\n77           NaN     4              4 = Somewhat poor\n78           NaN     5                  5 = Very poor\n\n[79 rows x 3 columns]\n"
     ],
     "output_type": "stream"
    }
   ],
   "source": [
    "#display(var_df)\n",
    "new_name = ''\n",
    "for x in var_df[\"Variable Name\"]:\n",
    "    #print(x, new_name)\n",
    "    if type(x) == str:\n",
    "        #print('X: ', x)\n",
    "        y = x.split(\"_\")[1]\n",
    "        #print('Y: ', y)\n",
    "        var_df[\"Variable Name\"].replace(x, y, inplace=True)\n",
    "\n",
    "print('[INFO] updated version: ', var_df)"
   ],
   "metadata": {
    "collapsed": false,
    "pycharm": {
     "name": "#%%\n",
     "is_executing": false
    }
   }
  },
  {
   "cell_type": "code",
   "execution_count": 194,
   "outputs": [
    {
     "name": "stdout",
     "text": [
      "[INFO] final updated version:     Variable Name Range                   Format Label\n0      ethnicity     0     0 = Non-Hispanic or Latino\n1      ethnicity     1          1= Hispanic or Latino\n2           race     1                      1 = White\n3           race     2  2 = Black or African American\n4           race     3                      3 = Asian\n..           ...   ...                            ...\n74         sleep     1                  1 = Very good\n75         sleep     2              2 = Somewhat good\n76         sleep     3                    3 = Average\n77         sleep     4              4 = Somewhat poor\n78         sleep     5                  5 = Very poor\n\n[79 rows x 3 columns]\n"
     ],
     "output_type": "stream"
    }
   ],
   "source": [
    "#display(var_df)\n",
    "\n",
    "for index, value in var_df[\"Variable Name\"].iteritems():\n",
    "    #print(index, value)\n",
    "    if type(value) == str:\n",
    "        new_name=value\n",
    "        #print(new_name)\n",
    "        \n",
    "    else:\n",
    "        #print(\"renaming {} to {}\".format(value, new_name))\n",
    "        #print(cookbook_df.loc[index, \"Variable Name\"])\n",
    "        var_df.loc[index, \"Variable Name\"] = new_name\n",
    "print('[INFO] final updated version: ', var_df)"
   ],
   "metadata": {
    "collapsed": false,
    "pycharm": {
     "name": "#%%\n",
     "is_executing": false
    }
   }
  },
  {
   "cell_type": "code",
   "execution_count": 195,
   "outputs": [
    {
     "data": {
      "text/plain": "array(['ethnicity', 'race', 'gender', 'ffq##', 'bis##', 'fci#1', 'fci#2',\n       'debq##', 'ipaq##', 'hand##', 'spsrq##', 'yfas', 'yfas17',\n       'bisbas##', 'pfs##', 'hrsfasting', 'sex', 'sleep'], dtype=object)"
     },
     "metadata": {},
     "output_type": "execute_result",
     "execution_count": 195
    }
   ],
   "source": [
    "var_df[\"Variable Name\"].unique()\n"
   ],
   "metadata": {
    "collapsed": false,
    "pycharm": {
     "name": "#%%\n",
     "is_executing": false
    }
   }
  },
  {
   "cell_type": "code",
   "execution_count": 196,
   "outputs": [
    {
     "data": {
      "text/plain": "'[INFO] fci1: '"
     },
     "metadata": {},
     "output_type": "display_data"
    },
    {
     "data": {
      "text/plain": "   Variable Name Range                 Format Label\n22         fci#1     1                    1 = Never\n23         fci#1     2   2 = Rarely (once or twice)\n24         fci#1     3                3 = Sometimes\n25         fci#1     4                    4 = Often\n26         fci#1     5  5 = Always/Almost Every Day",
      "text/html": "<div>\n<style scoped>\n    .dataframe tbody tr th:only-of-type {\n        vertical-align: middle;\n    }\n\n    .dataframe tbody tr th {\n        vertical-align: top;\n    }\n\n    .dataframe thead th {\n        text-align: right;\n    }\n</style>\n<table border=\"1\" class=\"dataframe\">\n  <thead>\n    <tr style=\"text-align: right;\">\n      <th></th>\n      <th>Variable Name</th>\n      <th>Range</th>\n      <th>Format Label</th>\n    </tr>\n  </thead>\n  <tbody>\n    <tr>\n      <th>22</th>\n      <td>fci#1</td>\n      <td>1</td>\n      <td>1 = Never</td>\n    </tr>\n    <tr>\n      <th>23</th>\n      <td>fci#1</td>\n      <td>2</td>\n      <td>2 = Rarely (once or twice)</td>\n    </tr>\n    <tr>\n      <th>24</th>\n      <td>fci#1</td>\n      <td>3</td>\n      <td>3 = Sometimes</td>\n    </tr>\n    <tr>\n      <th>25</th>\n      <td>fci#1</td>\n      <td>4</td>\n      <td>4 = Often</td>\n    </tr>\n    <tr>\n      <th>26</th>\n      <td>fci#1</td>\n      <td>5</td>\n      <td>5 = Always/Almost Every Day</td>\n    </tr>\n  </tbody>\n</table>\n</div>"
     },
     "metadata": {},
     "output_type": "display_data"
    },
    {
     "data": {
      "text/plain": "'[INFO] fci2: '"
     },
     "metadata": {},
     "output_type": "display_data"
    },
    {
     "data": {
      "text/plain": "   Variable Name Range       Format Label\n27         fci#2     1        1 = Dislike\n28         fci#2     2  2 = Like a Little\n29         fci#2     3     3 = Like a Lot\n30         fci#2     4           4 = Love",
      "text/html": "<div>\n<style scoped>\n    .dataframe tbody tr th:only-of-type {\n        vertical-align: middle;\n    }\n\n    .dataframe tbody tr th {\n        vertical-align: top;\n    }\n\n    .dataframe thead th {\n        text-align: right;\n    }\n</style>\n<table border=\"1\" class=\"dataframe\">\n  <thead>\n    <tr style=\"text-align: right;\">\n      <th></th>\n      <th>Variable Name</th>\n      <th>Range</th>\n      <th>Format Label</th>\n    </tr>\n  </thead>\n  <tbody>\n    <tr>\n      <th>27</th>\n      <td>fci#2</td>\n      <td>1</td>\n      <td>1 = Dislike</td>\n    </tr>\n    <tr>\n      <th>28</th>\n      <td>fci#2</td>\n      <td>2</td>\n      <td>2 = Like a Little</td>\n    </tr>\n    <tr>\n      <th>29</th>\n      <td>fci#2</td>\n      <td>3</td>\n      <td>3 = Like a Lot</td>\n    </tr>\n    <tr>\n      <th>30</th>\n      <td>fci#2</td>\n      <td>4</td>\n      <td>4 = Love</td>\n    </tr>\n  </tbody>\n</table>\n</div>"
     },
     "metadata": {},
     "output_type": "display_data"
    },
    {
     "data": {
      "text/plain": "'[INFO] original: '"
     },
     "metadata": {},
     "output_type": "display_data"
    },
    {
     "data": {
      "text/plain": "           w1behav_fci#1_1 w1behav_fci#1_2         w1behav_fci#1_3  \\\n7   Rarely (once or twice)       Sometimes               Sometimes   \n8                Sometimes       Sometimes                   Never   \n9                Sometimes       Sometimes                   Never   \n10               Sometimes       Sometimes                   Never   \n11               Sometimes           Often  Rarely (once or twice)   \n\n           w1behav_fci#1_4         w1behav_fci#1_5         w1behav_fci#1_6  \\\n7                    Never  Rarely (once or twice)               Sometimes   \n8                    Never                   Never                   Never   \n9                    Never                   Never                   Never   \n10                   Never                   Never                   Never   \n11  Rarely (once or twice)                   Often  Rarely (once or twice)   \n\n           w1behav_fci#1_7         w1behav_fci#1_8         w1behav_fci#1_9  \\\n7                Sometimes                   Never  Rarely (once or twice)   \n8                    Never  Rarely (once or twice)                   Never   \n9                Sometimes               Sometimes  Rarely (once or twice)   \n10  Rarely (once or twice)  Rarely (once or twice)                   Never   \n11               Sometimes               Sometimes               Sometimes   \n\n          w1behav_fci#1_10  ... w1behav_fci#2_19 w1behav_fci#2_20  \\\n7                Sometimes  ...    Like a Little    Like a Little   \n8   Rarely (once or twice)  ...       Like a Lot          Dislike   \n9                    Never  ...          Dislike    Like a Little   \n10                   Never  ...    Like a Little    Like a Little   \n11                   Never  ...       Like a Lot       Like a Lot   \n\n   w1behav_fci#2_21 w1behav_fci#2_22 w1behav_fci#2_23 w1behav_fci#2_24  \\\n7     Like a Little    Like a Little    Like a Little    Like a Little   \n8        Like a Lot          Dislike          Dislike          Dislike   \n9        Like a Lot          Dislike             Love       Like a Lot   \n10    Like a Little       Like a Lot    Like a Little       Like a Lot   \n11             Love             Love             Love       Like a Lot   \n\n   w1behav_fci#2_25 w1behav_fci#2_26 w1behav_fci#2_27 w1behav_fci#2_28  \n7     Like a Little             Love    Like a Little          Dislike  \n8        Like a Lot       Like a Lot       Like a Lot    Like a Little  \n9              Love    Like a Little       Like a Lot    Like a Little  \n10       Like a Lot    Like a Little       Like a Lot    Like a Little  \n11             Love    Like a Little    Like a Little    Like a Little  \n\n[5 rows x 56 columns]",
      "text/html": "<div>\n<style scoped>\n    .dataframe tbody tr th:only-of-type {\n        vertical-align: middle;\n    }\n\n    .dataframe tbody tr th {\n        vertical-align: top;\n    }\n\n    .dataframe thead th {\n        text-align: right;\n    }\n</style>\n<table border=\"1\" class=\"dataframe\">\n  <thead>\n    <tr style=\"text-align: right;\">\n      <th></th>\n      <th>w1behav_fci#1_1</th>\n      <th>w1behav_fci#1_2</th>\n      <th>w1behav_fci#1_3</th>\n      <th>w1behav_fci#1_4</th>\n      <th>w1behav_fci#1_5</th>\n      <th>w1behav_fci#1_6</th>\n      <th>w1behav_fci#1_7</th>\n      <th>w1behav_fci#1_8</th>\n      <th>w1behav_fci#1_9</th>\n      <th>w1behav_fci#1_10</th>\n      <th>...</th>\n      <th>w1behav_fci#2_19</th>\n      <th>w1behav_fci#2_20</th>\n      <th>w1behav_fci#2_21</th>\n      <th>w1behav_fci#2_22</th>\n      <th>w1behav_fci#2_23</th>\n      <th>w1behav_fci#2_24</th>\n      <th>w1behav_fci#2_25</th>\n      <th>w1behav_fci#2_26</th>\n      <th>w1behav_fci#2_27</th>\n      <th>w1behav_fci#2_28</th>\n    </tr>\n  </thead>\n  <tbody>\n    <tr>\n      <th>7</th>\n      <td>Rarely (once or twice)</td>\n      <td>Sometimes</td>\n      <td>Sometimes</td>\n      <td>Never</td>\n      <td>Rarely (once or twice)</td>\n      <td>Sometimes</td>\n      <td>Sometimes</td>\n      <td>Never</td>\n      <td>Rarely (once or twice)</td>\n      <td>Sometimes</td>\n      <td>...</td>\n      <td>Like a Little</td>\n      <td>Like a Little</td>\n      <td>Like a Little</td>\n      <td>Like a Little</td>\n      <td>Like a Little</td>\n      <td>Like a Little</td>\n      <td>Like a Little</td>\n      <td>Love</td>\n      <td>Like a Little</td>\n      <td>Dislike</td>\n    </tr>\n    <tr>\n      <th>8</th>\n      <td>Sometimes</td>\n      <td>Sometimes</td>\n      <td>Never</td>\n      <td>Never</td>\n      <td>Never</td>\n      <td>Never</td>\n      <td>Never</td>\n      <td>Rarely (once or twice)</td>\n      <td>Never</td>\n      <td>Rarely (once or twice)</td>\n      <td>...</td>\n      <td>Like a Lot</td>\n      <td>Dislike</td>\n      <td>Like a Lot</td>\n      <td>Dislike</td>\n      <td>Dislike</td>\n      <td>Dislike</td>\n      <td>Like a Lot</td>\n      <td>Like a Lot</td>\n      <td>Like a Lot</td>\n      <td>Like a Little</td>\n    </tr>\n    <tr>\n      <th>9</th>\n      <td>Sometimes</td>\n      <td>Sometimes</td>\n      <td>Never</td>\n      <td>Never</td>\n      <td>Never</td>\n      <td>Never</td>\n      <td>Sometimes</td>\n      <td>Sometimes</td>\n      <td>Rarely (once or twice)</td>\n      <td>Never</td>\n      <td>...</td>\n      <td>Dislike</td>\n      <td>Like a Little</td>\n      <td>Like a Lot</td>\n      <td>Dislike</td>\n      <td>Love</td>\n      <td>Like a Lot</td>\n      <td>Love</td>\n      <td>Like a Little</td>\n      <td>Like a Lot</td>\n      <td>Like a Little</td>\n    </tr>\n    <tr>\n      <th>10</th>\n      <td>Sometimes</td>\n      <td>Sometimes</td>\n      <td>Never</td>\n      <td>Never</td>\n      <td>Never</td>\n      <td>Never</td>\n      <td>Rarely (once or twice)</td>\n      <td>Rarely (once or twice)</td>\n      <td>Never</td>\n      <td>Never</td>\n      <td>...</td>\n      <td>Like a Little</td>\n      <td>Like a Little</td>\n      <td>Like a Little</td>\n      <td>Like a Lot</td>\n      <td>Like a Little</td>\n      <td>Like a Lot</td>\n      <td>Like a Lot</td>\n      <td>Like a Little</td>\n      <td>Like a Lot</td>\n      <td>Like a Little</td>\n    </tr>\n    <tr>\n      <th>11</th>\n      <td>Sometimes</td>\n      <td>Often</td>\n      <td>Rarely (once or twice)</td>\n      <td>Rarely (once or twice)</td>\n      <td>Often</td>\n      <td>Rarely (once or twice)</td>\n      <td>Sometimes</td>\n      <td>Sometimes</td>\n      <td>Sometimes</td>\n      <td>Never</td>\n      <td>...</td>\n      <td>Like a Lot</td>\n      <td>Like a Lot</td>\n      <td>Love</td>\n      <td>Love</td>\n      <td>Love</td>\n      <td>Like a Lot</td>\n      <td>Love</td>\n      <td>Like a Little</td>\n      <td>Like a Little</td>\n      <td>Like a Little</td>\n    </tr>\n  </tbody>\n</table>\n<p>5 rows × 56 columns</p>\n</div>"
     },
     "metadata": {},
     "output_type": "display_data"
    },
    {
     "name": "stderr",
     "text": [
      "/Users/nikkibytes/miniconda3/lib/python3.7/site-packages/pandas/core/frame.py:4172: SettingWithCopyWarning: \nA value is trying to be set on a copy of a slice from a DataFrame\n\nSee the caveats in the documentation: https://pandas.pydata.org/pandas-docs/stable/user_guide/indexing.html#returning-a-view-versus-a-copy\n  method=method,\n"
     ],
     "output_type": "stream"
    },
    {
     "data": {
      "text/plain": "'[INFO] updated version: '"
     },
     "metadata": {},
     "output_type": "display_data"
    },
    {
     "data": {
      "text/plain": "   w1behav_fci#1_1 w1behav_fci#1_2 w1behav_fci#1_3 w1behav_fci#1_4  \\\n7                2               3               3               1   \n8                3               3               1               1   \n9                3               3               1               1   \n10               3               3               1               1   \n11               3               4               2               2   \n\n   w1behav_fci#1_5 w1behav_fci#1_6 w1behav_fci#1_7 w1behav_fci#1_8  \\\n7                2               3               3               1   \n8                1               1               1               2   \n9                1               1               3               3   \n10               1               1               2               2   \n11               4               2               3               3   \n\n   w1behav_fci#1_9 w1behav_fci#1_10  ... w1behav_fci#2_19 w1behav_fci#2_20  \\\n7                2                3  ...                2                2   \n8                1                2  ...                3                1   \n9                2                1  ...                1                2   \n10               1                1  ...                2                2   \n11               3                1  ...                3                3   \n\n   w1behav_fci#2_21 w1behav_fci#2_22 w1behav_fci#2_23 w1behav_fci#2_24  \\\n7                 2                2                2                2   \n8                 3                1                1                1   \n9                 3                1                4                3   \n10                2                3                2                3   \n11                4                4                4                3   \n\n   w1behav_fci#2_25 w1behav_fci#2_26 w1behav_fci#2_27 w1behav_fci#2_28  \n7                 2                4                2                1  \n8                 3                3                3                2  \n9                 4                2                3                2  \n10                3                2                3                2  \n11                4                2                2                2  \n\n[5 rows x 56 columns]",
      "text/html": "<div>\n<style scoped>\n    .dataframe tbody tr th:only-of-type {\n        vertical-align: middle;\n    }\n\n    .dataframe tbody tr th {\n        vertical-align: top;\n    }\n\n    .dataframe thead th {\n        text-align: right;\n    }\n</style>\n<table border=\"1\" class=\"dataframe\">\n  <thead>\n    <tr style=\"text-align: right;\">\n      <th></th>\n      <th>w1behav_fci#1_1</th>\n      <th>w1behav_fci#1_2</th>\n      <th>w1behav_fci#1_3</th>\n      <th>w1behav_fci#1_4</th>\n      <th>w1behav_fci#1_5</th>\n      <th>w1behav_fci#1_6</th>\n      <th>w1behav_fci#1_7</th>\n      <th>w1behav_fci#1_8</th>\n      <th>w1behav_fci#1_9</th>\n      <th>w1behav_fci#1_10</th>\n      <th>...</th>\n      <th>w1behav_fci#2_19</th>\n      <th>w1behav_fci#2_20</th>\n      <th>w1behav_fci#2_21</th>\n      <th>w1behav_fci#2_22</th>\n      <th>w1behav_fci#2_23</th>\n      <th>w1behav_fci#2_24</th>\n      <th>w1behav_fci#2_25</th>\n      <th>w1behav_fci#2_26</th>\n      <th>w1behav_fci#2_27</th>\n      <th>w1behav_fci#2_28</th>\n    </tr>\n  </thead>\n  <tbody>\n    <tr>\n      <th>7</th>\n      <td>2</td>\n      <td>3</td>\n      <td>3</td>\n      <td>1</td>\n      <td>2</td>\n      <td>3</td>\n      <td>3</td>\n      <td>1</td>\n      <td>2</td>\n      <td>3</td>\n      <td>...</td>\n      <td>2</td>\n      <td>2</td>\n      <td>2</td>\n      <td>2</td>\n      <td>2</td>\n      <td>2</td>\n      <td>2</td>\n      <td>4</td>\n      <td>2</td>\n      <td>1</td>\n    </tr>\n    <tr>\n      <th>8</th>\n      <td>3</td>\n      <td>3</td>\n      <td>1</td>\n      <td>1</td>\n      <td>1</td>\n      <td>1</td>\n      <td>1</td>\n      <td>2</td>\n      <td>1</td>\n      <td>2</td>\n      <td>...</td>\n      <td>3</td>\n      <td>1</td>\n      <td>3</td>\n      <td>1</td>\n      <td>1</td>\n      <td>1</td>\n      <td>3</td>\n      <td>3</td>\n      <td>3</td>\n      <td>2</td>\n    </tr>\n    <tr>\n      <th>9</th>\n      <td>3</td>\n      <td>3</td>\n      <td>1</td>\n      <td>1</td>\n      <td>1</td>\n      <td>1</td>\n      <td>3</td>\n      <td>3</td>\n      <td>2</td>\n      <td>1</td>\n      <td>...</td>\n      <td>1</td>\n      <td>2</td>\n      <td>3</td>\n      <td>1</td>\n      <td>4</td>\n      <td>3</td>\n      <td>4</td>\n      <td>2</td>\n      <td>3</td>\n      <td>2</td>\n    </tr>\n    <tr>\n      <th>10</th>\n      <td>3</td>\n      <td>3</td>\n      <td>1</td>\n      <td>1</td>\n      <td>1</td>\n      <td>1</td>\n      <td>2</td>\n      <td>2</td>\n      <td>1</td>\n      <td>1</td>\n      <td>...</td>\n      <td>2</td>\n      <td>2</td>\n      <td>2</td>\n      <td>3</td>\n      <td>2</td>\n      <td>3</td>\n      <td>3</td>\n      <td>2</td>\n      <td>3</td>\n      <td>2</td>\n    </tr>\n    <tr>\n      <th>11</th>\n      <td>3</td>\n      <td>4</td>\n      <td>2</td>\n      <td>2</td>\n      <td>4</td>\n      <td>2</td>\n      <td>3</td>\n      <td>3</td>\n      <td>3</td>\n      <td>1</td>\n      <td>...</td>\n      <td>3</td>\n      <td>3</td>\n      <td>4</td>\n      <td>4</td>\n      <td>4</td>\n      <td>3</td>\n      <td>4</td>\n      <td>2</td>\n      <td>2</td>\n      <td>2</td>\n    </tr>\n  </tbody>\n</table>\n<p>5 rows × 56 columns</p>\n</div>"
     },
     "metadata": {},
     "output_type": "display_data"
    }
   ],
   "source": [
    "fci1_code= var_df.loc[var_df[\"Variable Name\"] == 'fci#1' ]\n",
    "display('[INFO] fci1: ', fci1_code)\n",
    "fci2_code= var_df.loc[var_df[\"Variable Name\"] == 'fci#2' ]\n",
    "display('[INFO] fci2: ', fci2_code)\n",
    "\n",
    "display('[INFO] original: ', fci_df.head())\n",
    "\n",
    "for val in fci1_code[\"Format Label\"]:\n",
    "    code_str = val.split(\"=\")[1].lstrip(\" \")\n",
    "    code_range = val.split(\"=\")[0].strip(\" \")\n",
    "    #print(code_str ,code_range)\n",
    "    fci_df.replace(code_str, code_range, inplace=True)\n",
    "    \n",
    "\n",
    "for val in fci2_code[\"Format Label\"]:\n",
    "    code_str = val.split(\"=\")[1].lstrip(\" \")\n",
    "    code_range = val.split(\"=\")[0].strip(\" \")\n",
    "    #print(code_str ,code_range)\n",
    "    fci_df.replace(code_str, code_range, inplace=True)  \n",
    "\n",
    "display('[INFO] updated version: ', fci_df.head())"
   ],
   "metadata": {
    "collapsed": false,
    "pycharm": {
     "name": "#%%\n",
     "is_executing": false
    }
   }
  },
  {
   "cell_type": "code",
   "execution_count": 197,
   "outputs": [],
   "source": [
    "fci_calc =  var_score_df[var_score_df['Set'] == \"FCI\"]\n"
   ],
   "metadata": {
    "collapsed": false,
    "pycharm": {
     "name": "#%%\n",
     "is_executing": false
    }
   }
  },
  {
   "cell_type": "code",
   "source": [
    "## FCI Calculations"
   ],
   "metadata": {
    "collapsed": false,
    "pycharm": {
     "name": "#%% md \n",
     "is_executing": false
    }
   },
   "execution_count": 203,
   "outputs": []
  },
  {
   "cell_type": "code",
   "execution_count": 213,
   "outputs": [
    {
     "name": "stdout",
     "text": [
      "Adding variable, w1behav_fci#1_3: 1,  to 0 \nAdding variable, w1behav_fci#1_6: 1,  to 1 \nAdding variable, w1behav_fci#1_4: 1,  to 2 \nAdding variable, w1behav_fci#1_15: 1,  to 3 \nAdding variable, w1behav_fci#1_26: 1,  to 4 \nAdding variable, w1behav_fci#1_19: 3,  to 5 \nAdding variable, w1behav_fci#1_10: 1,  to 8 \nAdding variable, w1behav_fci#1_27: 1,  to 9 \nTOTAL SUM:  10\nMEAN:  1.25\n"
     ],
     "output_type": "stream"
    }
   ],
   "source": [
    "for index, row in fci_calc[0:1].iterrows():\n",
    "    output= row[\"Output\"]\n",
    "    calc = row[\"Calculation\"]\n",
    "    #method = calc.split(\"(\")[0]\n",
    "      # starting calculation\n",
    "    if \"MEAN\" in calc:\n",
    "        final_avg=0\n",
    "        \n",
    "        total_sum = 0 \n",
    "        # stripped away the SUM and \"()\" \n",
    "        variables = calc.strip(\"MEAN\").strip(\"()\")\n",
    "        variables=[x.strip(\" \") for x in variables.split(\",\") ]\n",
    "        var_ct=len(variables)\n",
    "        #print(var_ct)\n",
    "\n",
    "        # loop through variables \n",
    "        for x in variables:\n",
    "            var=x\n",
    "            #print(index)\n",
    "            # have target variable, find numeric value in df\n",
    "            var_val = fci_df.loc[index, var]\n",
    "            print(\"Adding variable, {}: {},  to {} \".format(var,var_val, total_sum))\n",
    "            #print(fci_df.loc[index, :])\n",
    "            total_sum += int(var_val)\n",
    "            \n",
    "        print(\"TOTAL SUM: \", total_sum)\n",
    "        print(\"MEAN: \", total_sum/var_ct)"
   ],
   "metadata": {
    "collapsed": false,
    "pycharm": {
     "name": "#%%\n",
     "is_executing": false
    }
   }
  },
  {
   "cell_type": "code",
   "execution_count": null,
   "outputs": [],
   "source": [
    "\n"
   ],
   "metadata": {
    "collapsed": false,
    "pycharm": {
     "name": "#%%\n"
    }
   }
  }
 ],
 "metadata": {
  "kernelspec": {
   "display_name": "Python 3",
   "language": "python",
   "name": "python3"
  },
  "language_info": {
   "codemirror_mode": {
    "name": "ipython",
    "version": 3
   },
   "file_extension": ".py",
   "mimetype": "text/x-python",
   "name": "python",
   "nbconvert_exporter": "python",
   "pygments_lexer": "ipython3",
   "version": "3.7.4"
  },
  "widgets": {
   "application/vnd.jupyter.widget-state+json": {
    "state": {},
    "version_major": 2,
    "version_minor": 0
   }
  },
  "pycharm": {
   "stem_cell": {
    "cell_type": "raw",
    "source": [],
    "metadata": {
     "collapsed": false
    }
   }
  }
 },
 "nbformat": 4,
 "nbformat_minor": 4
}