{
 "cells": [
  {
   "cell_type": "code",
   "execution_count": 1,
   "metadata": {},
   "outputs": [],
   "source": [
    "# Test package"
   ]
  },
  {
   "cell_type": "code",
   "execution_count": 2,
   "metadata": {},
   "outputs": [],
   "source": [
    "import bbx_timing_parser\n",
    "import warnings\n",
    "warnings.filterwarnings('ignore')"
   ]
  },
  {
   "cell_type": "code",
   "execution_count": 3,
   "metadata": {},
   "outputs": [],
   "source": [
    "# Load data\n",
    "\n",
    "def test_data_grab(obj):\n",
    "    log_files=obj.get_files()\n",
    "    return log_files;\n",
    "\n",
    "def test_file_load(obj, log_files):\n",
    "    \n",
    "    for file in log_files:\n",
    "        #print(\"\\n[INFO] file \", file)\n",
    "        obj.load_file(file, output_path, False)\n",
    "        "
   ]
  },
  {
   "cell_type": "code",
   "execution_count": 4,
   "metadata": {},
   "outputs": [
    {
     "name": "stdout",
     "output_type": "stream",
     "text": [
      "[INFO] starting program\n",
      "No columns to parse from file\n",
      "No columns to parse from file\n",
      "No columns to parse from file\n",
      "No columns to parse from file\n",
      "No columns to parse from file\n",
      "No columns to parse from file\n",
      "No columns to parse from file\n",
      "No columns to parse from file\n",
      "No columns to parse from file\n",
      "No columns to parse from file\n",
      "No columns to parse from file\n"
     ]
    }
   ],
   "source": [
    "## Set Variables\n",
    "data_folder=\"/Users/nikkibytes/Documents/nibl folder/local_dev/bbx/log_files\"\n",
    "output_path='/Users/nikkibytes/Documents/nibl folder/local_dev/bbx/output_onsets'\n",
    "## Run program\n",
    "print(\"[INFO] starting program\")\n",
    "obj=bbx_timing_parser.OnsetSetup(data_folder) # initialize onset object\n",
    "log_files=test_data_grab(obj) \n",
    "test_file_load(obj, log_files)\n",
    "#print(\"[INFO] finished process.\")"
   ]
  },
  {
   "cell_type": "code",
   "execution_count": null,
   "metadata": {},
   "outputs": [],
   "source": []
  },
  {
   "cell_type": "code",
   "execution_count": null,
   "metadata": {},
   "outputs": [],
   "source": []
  }
 ],
 "metadata": {
  "kernelspec": {
   "display_name": "Python 3",
   "language": "python",
   "name": "python3"
  },
  "language_info": {
   "codemirror_mode": {
    "name": "ipython",
    "version": 3
   },
   "file_extension": ".py",
   "mimetype": "text/x-python",
   "name": "python",
   "nbconvert_exporter": "python",
   "pygments_lexer": "ipython3",
   "version": "3.7.4"
  },
  "widgets": {
   "application/vnd.jupyter.widget-state+json": {
    "state": {},
    "version_major": 2,
    "version_minor": 0
   }
  }
 },
 "nbformat": 4,
 "nbformat_minor": 4
}
