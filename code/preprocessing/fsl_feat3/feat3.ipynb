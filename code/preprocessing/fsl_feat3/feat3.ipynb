{
 "cells": [
  {
   "cell_type": "markdown",
   "metadata": {},
   "source": [
    "# Feat 3"
   ]
  },
  {
   "cell_type": "code",
   "execution_count": 39,
   "metadata": {},
   "outputs": [],
   "source": [
    "import glob, os, re\n",
    "import subprocess"
   ]
  },
  {
   "cell_type": "code",
   "execution_count": 53,
   "metadata": {},
   "outputs": [
    {
     "name": "stdout",
     "output_type": "stream",
     "text": [
      ">>>-----> Writing output file:  /projects/niblab/bids_projects/Experiments/bbx/bids/derivatives/analysis/feat3/ses-1/cope1.fsf\n",
      ">>>-----> Writing output file:  /projects/niblab/bids_projects/Experiments/bbx/bids/derivatives/analysis/feat3/ses-1/cope2.fsf\n",
      ">>>-----> Writing output file:  /projects/niblab/bids_projects/Experiments/bbx/bids/derivatives/analysis/feat3/ses-1/cope3.fsf\n",
      ">>>-----> Writing output file:  /projects/niblab/bids_projects/Experiments/bbx/bids/derivatives/analysis/feat3/ses-1/cope4.fsf\n",
      ">>>-----> Writing output file:  /projects/niblab/bids_projects/Experiments/bbx/bids/derivatives/analysis/feat3/ses-1/cope5.fsf\n",
      ">>>-----> Writing output file:  /projects/niblab/bids_projects/Experiments/bbx/bids/derivatives/analysis/feat3/ses-1/cope6.fsf\n",
      ">>>-----> Writing output file:  /projects/niblab/bids_projects/Experiments/bbx/bids/derivatives/analysis/feat3/ses-1/cope7.fsf\n",
      ">>>-----> Complete. \n"
     ]
    }
   ],
   "source": [
    "\n",
    "\n",
    "def make_dict(cope_dict,x):\n",
    "    cope_dict[x] = {}\n",
    "\n",
    "\n",
    "def make_fsfs(num_of_copes, num_of_input, template_file, deriv_dir, cope_dict):\n",
    "\n",
    "    # loop through copes and make design file for each\n",
    "    for cope_num in range(1, num_of_copes+1):\n",
    "        # make dictionary\n",
    "        make_dict(cope_dict, cope_num)\n",
    "        if cope_num == 1:\n",
    "            cope_name = 'ssbcue_%s'%num_of_input\n",
    "        elif cope_num == 2:\n",
    "            cope_name = 'usbcue_%s'%num_of_input\n",
    "        elif cope_num == 3:\n",
    "            cope_name = 'h20cue_%s'%num_of_input\n",
    "        elif cope_num == 4:\n",
    "            cope_name = 'ssbtaste_%s'%num_of_input\n",
    "        elif cope_num == 5:\n",
    "            cope_name = 'usbtaste_%s'%num_of_input\n",
    "        elif cope_num == 6:\n",
    "            cope_name = 'h20taste_%s'%num_of_input\n",
    "        elif cope_num == 7:\n",
    "            cope_name = 'ssbcue>h20cue_%s'%num_of_input\n",
    "        elif cope_num == 8:\n",
    "            cope_name = 'usbcue>h20cue_%s'%num_of_input\n",
    "        elif cope_num == 9:\n",
    "            cope_name = 'ssbcue+usbcue>h20cue_%s'%num_of_input\n",
    "        elif cope_num == 10:\n",
    "            cope_name = 'ssbtaste>h20taste_%s'%num_of_input\n",
    "        elif cope_num == 11:\n",
    "            cope_name = 'usbtaste>h20taste_%s'%num_of_input\n",
    "        elif cope_num == 12:\n",
    "            cope_name = 'ssbtaste+usbtaste>h20taste_%s'%num_of_input\n",
    "        elif cope_num == 13:\n",
    "            cope_name = 'h20taste>rinse_%s'%num_of_input\n",
    "        elif cope_num == 14:\n",
    "            cope_name = 'ssbcue>usbcue_%s'%num_of_input\n",
    "        elif cope_num == 15:\n",
    "            cope_name = 'usbcue>ssbcue_%s'%num_of_input\n",
    "        elif cope_num == 16:\n",
    "            cope_name = 'ssbtaste>usbtaste_%s'%num_of_input\n",
    "        elif cope_num == 17:\n",
    "            cope_name = 'usbtaste>ssbtaste_%s'%num_of_input\n",
    "        elif cope_num == 18:\n",
    "            cope_name = 'rinse_%s'%num_of_input\n",
    "        elif cope_num == 19:\n",
    "            cope_name = 'ssbtaste>rinse_%s'%num_of_input\n",
    "        elif cope_num == 20: \n",
    "            cope_name = 'usbtaste>rinse_%s'%num_of_input\n",
    "        else: \n",
    "            cope_name=cope\n",
    "        \n",
    "        \n",
    "        #OUTPUTDIR = os.path.join(deriv_dir, 'group_ana/cope%s_ses-1'%cope_num)\n",
    "        OUTPUTDIR = os.path.join('/projects/niblab/experiments/bbx/data/group_analysis/fsl_feat3/ses-1/new_run/%s'%cope_name)\n",
    "        \n",
    "        #print(\">>>---> REPLACING 'OUTPUT' > %s\"%OUTPUTDIR)\n",
    "        sess = 'ses-1'\n",
    "        #print(\"RUNNING ON SESSION \", sess )\n",
    "        COPES = glob.glob(os.path.join(deriv_dir, \"sub-*\", sess,'func/Analysis/feat2/sub-*fsl.gfeat/cope%s.feat'%cope_num))\n",
    "        COPES = sorted(COPES)\n",
    "        print(\"[INFO] %s cope files found.\"%len(COPES))\n",
    "        # fill dictionary\n",
    "        for x,cope in enumerate(COPES):\n",
    "            count=int(x)+1\n",
    "            #print(count)\n",
    "            if count > 9:\n",
    "                INPUTX = \"INPUT_%i\"%(count)\n",
    "            else:\n",
    "                INPUTX = \"INPUT%i\"%(count)\n",
    "            cope_dict[cope_num][INPUTX] = cope\n",
    "            \n",
    "            #print(\"%s : \\t%s\"%(INPUTX,cope))\n",
    "        #print(cope_dict)\n",
    "        \n",
    "        # open and fill template file\n",
    "        with open(template_file, 'r') as infile:\n",
    "            tempfsf=infile.read()\n",
    "            tempfsf = tempfsf.replace(\"OUTPUT\", OUTPUTDIR)\n",
    "            for input_title in sorted(cope_dict[cope_num]):\n",
    "                input_ = cope_dict[cope_num][input_title]\n",
    "                #print(\"\\nTITLE: \\t{} \\n\\nINPUT: \\t{}\".format(input_title,input_))\n",
    "                #input_match = re.compile(r\"\\b%s\\b\"%(input_title))\n",
    "                #print(input_match)\n",
    "                tempfsf = re.sub(r\"\\b%s\\b\"%(input_title), input_, tempfsf)\n",
    "                #tempfsf = tempfsf.replace(\"%s\"%input_match, input_)\n",
    "            OUTFILE_PATH = os.path.join('/projects/niblab/experiments/bbx/data/group_analysis/fsl_feat3/ses-1/new_run/%s.fsf'%(cope_name))\n",
    "            \n",
    "            #print(tempfsf)\n",
    "            with open(OUTFILE_PATH, 'w') as outfile:\n",
    "                print(\"[INFO] Writing output file: \", OUTFILE_PATH)\n",
    "                outfile.write(tempfsf)\n",
    "            outfile.close()\n",
    "        infile.close()\n",
    "    print(\"[INFO] Complete. \")\n",
    "def main():\n",
    "    # SET OUR RELEVANT PATHS\n",
    "    deriv_dir = \"/projects/niblab/experiments/bbx/data/preprocessed\"\n",
    "    #cope_dict[x] = {}\n",
    "\n",
    "    template_file = os.path.join('/projects/niblab/experiments/bbx/code/design_files/design3_129.fsf')\n",
    "    # get the number of cope files to make (# of copes)\n",
    "    num_of_copes = 20\n",
    "    num_of_input = 129\n",
    "    cope_dict = {}\n",
    "    make_fsfs(num_of_copes, num_of_input, template_file, deriv_dir, cope_dict)\n",
    "\n",
    "main()"
   ]
  },
  {
   "cell_type": "code",
   "execution_count": null,
   "outputs": [],
   "source": [
    "fsf_files=glob.glob( \n",
    "    '/projects/niblab/experiments/bbx/data/group_analysis/fsl_feat3/ses-1/new_run/*.fsf')\n",
    "print(\"[INFO] {} fsl files found.\".format(len(fsf_files)))\n",
    "\n",
    "## run fsf files\n",
    "for fsf in sorted(fsf_files):\n",
    "    feat_cmd=\"Feat {} &\".format(fsf)\n",
    "    #subprocess.cal(feat_cmd, shell=True)\n",
    "    #print(\"[INFO] submitted command: \\n> %s\"%feat_cmd)\n",
    "    p = subprocess.Popen([\"feat\", fsf, \"&\"], stdout=subprocess.PIPE, stderr=subprocess.PIPE, universal_newlines=True)\n",
    "\n",
    "    output, errors = p.communicate()\n",
    "\n",
    "    output"
   ],
   "metadata": {
    "collapsed": false,
    "pycharm": {
     "name": "#%%\n"
    }
   }
  }
 ],
 "metadata": {
  "kernelspec": {
   "display_name": "Python 3",
   "language": "python",
   "name": "python3"
  },
  "language_info": {
   "codemirror_mode": {
    "name": "ipython",
    "version": 3
   },
   "file_extension": ".py",
   "mimetype": "text/x-python",
   "name": "python",
   "nbconvert_exporter": "python",
   "pygments_lexer": "ipython3",
   "version": "3.7.3"
  },
  "pycharm": {
   "stem_cell": {
    "cell_type": "raw",
    "source": [],
    "metadata": {
     "collapsed": false
    }
   }
  }
 },
 "nbformat": 4,
 "nbformat_minor": 4
}