{
 "cells": [
  {
   "cell_type": "markdown",
   "metadata": {},
   "source": [
    "# Timeseries Pull\n",
    "Pull ROI timeseries from a parcellation atlas for the BBx timeseries.  "
   ]
  },
  {
   "cell_type": "code",
   "execution_count": 1,
   "metadata": {},
   "outputs": [],
   "source": [
    "import glob\n",
    "import os\n",
    "import pandas as pd\n",
    "import argparse\n",
    "import subprocess\n",
    "import re\n",
    "from IPython.core import display as ICD\n",
    "from os import listdir\n",
    "from multiprocessing import cpu_count\n",
    "from multiprocessing import Pool\n",
    "from shutil import rmtree\n",
    "from subprocess import check_output"
   ]
  },
  {
   "cell_type": "markdown",
   "metadata": {},
   "source": [
    "## Big Brain 300 atlas"
   ]
  },
  {
   "cell_type": "markdown",
   "metadata": {},
   "source": [
    "## Table of Conents:\n",
    "\n",
    "* [Get Input Data](#input)\n",
    "* [Transform functionals with flirt and fslmath](#transform)\n",
    "* [Pull individual ROI timeseries by subject](#pulltimeseries)\n"
   ]
  },
  {
   "cell_type": "code",
   "execution_count": 2,
   "metadata": {},
   "outputs": [],
   "source": [
    "# load and set variables\n",
    "\n",
    "# get data folder file path \n",
    "data_path='/projects/niblab/experiments/bbx/data'\n",
    "beta_path=os.path.join(data_path,'betaseries')\n",
    "\n",
    "# initialize empty variables\n",
    "data_dict={}\n",
    "bad_subs=[]\n"
   ]
  },
  {
   "cell_type": "code",
   "execution_count": 3,
   "metadata": {},
   "outputs": [],
   "source": [
    "\"\"\"\n",
    "## Helper Functions\n",
    "Definitions of the timeseries programs common functions. \n",
    "\"\"\"\n",
    "\n",
    "def chunks(l,n):\n",
    "    return [l[i:i+n] for i in range(0, len(l), n)]\n",
    "\n",
    "############################################################################################################            \n",
    "\n",
    "\n",
    "def set_variables():\n",
    "    # load and set variables\n",
    "\n",
    "    # get data folder file path\n",
    "    data_path = '/projects/niblab/experiments/bbx/data'\n",
    "\n",
    "    # initialize empty variables\n",
    "    data_dict = {}\n",
    "\n",
    "    return data_dict, data_path;\n",
    "\n",
    "############################################################################################################            \n",
    "\n",
    "\n",
    "def get_input_data(data_dict, data_path, fill_dict=True,verbose=True):\n",
    "\n",
    "    # get subject functional data\n",
    "    # -- assumes a certain structure, may need to modify grab for better versatility\n",
    "    functional_niis = glob.glob(os.path.join(data_path, \"preprocessed/sub-*/ses-1/func/*brain.nii.gz\"))\n",
    "    print(\"[INFO] {} functional nifti files found\".format(len(functional_niis)))\n",
    "\n",
    "    # fill dictionary\n",
    "    if fill_dict == True:\n",
    "        #data_dict['func_niis'] = functional_niis\n",
    "        # loop through functionals found and fill in dictionary\n",
    "        for func_file in functional_niis:\n",
    "            # print(func_file.split(\"/\")[-1])\n",
    "\n",
    "            subj_id = func_file.split(\"/\")[-1].split(\"_\")[0]\n",
    "            task_id = func_file.split(\"/\")[-1].split(\"_\")[2]\n",
    "            #print(subj_id, task_id)\n",
    "            if subj_id not in data_dict:\n",
    "                data_dict[subj_id] = {}\n",
    "            if task_id not in data_dict[subj_id]:\n",
    "                data_dict[subj_id][task_id] = {}\n",
    "\n",
    "        print(\"[INFO] Dictionary made, {} keys(subjects) found\".format(len(data_dict.keys())))\n",
    "        \n",
    "        if verbose==True:\n",
    "            print(\"[INFO] Dictionary keys(subjects): \\n%s\"%data_dict.keys())\n",
    "            \n",
    "        \n",
    "############################################################################################################            \n",
    "\n",
    "\n",
    "def tranform_niftis(niftis, verbose=False, run_process=True):\n",
    "    \"\"\"\n",
    "    Transform niftis into correct shape using FSLs flirt command with fslmaths.\n",
    "    We default threshold at 0.9, with the chocolate decoding asymmetrical atlas. \n",
    "    \"\"\"\n",
    "    # get the reference atlas file path \n",
    "    reference_nifti='/projects/niblab/parcellations/chocolate_decoding_rois/mni2ace.nii.gz'\n",
    "    reference_mat='/projects/niblab/parcellations/chocolate_decoding_rois/mni2ace.mat'\n",
    "    \n",
    "    \n",
    "\n",
    "    # loop through functionals \n",
    "    for nii in niftis:\n",
    "        # setup and run flirt\n",
    "        nii=nii.replace('.nii.gz', '')\n",
    "        out=nii+'_3mm'\n",
    "        \n",
    "        # flirt command\n",
    "        flirt_cmd=\"flirt -in {} -ref {} -init {} -applyxfm -out {}\".format(nii, reference_nifti, reference_mat, out)\n",
    "        if verbose != False:\n",
    "            print('[INFO] flirt command: \\n{}'.format(flirt_cmd))\n",
    "        if run_process == True:\n",
    "            os.system(flirt_cmd)\n",
    "\n",
    "        # fslmaths command to threshold --use binary option for transforming masks\n",
    "        fslmaths_cmd='fslmaths {} -thr 0.9 {}'.format(out,out)\n",
    "        if verbose != False:\n",
    "            print('[INFO] fslmaths command: \\n{}'.format(fslmaths_cmd))\n",
    "        if run_process == True:\n",
    "            os.system(fslmaths_cmd)\n",
    "            \n",
    "            \n",
    "\n",
    "############################################################################################################\n",
    "\n",
    "\n",
    "def pull_timeseries(file_list, bb300_path='/projects/niblab/parcellations/bigbrain300',roi_df='/projects/niblab/parcellations/bigbrain300/renaming.csv'):\n",
    "\n",
    "    \n",
    "    bad_subs=[]\n",
    "    #ICD.display(roi_df)\n",
    "\n",
    "    # load asymmetrical nifti roi files\n",
    "    asym_niftis=glob.glob(\"/projects/niblab/parcellations/bigbrain300/MNI152Asymmetrical_3mm/*.nii.gz\")\n",
    "\n",
    "    # load roi list\n",
    "    out_dir = os.path.join(data_path, 'rois/bigbrain300/funcs_uc')\n",
    "    #print('[INFO] output folder: \\t%s \\n'%out_dir)\n",
    "\n",
    "\n",
    "    # loop through the roi file list\n",
    "    #print(roi_list[:3])\n",
    "    for nifti in sorted(file_list):\n",
    "\n",
    "        subj_id = nifti.split(\"/\")[-1].split(\"_\")[0]\n",
    "        task_id = nifti.split(\"/\")[-1].split(\"_\")[2]\n",
    "        #print('[INFO] roi: %s %s \\n%s'%(subj_id, task_id, nifti))\n",
    "\n",
    "        # loop through roi reference list\n",
    "        for ref_nifti in sorted(asym_niftis):\n",
    "            #print('[INFO] reference roi: %s'%ref_nifti)\n",
    "            roi = ref_nifti.split('/')[-1].split(\".\")[0]\n",
    "            out_path = os.path.join(out_dir, \"{}_{}_{}_{}.txt\".format(subj_id, \"ses-1\", task_id, roi))\n",
    "            #print(roi, out_path)\n",
    "            cmd='fslmeants -i {} -o {} -m {}'.format(nifti, out_path, ref_nifti)\n",
    "            try:\n",
    "                #cmd='fslmeants -i {} -o {} -m {}'.format(nifti, out_path, ref_nifti)\n",
    "                print(\"Running shell command: {}\".format(cmd))\n",
    "                #os.system(cmd)\n",
    "                pass\n",
    "            except:\n",
    "                bad_subs.append((subj_id, task_id))\n",
    "        \n",
    "        #print('[INFO] finished processing for %s'%subj_id)\n",
    "        \n",
    "    return \"%s\"%bad_subs\n",
    "\n",
    "   \n",
    "############################################################################################################\n",
    "\n",
    "\"\"\"\n",
    "Pull Timeseries \n",
    "\n",
    "\"\"\"\n",
    "\n",
    "## SUBMIT SLURM \n",
    "def pull_timeseries(file_list, bb300_path='/projects/niblab/parcellations/bigbrain300', \n",
    "                    roi_df='/projects/niblab/parcellations/bigbrain300/renaming.csv', \n",
    "                    verbose=True, run_process=False):\n",
    "\n",
    "    \n",
    "    # initialize variables\n",
    "    bad_subs=[]\n",
    "    \n",
    "    if verbose==True:\n",
    "        ICD.display(roi_df)\n",
    "\n",
    "    # load asymmetrical nifti roi files\n",
    "    asym_niftis=glob.glob(\"/projects/niblab/parcellations/bigbrain300/MNI152Asymmetrical_3mm/*.nii.gz\")\n",
    "\n",
    "    # load roi list\n",
    "    out_dir = os.path.join(data_path, 'timeseries/bigbrain300/funcs_uc')\n",
    "    if verbose==True:\n",
    "        print('[INFO] output folder: \\t%s \\n'%out_dir)\n",
    "\n",
    "\n",
    "    # loop through the roi file list\n",
    "    for nifti in sorted(file_list):\n",
    "\n",
    "        subj_id = nifti.split(\"/\")[-1].split(\"_\")[0]\n",
    "        task_id = nifti.split(\"/\")[-1].split(\"_\")[2]\n",
    "        #print('[INFO] roi: %s %s \\n%s'%(subj_id, task_id, nifti))\n",
    "\n",
    "        # loop through roi reference list\n",
    "        for ref_nifti in sorted(asym_niftis):\n",
    "            #print('[INFO] reference roi: %s'%ref_nifti)\n",
    "            roi = ref_nifti.split('/')[-1].split(\".\")[0]\n",
    "            out_path = os.path.join(out_dir, \"{}_{}_{}_{}.txt\".format(subj_id, \"ses-1\", task_id, roi))\n",
    "            #print(roi, out_path)\n",
    "            cmd='fslmeants -i {} -o {} -m {}'.format(nifti, out_path, ref_nifti)\n",
    "            try:\n",
    "                if verbose==True:\n",
    "                    print(\"Running shell command: {}\".format(cmd))\n",
    "                if run_process==True:\n",
    "                    os.system(cmd)\n",
    "            \n",
    "            except:\n",
    "                bad_subs.append((subj_id, task_id))\n",
    "        \n",
    "        if verbose==True:\n",
    "            print('[INFO] finished processing for %s'%subj_id)\n",
    "        \n",
    "\n",
    "    return \"%s\"%bad_subs\n",
    "\n",
    "   \n",
    "############################################################################################################\n",
    "\n",
    "\n",
    "def fsl_transform(niftis, chunksize=10, poolsize=12):\n",
    "    print('[INFO] transforming functional file shape to match the mask....')\n",
    "    print(\"[INFO] breaking data into chunks, with chunksize: {}\".format(chunksize))\n",
    "    chunk_list=chunks(niftis, chunksize)\n",
    "    print('[INFO] length of chunk list:',len(chunk_list))\n",
    "    with Pool(poolsize) as p:\n",
    "        p.map(tranform_niftis, chunk_list)\n",
    "    print('[INFO] transformation process complete.')\n",
    "    \n",
    "############################################################################################################\n",
    "\n",
    "\n"
   ]
  },
  {
   "cell_type": "markdown",
   "metadata": {},
   "source": [
    "### Main Pipeline"
   ]
  },
  {
   "cell_type": "code",
   "execution_count": 8,
   "metadata": {},
   "outputs": [
    {
     "name": "stdout",
     "output_type": "stream",
     "text": [
      "[INFO] 636 functional nifti files found\n",
      "[INFO] Dictionary made, 129 keys(subjects) found\n",
      "[INFO] transforming functional file shape to match the mask....\n",
      "[INFO] breaking data into chunks, with chunksize: 10\n",
      "[INFO] length of chunk list: 64\n",
      "[INFO] transformation process complete.\n"
     ]
    }
   ],
   "source": [
    "# Step 1: set variables\n",
    "data_dict, data_path=set_variables() \n",
    "\n",
    "# Step 2: get functional input and setup data dictionary\n",
    "get_input_data(data_dict, data_path, fill_dict=True, verbose=False)\n",
    "\n",
    "# Step 3: transform niftis w/ FSLs flirt and fslmaths\n",
    "run_transform=False\n",
    "if run_transform==True:\n",
    "    niftis = glob.glob(os.path.join(data_path, \"preprocessed/sub-*/ses-1/func/*brain.nii.gz\"))\n",
    "    fsl_transform(niftis, chunksize=10, poolsize=12)\n"
   ]
  },
  {
   "cell_type": "code",
   "execution_count": 11,
   "metadata": {},
   "outputs": [
    {
     "name": "stdout",
     "output_type": "stream",
     "text": [
      "[INFO] submitting individual roi timeseries pull slurm job....\n",
      "Submitted batch job 3340981\r\n"
     ]
    }
   ],
   "source": [
    "# Step 4: submit slurm batch job to pull individual bigbrain300 ROIs from subject/condition \n",
    "# with FSL fslmeants command\n",
    "submit_roi_job=False\n",
    "if submit_roi_job==True:\n",
    "    print('[INFO] submitting individual roi timeseries pull slurm job....')\n",
    "    !sbatch /projects/niblab/experiments/bbx/code/batch_jobs/timeseries_pull.job"
   ]
  },
  {
   "cell_type": "code",
   "execution_count": 16,
   "metadata": {},
   "outputs": [
    {
     "name": "stdout",
     "output_type": "stream",
     "text": [
      "             JOBID PARTITION     NAME     USER ST       TIME  NODES NODELIST(REASON)\r\n",
      "           3340981     batch timeseri   nbytes  R       4:17      1 largemem-0-0\r\n"
     ]
    }
   ],
   "source": [
    "# Check job submission\n",
    "!squeue -j 3340981"
   ]
  },
  {
   "cell_type": "code",
   "execution_count": 15,
   "metadata": {},
   "outputs": [],
   "source": [
    "# look at error file directory\n",
    "#os.listdir('/projects/niblab/experiments/bbx/code/error_files')"
   ]
  },
  {
   "cell_type": "code",
   "execution_count": 14,
   "metadata": {},
   "outputs": [],
   "source": [
    "# open and view error file or output file contents \n",
    "#!cat /projects/niblab/experiments/bbx/code/error_files/timepull_out_3340980.txt"
   ]
  },
  {
   "cell_type": "code",
   "execution_count": 8,
   "metadata": {},
   "outputs": [
    {
     "name": "stdout",
     "output_type": "stream",
     "text": [
      "#!/bin/bash\r\n",
      "#SBATCH --job-name=timeseriespull\r\n",
      "#SBATCH -o /projects/niblab/experiments/bbx/code/error_files/timepull_out_%A.txt\r\n",
      "#SBATCH -e /projects/niblab/experiments/bbx/code/error_files/timepull_err_%A.txt\r\n",
      "\r\n",
      "\r\n",
      "\r\n",
      "/projects/niblab/modules/software/miniconda3/miniconda3/bin/python3 /projects/niblab/experiments/bbx/code/timeseries_pull.py /projects/niblab/experiments/bbx\r\n"
     ]
    }
   ],
   "source": [
    "# view the slurm job file that was submitted\n",
    "!cat /projects/niblab/experiments/bbx/code/batch_jobs/timeseries_pull.job"
   ]
  },
  {
   "cell_type": "code",
   "execution_count": 17,
   "metadata": {},
   "outputs": [],
   "source": [
    "# view the timeseries pull python file that was submitted\n",
    "#!cat /projects/niblab/experiments/bbx/code/timeseries_pull.py"
   ]
  },
  {
   "cell_type": "code",
   "execution_count": null,
   "metadata": {},
   "outputs": [],
   "source": []
  }
 ],
 "metadata": {
  "kernelspec": {
   "display_name": "Python 3",
   "language": "python",
   "name": "python3"
  },
  "language_info": {
   "codemirror_mode": {
    "name": "ipython",
    "version": 3
   },
   "file_extension": ".py",
   "mimetype": "text/x-python",
   "name": "python",
   "nbconvert_exporter": "python",
   "pygments_lexer": "ipython3",
   "version": "3.7.6"
  }
 },
 "nbformat": 4,
 "nbformat_minor": 4
}
