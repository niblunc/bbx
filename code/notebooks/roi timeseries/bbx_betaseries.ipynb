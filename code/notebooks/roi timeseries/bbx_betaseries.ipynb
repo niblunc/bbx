{
 "cells": [
  {
   "cell_type": "markdown",
   "metadata": {},
   "source": [
    "# Betaseries for BBx\n"
   ]
  },
  {
   "cell_type": "markdown",
   "metadata": {},
   "source": [
    "## Table of Conents:\n",
    "\n",
    "* [FSL feat1 analysis](#feat1)  \n",
    "* [Concatenate with fslmerge](#fslmerge)\n",
    "* [Transform functionals with flirt and fslmath](#transform)\n",
    "* [Pull Timeseries](#pull_timeseries)\n",
    "* [Functional Connectivtiy Matrix plots](#fcm)\n"
   ]
  },
  {
   "cell_type": "code",
   "execution_count": 1,
   "metadata": {},
   "outputs": [],
   "source": [
    "import glob\n",
    "import os\n",
    "import pandas as pd\n",
    "from os import listdir\n",
    "from shutil import rmtree\n",
    "from subprocess import check_output\n",
    "import argparse\n",
    "import subprocess\n",
    "from multiprocessing import Pool\n"
   ]
  },
  {
   "cell_type": "code",
   "execution_count": 2,
   "metadata": {},
   "outputs": [],
   "source": [
    "# set variable paths \n",
    "\n",
    "ses_id='ses-1'\n",
    "beta_path= '/projects/niblab/experiments/bbx/data/betaseries' \n",
    "study_path='/projects/niblab/experiments/bbx'\n",
    "input_dir = '/projects/niblab/experiments/bbx/data'    \n",
    "deriv_dir= os.path.join(input_dir, 'preprocessed')\n",
    "design_file='/projects/niblab/experiments/bbx/data/code/beta_design.fsf'\n",
    "ev_path='/projects/niblab/experiments/bbx/data/onsets/trials'\n",
    "preprocess_folder= os.path.join(input_dir, 'preprocessed')\n",
    "\n",
    "\n",
    "subject_folders=sorted(glob.glob('/projects/niblab/experiments/bbx/data/preprocessed/sub-*'))\n",
    "# get subject ids\n",
    "subject_ids=[x.split('/')[-2] for x in glob.glob('/projects/niblab/experiments/bbx/data/preprocessed/sub-*/ses-1')]\n",
    "\n",
    "\n",
    "\n",
    "\n"
   ]
  },
  {
   "cell_type": "code",
   "execution_count": 3,
   "metadata": {},
   "outputs": [],
   "source": [
    "\n",
    "def chunks(l,n):\n",
    "    return [l[i:i+n] for i in range(0, len(l), n)]\n",
    "\n",
    "def run_multiprocess(chunks, function, poolsize=2):\n",
    "    with Pool(poolsize) as p:\n",
    "        return_data=p.map(function, chunks)\n",
    "    return return_data"
   ]
  },
  {
   "cell_type": "markdown",
   "metadata": {},
   "source": [
    "## Setup Feat files <a class='anchor' id='feat1'></a>"
   ]
  },
  {
   "cell_type": "code",
   "execution_count": 121,
   "metadata": {},
   "outputs": [],
   "source": [
    "### Helper Functions \n",
    "\n",
    "\n",
    "# feat1 fsf file creation \n",
    "def make_file(sub_id, ses_id, trial_id, output_dir, task,data_dict, design_file, newkey, run):\n",
    "    \n",
    "    with open(design_file,'r') as infile:\n",
    "        tempfsf=infile.read()\n",
    "        #\n",
    "        if not os.path.exists(os.path.join(output_dir, \"design_files\")):\n",
    "            os.makedirs(os.path.join(output_dir, \"design_files\"))\n",
    "        #print(output_dir)\n",
    "        \n",
    "        \n",
    "        task_name=trial_id.replace(sub_id+'_',\"\")\n",
    "        design_fileout = os.path.join(output_dir, \"design_files/%s_%s_%s_beta1.fsf\"%(sub_id, ses_id, task_name))\n",
    "        out_param = data_dict[sub_id][newkey][\"TRIALS\"][\"TRIAL%s\"%trial_id][\"OUTPUT\"]\n",
    "        func_param = data_dict[sub_id][newkey][\"FUNCRUN\"]\n",
    "        confound_param = data_dict[sub_id][newkey][\"CONFOUND\"]\n",
    "        trial_param = data_dict[sub_id][newkey][\"TRIALS\"][\"TRIAL%s\"%trial_id][\"TRIAL\"]\n",
    "        nuis_param = data_dict[sub_id][newkey][\"TRIALS\"][\"TRIAL%s\"%trial_id][\"NUIS\"]\n",
    "        #print(design_fileout)\n",
    "        tempfsf = tempfsf.replace(\"OUTPUT\", out_param)\n",
    "        tempfsf = tempfsf.replace(\"FUNCRUN\", func_param) \n",
    "        tempfsf = tempfsf.replace(\"CONFOUND\", confound_param)\n",
    "        tempfsf = tempfsf.replace(\"TRIAL\", trial_param)\n",
    "        tempfsf = tempfsf.replace(\"NUIS\", nuis_param)\n",
    "\n",
    "        for i in range(6):\n",
    "            moco = data_dict[sub_id][newkey][\"MOCO%i\"%i]\n",
    "            tempfsf = tempfsf.replace(\"MOCO%i\"%i, moco)\n",
    "        #print(tempfsf)\n",
    "        try:\n",
    "            with open(design_fileout,'w') as outfile:\n",
    "                outfile.write(tempfsf)\n",
    "            outfile.close()\n",
    "        except:\n",
    "            print(\"BAD SUBJECT \", sub_id)\n",
    "        infile.close()\n",
    "        \n",
    "        \n",
    "def create_fsf(input_dir, deriv_dir, ses_id, design_file, ev_path):\n",
    "    \n",
    "    ses_id=ses_id\n",
    "    preproc_folder = deriv_dir\n",
    "    \n",
    "    data_dict={}\n",
    "    \n",
    "    \n",
    "    # start loop -- looping through subjects\n",
    "    subject_list = glob.glob(os.path.join(preproc_folder, 'sub-*/%s'%ses_id))\n",
    "    for sub_path in subject_list:\n",
    "        # set variables from file path\n",
    "        sub_id=sub_path.split(\"/\")[-2]\n",
    "        # add subject id to dictionary\n",
    "        if sub_id not in data_dict:\n",
    "            data_dict[sub_id] = {}\n",
    "            \n",
    "            \n",
    "            \n",
    "        # get functional task files \n",
    "        # this section may be unique to an individual study,\n",
    "        # make sure the extraction applies correctly. \n",
    "        \n",
    "        # get list of nifti functional files of current subject\n",
    "        # we use the `_preproc_bold_brain.nii.gz task files, these are preprocessed niftis\n",
    "        functional_tasks = glob.glob(os.path.join(sub_path, 'func/*preproc_bold_brain.nii.gz'))\n",
    "                \n",
    "        \n",
    "        for functional in functional_tasks: \n",
    "            # set specific variables from filename\n",
    "            task=functional.split(\"/\")[-1].split(\"_\")[2].split(\"-\")[1]\n",
    "            if 'resting' in task:\n",
    "                run=\"\"\n",
    "                pass\n",
    "            else:\n",
    "                run=functional.split(\"/\")[-1].split(\"_\")[3]\n",
    "\n",
    "                \n",
    "                #print(task,run)\n",
    "\n",
    "                analysis_folder=os.path.join(deriv_dir, '%s/%s'%(sub_id,ses_id), \"analysis\")\n",
    "                #print(analysis_folder)\n",
    "                output_dir = os.path.join(analysis_folder, 'beta/task-%s_%s'%(task,run))\n",
    "                #print('[INFO] output directory: ', output_dir)\n",
    "                if not os.path.exists(output_dir):\n",
    "                    os.makedirs(output_dir)\n",
    "\n",
    "                # set confound file\n",
    "                #sub-001_ses-1_task-training_run-1_space-MNI152NLin2009cAsym_desc-preproc_confound.txt\n",
    "\n",
    "                if 'resting' in task:\n",
    "                    confound_file = os.path.join(sub_path, \"func/motion_assessment/%s_%s_task-%s_space-MNI152NLin2009cAsym_desc-preproc_confound.txt\"%(sub_id,ses_id, task))\n",
    "                else:\n",
    "                    confound_file = os.path.join(sub_path, \"func/motion_assessment/%s_%s_task-%s_%s_space-MNI152NLin2009cAsym_desc-preproc_confound.txt\"%(sub_id,ses_id, task, run))\n",
    "\n",
    "                #print(confound_file)\n",
    "                #print(run)\n",
    "                if 'run' in run:\n",
    "                    newkey=\"%s_%s\"%(task, run)\n",
    "                else:\n",
    "                    newkey=\"%s\"%task\n",
    "                #print(newkey)\n",
    "                data_dict[sub_id][newkey] = {\n",
    "                    \"TRIALS\" : { },\n",
    "                    \"CONFOUND\" : confound_file,\n",
    "                    \"FUNCRUN\" : functional\n",
    "                  }           \n",
    "\n",
    "                # set motion parameters\n",
    "                # sub-001_ses-1_task-training_run-1_moco0.txt | sub-001_ses-1_task-resting_moco5.txt\n",
    "                for i in range(6):\n",
    "                    if 'run' in run:\n",
    "                        motcor=os.path.join(sub_path, 'func','motion_assessment', 'motion_parameters','%s_%s_task-%s_%s_moco%s.txt'%(sub_id,ses_id, task,run,i))\n",
    "                    else:\n",
    "                        motcor=os.path.join(sub_path, 'func','motion_assessment', 'motion_parameters','%s_%s_task-%s_moco%s.txt'%(sub_id,ses_id, task,i))\n",
    "                    #print(motcor)\n",
    "                    data_dict[sub_id][newkey]['MOCO%i'%i] = motcor\n",
    "\n",
    "                #print(data_dict)\n",
    "\n",
    "                # setup evs(onsets)\n",
    "                trial_evs = sorted(glob.glob(os.path.join(ev_path, '%s_*%s*.txt'%(sub_id, run))))\n",
    "                #print(trial_evs[0])\n",
    "\n",
    "                if not trial_evs:\n",
    "                    pass\n",
    "                else:\n",
    "                    for trial_file in trial_evs:\n",
    "                        _id = sub_id.split(\"-\")[1]\n",
    "                        _id = _id[1:]\n",
    "                        trial_id = trial_file.split(\"/\")[-1].split(\".\")[0]\n",
    "                        #print(trial_id)\n",
    "                        nuis_file = os.path.join(ev_path, '%s.txt'%trial_id.replace('trial', 'nuis'))\n",
    "                        #print(nuis_file)\n",
    "                        \n",
    "                        trial_ext=trial_id.replace(sub_id+'_',\"\")\n",
    "                        fileout = os.path.join(output_dir, \"%s_%s_%s\"%(sub_id, ses_id,trial_ext))\n",
    "                        #print(fileout)\n",
    "                        \n",
    "                        # fill dictionary\n",
    "                        data_dict[sub_id][newkey][\"TRIALS\"][\"TRIAL%s\"%trial_id] = {\"TRIAL\" : trial_file, \"NUIS\": nuis_file, \"OUTPUT\" : fileout}\n",
    "                        \n",
    "                        # write out file\n",
    "                        make_file(sub_id, ses_id, trial_id,output_dir, task, data_dict,design_file, newkey, run)\n",
    "\n",
    "                \n",
    "    return(data_dict) \n",
    "        "
   ]
  },
  {
   "cell_type": "code",
   "execution_count": 123,
   "metadata": {},
   "outputs": [
    {
     "name": "stdout",
     "output_type": "stream",
     "text": [
      "[INFO] making fsf design files...\n",
      "[INFO] process complete.\n"
     ]
    }
   ],
   "source": [
    "# make feat1 fsf files\n",
    "print('[INFO] making fsf design files...')\n",
    "#data_dict=create_fsf(input_dir, deriv_dir,ses_id,design_file,ev_path)\n",
    "print('[INFO] process complete.')\n"
   ]
  },
  {
   "cell_type": "markdown",
   "metadata": {},
   "source": [
    "Lets view a few of files created"
   ]
  },
  {
   "cell_type": "code",
   "execution_count": 4,
   "metadata": {},
   "outputs": [
    {
     "data": {
      "text/plain": [
       "['sub-001_ses-1_task-H2O-run-4_trial1_beta1.fsf',\n",
       " 'sub-001_ses-1_task-H2O-run-4_trial2_beta1.fsf',\n",
       " 'sub-001_ses-1_task-H2O-run-4_trial3_beta1.fsf',\n",
       " 'sub-001_ses-1_task-H2O-run-4_trial4_beta1.fsf',\n",
       " 'sub-001_ses-1_task-H2O-run-4_trial5_beta1.fsf']"
      ]
     },
     "execution_count": 4,
     "metadata": {},
     "output_type": "execute_result"
    }
   ],
   "source": [
    "# look at created files\n",
    "output_path='/projects/niblab/experiments/bbx/data/preprocessed/sub-001/ses-1/analysis/beta/task-training_run-4/design_files'\n",
    "listdir(output_path)[:5]\n",
    "        "
   ]
  },
  {
   "cell_type": "code",
   "execution_count": 5,
   "metadata": {},
   "outputs": [
    {
     "name": "stdout",
     "output_type": "stream",
     "text": [
      "[INFO] 32392.000000 fsf files available.\n"
     ]
    }
   ],
   "source": [
    "beta1_files_path='/projects/niblab/experiments/bbx/data/preprocessed/sub-*/ses-1/analysis/beta/task-training_run-*/design_files/*.fsf'\n",
    "print('[INFO] %f fsf files available.'%len(glob.glob(beta1_files_path)))\n"
   ]
  },
  {
   "cell_type": "code",
   "execution_count": 6,
   "metadata": {},
   "outputs": [
    {
     "data": {
      "text/plain": [
       "['/projects/niblab/experiments/bbx/data/preprocessed/sub-001/ses-1/analysis/beta/task-training_run-4/design_files/sub-001_ses-1_task-H2O-run-4_trial1_beta1.fsf',\n",
       " '/projects/niblab/experiments/bbx/data/preprocessed/sub-001/ses-1/analysis/beta/task-training_run-4/design_files/sub-001_ses-1_task-H2O-run-4_trial2_beta1.fsf',\n",
       " '/projects/niblab/experiments/bbx/data/preprocessed/sub-001/ses-1/analysis/beta/task-training_run-4/design_files/sub-001_ses-1_task-H2O-run-4_trial3_beta1.fsf',\n",
       " '/projects/niblab/experiments/bbx/data/preprocessed/sub-001/ses-1/analysis/beta/task-training_run-4/design_files/sub-001_ses-1_task-H2O-run-4_trial4_beta1.fsf',\n",
       " '/projects/niblab/experiments/bbx/data/preprocessed/sub-001/ses-1/analysis/beta/task-training_run-4/design_files/sub-001_ses-1_task-H2O-run-4_trial5_beta1.fsf']"
      ]
     },
     "execution_count": 6,
     "metadata": {},
     "output_type": "execute_result"
    }
   ],
   "source": [
    "# view a few of the files\n",
    "glob.glob(beta1_files_path)[:5]"
   ]
  },
  {
   "cell_type": "markdown",
   "metadata": {},
   "source": [
    "## Submit slurm jobs"
   ]
  },
  {
   "cell_type": "markdown",
   "metadata": {},
   "source": [
    "Tasks Available"
   ]
  },
  {
   "cell_type": "code",
   "execution_count": 7,
   "metadata": {},
   "outputs": [
    {
     "data": {
      "text/plain": [
       "129"
      ]
     },
     "execution_count": 7,
     "metadata": {},
     "output_type": "execute_result"
    }
   ],
   "source": [
    "len(subject_ids)"
   ]
  },
  {
   "cell_type": "code",
   "execution_count": 8,
   "metadata": {},
   "outputs": [
    {
     "data": {
      "text/plain": [
       "{'H2O', 'H2Ocue', 'SSB', 'SSBcue', 'USB', 'USBcue', 'rinse'}"
      ]
     },
     "execution_count": 8,
     "metadata": {},
     "output_type": "execute_result"
    }
   ],
   "source": [
    "tasks=[x.split(\"/\")[-1].split(\"_\")[2].split(\"-\")[1] for x in glob.glob(output_path+\"/*.fsf\")]\n",
    "set(tasks)\n"
   ]
  },
  {
   "cell_type": "code",
   "execution_count": 127,
   "metadata": {},
   "outputs": [],
   "source": [
    "def by_file_slurm(subject,ev_task):\n",
    "    fsf_path='/projects/niblab/experiments/bbx/data/preprocessed/{}/ses-1/analysis/beta/task-training_run-*/design_files/*{}*.fsf'.format(subject, ev_task)\n",
    "    fsfs=glob.glob(fsf_path)\n",
    "    for fsf in fsfs:\n",
    "        slurm_cmd = \"sbatch /projects/niblab/experiments/bbx/data/code/beta_by_file.job {}\".format(fsf)\n",
    "        #print('[INFO] submitted: \\n', slurm_cmd)\n",
    "        os.system(slurm_cmd)\n",
    "    \n"
   ]
  },
  {
   "cell_type": "code",
   "execution_count": 129,
   "metadata": {},
   "outputs": [
    {
     "name": "stdout",
     "output_type": "stream",
     "text": [
      "[INFO] setting up batch jobs.\n",
      "[INFO] submitted batch jobs.\n"
     ]
    }
   ],
   "source": [
    "# run all jobs\n",
    "print('[INFO] setting up batch jobs.')\n",
    "ev_task='USB'\n",
    "for subject in subject_ids[60:]:    \n",
    "    by_file_slurm(subject, ev_task)\n",
    "    \n",
    "print('[INFO] submitted batch jobs.')\n",
    "\n",
    "    "
   ]
  },
  {
   "cell_type": "code",
   "execution_count": 18,
   "metadata": {},
   "outputs": [],
   "source": [
    "#!squeue -u nbytes"
   ]
  },
  {
   "cell_type": "markdown",
   "metadata": {},
   "source": [
    "**Setup Data Dictionary**"
   ]
  },
  {
   "cell_type": "code",
   "execution_count": 47,
   "metadata": {},
   "outputs": [],
   "source": [
    "bad_subjects=[]\n",
    "data_dict={}\n",
    "\n",
    "for folder in subject_folders:\n",
    "    subject_id=folder.split(\"/\")[-1]\n",
    "    tasks=glob.glob(os.path.join(folder,'ses-1/analysis/beta/*'))\n",
    "    #print('[INFO] tasks: ', tasks)\n",
    "    \n",
    "    if not tasks:\n",
    "        bad_subjects.append(subject_id)\n",
    "    else:\n",
    "        if subject_id not in data_dict:\n",
    "            data_dict[subject_id]={}\n",
    "        for task_folder in tasks:\n",
    "            #print(task_folder)\n",
    "            task=task_folder.split(\"/\")[-1].split('.')[0]\n",
    "            #print('[INFO] task: ', task)\n",
    "            if task not in data_dict[subject_id]:\n",
    "                data_dict[subject_id][task]={}\n",
    "            pes=glob.glob(os.path.join(task_folder, '*.feat/stats/pe1.nii.gz'))\n",
    "            data_dict[subject_id][task]=pes\n",
    "       \n",
    "    \n",
    "    "
   ]
  },
  {
   "cell_type": "code",
   "execution_count": null,
   "metadata": {},
   "outputs": [],
   "source": [
    "#data_dict['sub-001']['task-training_run-1']"
   ]
  },
  {
   "cell_type": "markdown",
   "metadata": {},
   "source": [
    "## Concatenate PEs <a class=\"anchor\" id=\"fslmerge\"></a>"
   ]
  },
  {
   "cell_type": "code",
   "execution_count": 73,
   "metadata": {},
   "outputs": [],
   "source": [
    "keyword=\"SSBcue\"\n",
    "bad_subjects=[]"
   ]
  },
  {
   "cell_type": "code",
   "execution_count": 74,
   "metadata": {},
   "outputs": [],
   "source": [
    "\n",
    "def merge_files(subject_list, data_dict=data_dict,keyword=keyword):\n",
    "\n",
    "    for subject_id in subject_list:\n",
    "        for task in data_dict[subject_id]:\n",
    "            #print('[INFO] task: ', task)\n",
    "            pes=[pe for pe in data_dict[subject_id][task] if keyword in pe]\n",
    "            if \"-\" in keyword:\n",
    "                keyword=keyword.strip('-')\n",
    "                \n",
    "            #print(\"[INFO] PEs: \",pes)\n",
    "            filename=\"%s_%s_%s\"%(subject_id, task, keyword)\n",
    "            outfile = \"/projects/niblab/experiments/bbx/data/betaseries/niftis/%s/%s\"%(keyword, filename)\n",
    "            #print('[INFO] outfile: \\n',outfile)\n",
    "            if not os.path.exists(\"/projects/niblab/experiments/bbx/data/betaseries/niftis/%s\"%keyword):\n",
    "                 os.makedirs(\"/projects/niblab/experiments/bbx/data/betaseries/niftis/%s\"%keyword)\n",
    "                    \n",
    "            if not pes:\n",
    "                bad_subjects.append(subject_id)\n",
    "            else:\n",
    "                pe_str = \" \".join(pes)\n",
    "                fslmerge_cmd=\"/projects/niblab/modules/software/fsl/5.0.10/bin/fslmerge -t %s %s\"%(outfile, pe_str)\n",
    "                #print(\"[INFO] running fsl merge command...\")\n",
    "                #print(fslmerge_cmd, \"\\n\")\n",
    "                os.system(fslmerge_cmd)\n",
    "\n",
    "\n",
    "            "
   ]
  },
  {
   "cell_type": "code",
   "execution_count": 75,
   "metadata": {},
   "outputs": [
    {
     "name": "stdout",
     "output_type": "stream",
     "text": [
      "[INFO] chunksize: 10\n",
      "[INFO] running fslmerge ....\n",
      "fslmerge -t [OUTPUT FILENAME][PE FILES]\n",
      "[INFO] process complete.\n"
     ]
    }
   ],
   "source": [
    "chunksize=10\n",
    "print(\"[INFO] chunksize: {}\".format(chunksize))\n",
    "chunk_list=chunks(subject_ids, chunksize)\n",
    "\n",
    "#print(chunk_list)\n",
    "print(\"[INFO] running fslmerge ....\\nfslmerge -t [OUTPUT FILENAME][PE FILES]\")\n",
    "\n",
    "with Pool(8) as p:\n",
    "    p.map(merge_files, chunk_list)\n",
    "print(\"[INFO] process complete.\")\n",
    "#print('[INFO] find images here: ',concat_path )"
   ]
  },
  {
   "cell_type": "code",
   "execution_count": 77,
   "metadata": {},
   "outputs": [
    {
     "name": "stdout",
     "output_type": "stream",
     "text": [
      "[INFO] File counts \n",
      "USB : 507 \n",
      "USBcue: 507 \n",
      "SSB: 507 \n",
      "SSBcue: 507\n"
     ]
    }
   ],
   "source": [
    "# Check for output timeseries files\n",
    "print(\"[INFO] File counts \\nUSB : {} \\nUSBcue: {} \\nSSB: {} \\nSSBcue: {}\".format(\n",
    "    len(listdir(os.path.join(beta_path,'niftis/USB'))),\n",
    "    len(listdir(os.path.join(beta_path,'niftis/USBcue'))),\n",
    "    len(listdir(os.path.join(beta_path,'niftis/SSB'))),\n",
    "    len(listdir(os.path.join(beta_path,'niftis/SSBcue')))))\n",
    "\n"
   ]
  },
  {
   "cell_type": "code",
   "execution_count": 78,
   "metadata": {},
   "outputs": [],
   "source": [
    "def tranform_niftis(niftis, keyword=keyword):\n",
    "    reference_nifti='/projects/niblab/parcellations/chocolate_decoding_rois/mni2ace.nii.gz'\n",
    "    reference_mat='/projects/niblab/parcellations/chocolate_decoding_rois/mni2ace.mat'\n",
    "    for nii in niftis:\n",
    "\n",
    "        # setup and run flirt\n",
    "        nii=nii.replace('.nii.gz', '')\n",
    "        out=nii#+'_3mm'\n",
    "        flirt_cmd=\"flirt -in {} -ref {} -init {} -applyxfm -out {}\".format(nii, reference_nifti, reference_mat, out)\n",
    "        #print('[INFO] flirt command: \\n{}'.format(flirt_cmd))\n",
    "        os.system(flirt_cmd)\n",
    "\n",
    "        fslmaths_cmd='fslmaths {} -thr 0.9 {}'.format(out,out)\n",
    "        #print('[INFO] fslmaths command: \\n{}'.format(fslmaths_cmd))\n",
    "        os.system(fslmaths_cmd)"
   ]
  },
  {
   "cell_type": "code",
   "execution_count": 79,
   "metadata": {},
   "outputs": [
    {
     "name": "stdout",
     "output_type": "stream",
     "text": [
      "[INFO] transform functionals to match the mask.\n",
      "[INFO] chunksize: 10\n",
      "[INFO] transformation process complete.\n"
     ]
    }
   ],
   "source": [
    "\n",
    "print('[INFO] transform functionals to match the mask.')\n",
    "chunksize=10\n",
    "# grab concatenated (fslmerge) data\n",
    "keyword=\"SSBcue\"\n",
    "fslmerged_files=glob.glob(os.path.join('/projects/niblab/experiments/bbx/data/betaseries/niftis/%s/*.nii.gz'%(keyword)))\n",
    "#fslmerged_files[:4]\n",
    "print(\"[INFO] chunksize: {}\".format(chunksize))\n",
    "chunk_list=chunks(fslmerged_files, chunksize)\n",
    "with Pool(8) as p:\n",
    "    p.map(tranform_niftis, chunk_list)\n",
    "print('[INFO] transformation process complete.')\n"
   ]
  },
  {
   "cell_type": "code",
   "execution_count": 80,
   "metadata": {},
   "outputs": [
    {
     "name": "stdout",
     "output_type": "stream",
     "text": [
      "[INFO] File counts \n",
      "USB : 507 \n",
      "USBcue: 507 \n",
      "SSB: 507 \n",
      "SSBcue: 507\n"
     ]
    }
   ],
   "source": [
    "# Check for output timeseries files\n",
    "print(\"[INFO] File counts \\nUSB : {} \\nUSBcue: {} \\nSSB: {} \\nSSBcue: {}\".format(\n",
    "    len(listdir(os.path.join(beta_path,'niftis/USB'))),\n",
    "    len(listdir(os.path.join(beta_path,'niftis/USBcue'))),\n",
    "    len(listdir(os.path.join(beta_path,'niftis/SSB'))),\n",
    "    len(listdir(os.path.join(beta_path,'niftis/SSBcue')))))\n",
    "\n"
   ]
  },
  {
   "cell_type": "markdown",
   "metadata": {},
   "source": [
    "## Pull ROI timeseries  <a class=\"anchor\" id=\"pull_timeseries\"></a>\n"
   ]
  },
  {
   "cell_type": "code",
   "execution_count": 81,
   "metadata": {},
   "outputs": [
    {
     "name": "stdout",
     "output_type": "stream",
     "text": [
      "Submitted batch job 3285586\n"
     ]
    }
   ],
   "source": [
    "!sbatch /projects/niblab/experiments/bbx/data/betaseries/timeseries_roi_pull.job SSBcue\n",
    "\n"
   ]
  },
  {
   "cell_type": "code",
   "execution_count": 82,
   "metadata": {},
   "outputs": [
    {
     "name": "stdout",
     "output_type": "stream",
     "text": [
      "             JOBID PARTITION     NAME     USER ST       TIME  NODES NODELIST(REASON)\n",
      "           3285586     batch timeseri   nbytes PD       0:00      1 (Priority)\n"
     ]
    }
   ],
   "source": [
    "!squeue -j 3285586"
   ]
  },
  {
   "cell_type": "code",
   "execution_count": 30,
   "metadata": {},
   "outputs": [
    {
     "name": "stdout",
     "output_type": "stream",
     "text": [
      "             JOBID PARTITION     NAME     USER ST       TIME  NODES NODELIST(REASON)\n",
      "           3284761     batch timeseri   nbytes  R       0:33      1 largemem-0-0\n"
     ]
    }
   ],
   "source": [
    "!squeue -j 3284761"
   ]
  },
  {
   "cell_type": "code",
   "execution_count": 31,
   "metadata": {},
   "outputs": [
    {
     "name": "stdout",
     "output_type": "stream",
     "text": [
      "             JOBID PARTITION     NAME     USER ST       TIME  NODES NODELIST(REASON)\n",
      "           3284762     batch timeseri   nbytes  R       0:15      1 largemem-1-0\n"
     ]
    }
   ],
   "source": [
    "!squeue -j 3284762"
   ]
  },
  {
   "cell_type": "code",
   "execution_count": 9,
   "metadata": {},
   "outputs": [
    {
     "name": "stdout",
     "output_type": "stream",
     "text": [
      "             JOBID PARTITION     NAME     USER ST       TIME  NODES NODELIST(REASON)\n"
     ]
    }
   ],
   "source": [
    "!squeue -u nbytes"
   ]
  },
  {
   "cell_type": "code",
   "execution_count": 30,
   "metadata": {},
   "outputs": [
    {
     "name": "stdout",
     "output_type": "stream",
     "text": [
      "USB: 152100 \n",
      "USBcue: 152100 \n",
      "SSB: 152100 \n",
      "SSBcue: 152100\n"
     ]
    }
   ],
   "source": [
    "# Check for output timeseries files\n",
    "print(\"USB: {} \\nUSBcue: {} \\nSSB: {} \\nSSBcue: {}\".format(\n",
    "    len(listdir(os.path.join(beta_path,'rois/bigbrain300/USB'))),\n",
    "    len(listdir(os.path.join(beta_path,'rois/bigbrain300/USBcue'))),\n",
    "    len(listdir(os.path.join(beta_path,'rois/bigbrain300/SSB'))),\n",
    "    len(listdir(os.path.join(beta_path,'rois/bigbrain300/SSB')))))\n",
    "\n"
   ]
  },
  {
   "cell_type": "markdown",
   "metadata": {},
   "source": [
    "## Combine Timeseries into Matrix  <a class=\"anchor\" id=\"combine_timeseries\"></a>\n",
    "Combine timeseries roi files into a large matrix, **one file per condition per participant**  "
   ]
  },
  {
   "cell_type": "markdown",
   "metadata": {},
   "source": [
    "### Combine Timeseries into a Matrix, per subject by condition"
   ]
  },
  {
   "cell_type": "code",
   "execution_count": 43,
   "metadata": {},
   "outputs": [],
   "source": [
    "\n",
    "def timeseries_concat(subject_ids,verbose=False):\n",
    "    \n",
    "    for subject_id in subject_ids:\n",
    "        tasks=list(data_dict[subject_id].keys())\n",
    "        for task in tasks:\n",
    "\n",
    "            #print(subject_id, task, stim)\n",
    "            #print(os.path.join(beta_path, 'rois/big300/%s'%stim))\n",
    "            # get roi texts for subject / condition\n",
    "            roi_files = glob.glob(os.path.join(beta_path, 'rois/bigbrain300/%s/%s*%s*.txt'%(stim, subject_id,task)))\n",
    "\n",
    "            df_lst=[]\n",
    "            #print(roi_files)\n",
    "            try:\n",
    "                for txt in roi_files: \n",
    "                    #print(txt)\n",
    "                    df_temp = pd.read_csv(txt, sep=\"\\n\", header=None)\n",
    "                    #print(df_temp)\n",
    "                    df_lst.append(df_temp)\n",
    "                #print(subject_id, task, len(df_lst))\n",
    "\n",
    "                df_concat= pd.concat(df_lst, axis=1, sort=False)\n",
    "                #print(df_concat)\n",
    "\n",
    "                # write output file \n",
    "                \n",
    "                if not os.path.exists(os.path.join(beta_path,'subject_matrices/%s'%stim)):\n",
    "                    if verbose==True:\n",
    "                        print('[INFO] making ',os.path.join(beta_path,'subject_matrices/%s'%stim))\n",
    "\n",
    "                    os.makedirs(os.path.join(beta_path,'subject_matrices/%s'%stim))\n",
    "                outfile=os.path.join(beta_path,\n",
    "                                     'subject_matrices/%s/%s_%s_%s.txt'%(stim,subject_id,task, stim))\n",
    "                if verbose==True:\n",
    "                    print('[PROCESSING] making file %s....'%outfile)\n",
    "\n",
    "                df_concat.to_csv(outfile, header=None, index=None, sep='\\t')\n",
    "            except:\n",
    "                pass\n",
    "                error_subjects.append((subject_id,task))\n",
    "\n",
    "    #if error_subjects: print(error_subjects)\n",
    "    return error_subjects;\n",
    "\n",
    "\n",
    "    \n",
    "    "
   ]
  },
  {
   "cell_type": "code",
   "execution_count": 62,
   "metadata": {},
   "outputs": [
    {
     "name": "stdout",
     "output_type": "stream",
     "text": [
      "[INFO] BUILDING TIMESERIES MATRIX, FOR EACH SUBJECT PER CONDITION\n",
      "[INFO] chunksize: 15\n",
      "[INFO] poolsize: 15\n",
      "[INFO] combining trial condition into one timeseries matrix for stimulus SSBcue....\n",
      "[INFO] starting multiprocess....\n",
      "[INFO] completed process.\n",
      "[INFO] combining trial condition into one timeseries matrix for stimulus USB....\n",
      "[INFO] starting multiprocess....\n",
      "[INFO] completed process.\n",
      "[INFO] combining trial condition into one timeseries matrix for stimulus USBcue....\n",
      "[INFO] starting multiprocess....\n",
      "[INFO] completed process.\n"
     ]
    }
   ],
   "source": [
    "\n",
    "\n",
    "def combine_timeseries(chunk_list, pool_size,stim):\n",
    "    print(\"[INFO] combining trial condition into one timeseries matrix for stimulus %s....\"%stim)\n",
    "    print(\"[INFO] starting multiprocess....\")\n",
    "    \n",
    "    with Pool(pool_size) as p:\n",
    "        error_subjects=p.map(timeseries_concat, chunk_list)\n",
    "        \n",
    "        \n",
    "        \n",
    "        \n",
    "stims=['SSBcue', 'USB', 'USBcue']\n",
    "stim='SSB'\n",
    "subject_ids=list(data_dict.keys())\n",
    "error_subjects=[]\n",
    "chunksize=15\n",
    "pool_size=10\n",
    "multi_stim = True\n",
    "\n",
    "chunk_list=chunks(subject_ids, chunksize) \n",
    "\n",
    "\n",
    "\n",
    "print(\"[INFO] BUILDING TIMESERIES MATRIX, FOR EACH SUBJECT PER CONDITION\")\n",
    "print(\"[INFO] chunksize: {}\".format(chunksize))\n",
    "print(\"[INFO] poolsize: {}\".format(chunksize))\n",
    "\n",
    "\n",
    "     \n",
    "# case for multiple stimulus       \n",
    "if multi_stim == True:\n",
    "    for stim in stims:\n",
    "        combine_timeseries(chunk_list,pool_size,stim)\n",
    "        print(\"[INFO] completed process.\")\n",
    "        \n",
    "        \n",
    "# case for running process on single stim\n",
    "else:\n",
    "    combine_timeseries(chunk_list,pool_size,stim)\n",
    "    \n",
    "\n",
    "    print(\"[INFO] completed process.\")\n",
    "    \n",
    "    \n",
    "    \n",
    "#print(\"[INFO] process complete. \\n[INFO] bad subjects: \\t\\t%s\"%error_subjects)\n",
    "\n"
   ]
  },
  {
   "cell_type": "code",
   "execution_count": 83,
   "metadata": {},
   "outputs": [
    {
     "name": "stdout",
     "output_type": "stream",
     "text": [
      "[INFO] SSB (507 files)\n",
      "[INFO] SSBcue (104 files)\n",
      "[INFO] USB (507 files)\n",
      "[INFO] USBcue (507 files)\n"
     ]
    }
   ],
   "source": [
    "# view number of subject timeseries rois created/pulled\n",
    "for stim in listdir(os.path.join(beta_path, 'subject_matrices')):\n",
    "    print(\"[INFO] %s (%s files)\"%(stim, \n",
    "                                  len(glob.glob(os.path.join(beta_path, 'subject_matrices/%s/*.txt'%stim)))))\n"
   ]
  },
  {
   "cell_type": "code",
   "execution_count": null,
   "metadata": {},
   "outputs": [],
   "source": [
    "# Make FCM "
   ]
  },
  {
   "cell_type": "code",
   "execution_count": 84,
   "metadata": {},
   "outputs": [],
   "source": [
    "import seaborn as sns\n",
    "from nilearn.connectome import ConnectivityMeasure\n",
    "import numpy as np\n",
    "from matplotlib import pyplot as plt\n",
    "from nilearn import plotting\n",
    "from nilearn.plotting import plot_connectome\n"
   ]
  },
  {
   "cell_type": "markdown",
   "metadata": {},
   "source": [
    "## Make Functional Connectivity Matrices <a class=\"anchor\" id=\"fcm\"></a>"
   ]
  },
  {
   "cell_type": "code",
   "execution_count": 88,
   "metadata": {},
   "outputs": [],
   "source": [
    "# make fc matrices\n",
    "\n",
    "\"\"\"\n",
    "  Takes timeseries matrices and makes functional connectivity matrices with nilearns ConnectivityMeasure object.\n",
    "  We pass a condition, or named here the 'file_suffix', to identify our individual task files,\n",
    "  and we pass the number of extracted regions.\n",
    "  Outputs: makes subject FCMs, plots FCMs\n",
    "  Returns: a function correlation dictionary as well as individual subject list\n",
    "\n",
    "  ** Extensions: plotting, save individual FCMs...\n",
    "\"\"\"\n",
    "def makeFCM(cmap, timeseries, stim, n_regions_extracted=300, functionals=None):\n",
    "    #print('[INFO] making functional connectivity matrices with nilearn ConnectivityMeasure object...')\n",
    "    fc_corr_dict = {}\n",
    "    \n",
    "    subj_list=[]\n",
    "    bad_subjects=[]\n",
    "    correlations = []\n",
    "    # Initializing ConnectivityMeasure object with kind='correlation'\n",
    "    connectome_measure = ConnectivityMeasure(kind='correlation')\n",
    "    #print(timeseries)\n",
    "    #print('[INFO] stim: ', stim)\n",
    "    for subj_timeseries in sorted(timeseries):\n",
    "        #print(subj_timeseries)\n",
    "        subj_id=subj_timeseries.split(\"/\")[-1].split(\"_\")[0]\n",
    "        if subj_id not in fc_corr_dict:\n",
    "            fc_corr_dict[subj_id] = {}\n",
    "        if subj_id not in subj_list:\n",
    "            subj_list.append(subj_id)\n",
    "        if stim in subj_timeseries:\n",
    "            filename = \"%s_task-%s.txt\"%(subj_id, stim)\n",
    "            try:\n",
    "                # we load the text file timeseries into an array \n",
    "                np_arr = np.loadtxt(subj_timeseries)\n",
    "                #print(np_arr)\n",
    "\n",
    "                # call fit_transform from ConnectivityMeasure object\n",
    "                correlation = connectome_measure.fit_transform([np_arr])\n",
    "                #print('[INFO] CORRELATION: ', correlation)\n",
    "                \n",
    "                # saving each subject correlation to correlations\n",
    "                fc_corr_dict[subj_id][stim] = correlation\n",
    "                correlations.append(correlation)\n",
    "                \n",
    "                # plot subject correlation matrix\n",
    "                #sns.heatmap(correlation, annot=True)\n",
    "                # save text\n",
    "                #np.savetxt('/content/'+filename, correlation.transpose(2,0,1).reshape(3,-1))\n",
    "            except:\n",
    "                bad_subjects.append(subj_id)\n",
    "                pass\n",
    "    try:\n",
    "        # Mean of all correlations\n",
    "        mean_correlations = np.mean(correlations, axis=0).reshape(n_regions_extracted, n_regions_extracted)\n",
    "\n",
    "\n",
    "\n",
    "        ## plotting\n",
    "        #print('[INFO] Plot of the mean functional connectivity matrix: \\n')\n",
    "        title = 'Correlation between %d regions, condition %s'%(n_regions_extracted,stim)\n",
    "        # First plot the matrix\n",
    "        print('[INFO] %s'%title)\n",
    "        display = plotting.plot_matrix( mean_correlations,figure=(9, 7),\n",
    "                                       colorbar=True, cmap=cmap) #, tri='lower')\n",
    "        plt.show()\n",
    "        print(\"\\n\")\n",
    "        if bad_subjects:\n",
    "            print('[INFO] bad subjects for %s....\\t%s'%(stim,bad_subjects))\n",
    "\n",
    "        # Then find the center of the regions and plot a connectome\n",
    "        #regions_img = regions_extracted_img\n",
    "        #coords_connectome = plotting.find_probabilistic_atlas_cut_coords(regions_img)\n",
    "\n",
    "        #plotting.plot_connectome(mean_correlations, coords_connectome,\n",
    "                              #edge_threshold='90%', title=title)\"\"\"\n",
    "\n",
    "        #return fc_corr_dict, subj_list;\n",
    "    except:\n",
    "        pass\n",
    "\n",
    "\n",
    "\n",
    "  "
   ]
  },
  {
   "cell_type": "code",
   "execution_count": 99,
   "metadata": {},
   "outputs": [
    {
     "name": "stdout",
     "output_type": "stream",
     "text": [
      "[INFO] making functional connectivity matrices (FCM)...\n",
      "[INFO] Correlation between 300 regions, condition SSB\n"
     ]
    },
    {
     "data": {
      "image/png": "[encoded data removed]",
      "text/plain": [
       "<Figure size 648x504 with 2 Axes>"
      ]
     },
     "metadata": {
      "needs_background": "light"
     },
     "output_type": "display_data"
    },
    {
     "name": "stdout",
     "output_type": "stream",
     "text": [
      "\n",
      "\n",
      "[INFO] Correlation between 300 regions, condition SSBcue\n"
     ]
    },
    {
     "data": {
      "image/png": "[encoded data removed]",
      "text/plain": [
       "<Figure size 648x504 with 2 Axes>"
      ]
     },
     "metadata": {
      "needs_background": "light"
     },
     "output_type": "display_data"
    },
    {
     "name": "stdout",
     "output_type": "stream",
     "text": [
      "\n",
      "\n",
      "[INFO] Correlation between 300 regions, condition USB\n"
     ]
    },
    {
     "data": {
      "image/png": "[encoded data removed]",
      "text/plain": [
       "<Figure size 648x504 with 2 Axes>"
      ]
     },
     "metadata": {
      "needs_background": "light"
     },
     "output_type": "display_data"
    },
    {
     "name": "stdout",
     "output_type": "stream",
     "text": [
      "\n",
      "\n"
     ]
    }
   ],
   "source": [
    "cmap=\"ocean_hot_r\"#\"BuPu\"\n",
    "stim_list=listdir(os.path.join(beta_path,'subject_matrices'))\n",
    "\n",
    "print(\"[INFO] making functional connectivity matrices (FCM)...\")\n",
    "for stim in stim_list:\n",
    "    timeseries_files=glob.glob(os.path.join(beta_path,'subject_matrices/%s/*.txt'%stim))\n",
    "    #print(len(timeseries_files))\n",
    "    if stim == \"USBcue\":\n",
    "        pass\n",
    "    else:\n",
    "        makeFCM(cmap, timeseries_files, stim)\n",
    "    \n",
    "    "
   ]
  }
 ],
 "metadata": {
  "kernelspec": {
   "display_name": "Python 3",
   "language": "python",
   "name": "python3"
  },
  "language_info": {
   "codemirror_mode": {
    "name": "ipython",
    "version": 3
   },
   "file_extension": ".py",
   "mimetype": "text/x-python",
   "name": "python",
   "nbconvert_exporter": "python",
   "pygments_lexer": "ipython3",
   "version": "3.8.5"
  }
 },
 "nbformat": 4,
 "nbformat_minor": 4
}
