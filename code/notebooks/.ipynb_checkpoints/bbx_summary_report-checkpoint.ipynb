{
 "cells": [
  {
   "cell_type": "code",
   "execution_count": 31,
   "metadata": {},
   "outputs": [],
   "source": [
    "import os, glob\n",
    "import pandas as pd\n",
    "\n",
    "pd.set_option('display.max_rows', None)\n",
    "pd.set_option('display.max_columns', None)"
   ]
  },
  {
   "cell_type": "markdown",
   "metadata": {},
   "source": [
    "# BBX Summary Report \n"
   ]
  },
  {
   "cell_type": "markdown",
   "metadata": {},
   "source": [
    "**Load Data**  \n",
    "\n",
    "---"
   ]
  },
  {
   "cell_type": "code",
   "execution_count": 32,
   "metadata": {},
   "outputs": [],
   "source": [
    "bids_excel_path='C:\\\\Users\\\\19802\\\\Documents\\\\nibl\\\\bbx\\\\data\\\\xlsx\\\\bbx_bids.xlsx'"
   ]
  },
  {
   "cell_type": "code",
   "execution_count": 41,
   "metadata": {},
   "outputs": [],
   "source": [
    "bids_s1_df=pd.read_excel(bids_excel_path, sheet_name=\"session-1\" )\n",
    "bids_s1_df = bids_s1_df.rename({'Unnamed: 0': 'patID'}, axis=1)\n",
    "bids_s2_df=pd.read_excel(bids_excel_path, sheet_name=\"session-2\" )\n",
    "bids_s2_df = bids_s2_df.rename({'Unnamed: 0': 'patID'}, axis=1)"
   ]
  },
  {
   "cell_type": "markdown",
   "metadata": {},
   "source": [
    "**Filter Data**  \n",
    "\n",
    "---"
   ]
  },
  {
   "cell_type": "markdown",
   "metadata": {},
   "source": [
    "**Subjects with 4 training runs available**"
   ]
  },
  {
   "cell_type": "code",
   "execution_count": 62,
   "metadata": {},
   "outputs": [
    {
     "name": "stdout",
     "output_type": "stream",
     "text": [
      "\n",
      "[INFO] 144 subjects from ses-1 have 4 training run files. \n",
      " ['sub-001' 'sub-002' 'sub-003' 'sub-004' 'sub-005' 'sub-006' 'sub-007'\n",
      " 'sub-008' 'sub-009' 'sub-010' 'sub-011' 'sub-012' 'sub-013' 'sub-014'\n",
      " 'sub-015' 'sub-016' 'sub-017' 'sub-018' 'sub-019' 'sub-020' 'sub-021'\n",
      " 'sub-022' 'sub-023' 'sub-024' 'sub-025' 'sub-026' 'sub-027' 'sub-028'\n",
      " 'sub-030' 'sub-031' 'sub-032' 'sub-033' 'sub-034' 'sub-035' 'sub-036'\n",
      " 'sub-037' 'sub-038' 'sub-039' 'sub-040' 'sub-041' 'sub-042' 'sub-043'\n",
      " 'sub-044' 'sub-045' 'sub-046' 'sub-050' 'sub-051' 'sub-052' 'sub-053'\n",
      " 'sub-054' 'sub-055' 'sub-056' 'sub-058' 'sub-059' 'sub-061' 'sub-062'\n",
      " 'sub-063' 'sub-064' 'sub-065' 'sub-066' 'sub-067' 'sub-068' 'sub-070'\n",
      " 'sub-071' 'sub-072' 'sub-074' 'sub-075' 'sub-077' 'sub-078' 'sub-079'\n",
      " 'sub-080' 'sub-082' 'sub-083' 'sub-084' 'sub-085' 'sub-086' 'sub-087'\n",
      " 'sub-088' 'sub-089' 'sub-090' 'sub-091' 'sub-092' 'sub-093' 'sub-095'\n",
      " 'sub-096' 'sub-097' 'sub-098' 'sub-099' 'sub-100' 'sub-102' 'sub-103'\n",
      " 'sub-104' 'sub-107' 'sub-108' 'sub-109' 'sub-111' 'sub-112' 'sub-114'\n",
      " 'sub-115' 'sub-116' 'sub-117' 'sub-118' 'sub-119' 'sub-120' 'sub-121'\n",
      " 'sub-123' 'sub-124' 'sub-127' 'sub-128' 'sub-129' 'sub-130' 'sub-131'\n",
      " 'sub-132' 'sub-133' 'sub-134' 'sub-135' 'sub-136' 'sub-137' 'sub-138'\n",
      " 'sub-140' 'sub-141' 'sub-142' 'sub-143' 'sub-144' 'sub-145' 'sub-148'\n",
      " 'sub-149' 'sub-150' 'sub-151' 'sub-152' 'sub-153' 'sub-154' 'sub-156'\n",
      " 'sub-157' 'sub-159' 'sub-160' 'sub-162' 'sub-163' 'sub-164' 'sub-166'\n",
      " 'sub-167' 'sub-168' 'sub-169' 'sub-170']\n",
      "\n",
      "\n",
      "[INFO] 134 subjects from ses-2 have 4 training run files. \n",
      " ['sub-001' 'sub-002' 'sub-004' 'sub-005' 'sub-006' 'sub-007' 'sub-008'\n",
      " 'sub-009' 'sub-010' 'sub-014' 'sub-015' 'sub-017' 'sub-019' 'sub-020'\n",
      " 'sub-021' 'sub-022' 'sub-023' 'sub-024' 'sub-025' 'sub-027' 'sub-028'\n",
      " 'sub-030' 'sub-031' 'sub-032' 'sub-033' 'sub-034' 'sub-035' 'sub-036'\n",
      " 'sub-037' 'sub-038' 'sub-039' 'sub-040' 'sub-041' 'sub-042' 'sub-043'\n",
      " 'sub-044' 'sub-045' 'sub-046' 'sub-048' 'sub-050' 'sub-051' 'sub-052'\n",
      " 'sub-053' 'sub-054' 'sub-055' 'sub-059' 'sub-061' 'sub-062' 'sub-063'\n",
      " 'sub-065' 'sub-066' 'sub-067' 'sub-068' 'sub-070' 'sub-071' 'sub-072'\n",
      " 'sub-073' 'sub-074' 'sub-075' 'sub-077' 'sub-078' 'sub-079' 'sub-080'\n",
      " 'sub-082' 'sub-083' 'sub-084' 'sub-085' 'sub-086' 'sub-087' 'sub-088'\n",
      " 'sub-089' 'sub-090' 'sub-092' 'sub-093' 'sub-094' 'sub-095' 'sub-096'\n",
      " 'sub-097' 'sub-098' 'sub-099' 'sub-100' 'sub-102' 'sub-103' 'sub-104'\n",
      " 'sub-107' 'sub-108' 'sub-109' 'sub-111' 'sub-112' 'sub-114' 'sub-115'\n",
      " 'sub-116' 'sub-117' 'sub-118' 'sub-119' 'sub-120' 'sub-121' 'sub-123'\n",
      " 'sub-124' 'sub-127' 'sub-128' 'sub-129' 'sub-130' 'sub-131' 'sub-132'\n",
      " 'sub-133' 'sub-134' 'sub-136' 'sub-137' 'sub-140' 'sub-141' 'sub-142'\n",
      " 'sub-143' 'sub-144' 'sub-145' 'sub-146' 'sub-148' 'sub-149' 'sub-151'\n",
      " 'sub-152' 'sub-153' 'sub-154' 'sub-156' 'sub-157' 'sub-159' 'sub-160'\n",
      " 'sub-161' 'sub-162' 'sub-163' 'sub-164' 'sub-166' 'sub-168' 'sub-169'\n",
      " 'sub-170'] \n",
      "\n"
     ]
    }
   ],
   "source": [
    "print('\\n[INFO] %s subjects from %s have 4 training run files. \\n %s'%(len(bids_s1_df.loc[bids_s1_df['train_file_ct'] == 4]), \n",
    "                                                               'ses-1', \n",
    "                                                                bids_s1_df.loc[bids_s1_df['train_file_ct'] == 4]['patID'].values  \n",
    "                                                                ))\n",
    "\n",
    "\n",
    "print('\\n\\n[INFO] %s subjects from %s have 4 training run files. \\n %s \\n'%(len(bids_s2_df.loc[bids_s2_df['train_file_ct'] == 4]), \n",
    "                                                               'ses-2', \n",
    "                                                                bids_s2_df.loc[bids_s2_df['train_file_ct'] == 4]['patID'].values  \n",
    "                                                                ))\n",
    "\n"
   ]
  },
  {
   "cell_type": "markdown",
   "metadata": {},
   "source": [
    "**Subjects with 3 runs**"
   ]
  },
  {
   "cell_type": "code",
   "execution_count": 61,
   "metadata": {},
   "outputs": [
    {
     "name": "stdout",
     "output_type": "stream",
     "text": [
      "\n",
      "[INFO] 5 subjects from ses-1 have 3 training run files. \n",
      " ['sub-048' 'sub-073' 'sub-076' 'sub-146' 'sub-147']\n",
      "\n",
      "\n",
      "[INFO] 1 subjects from ses-2 have 3 training run files. \n",
      " ['sub-058'] \n",
      "\n"
     ]
    }
   ],
   "source": [
    "print('\\n[INFO] %s subjects from %s have 3 training run files. \\n %s'%(len(bids_s1_df.loc[bids_s1_df['train_file_ct'] == 3]), \n",
    "                                                               'ses-1', \n",
    "                                                                bids_s1_df.loc[bids_s1_df['train_file_ct'] == 3]['patID'].values  \n",
    "                                                                ))\n",
    "\n",
    "print('\\n\\n[INFO] %s subjects from %s have 3 training run files. \\n %s \\n'%(len(bids_s2_df.loc[bids_s2_df['train_file_ct'] == 3]), \n",
    "                                                               'ses-2', \n",
    "                                                                bids_s2_df.loc[bids_s2_df['train_file_ct'] == 3]['patID'].values  \n",
    "                                                                ))\n"
   ]
  },
  {
   "cell_type": "markdown",
   "metadata": {},
   "source": [
    "**Subjects with 2 runs**"
   ]
  },
  {
   "cell_type": "code",
   "execution_count": 60,
   "metadata": {},
   "outputs": [
    {
     "name": "stdout",
     "output_type": "stream",
     "text": [
      "\n",
      "[INFO] 1 subjects from ses-1 have 2 training run files. \n",
      " ['sub-060']\n",
      "\n",
      "\n",
      "[INFO] 3 subjects from ses-2 have 2 training run files. \n",
      " ['sub-011' 'sub-013' 'sub-016'] \n",
      "\n"
     ]
    }
   ],
   "source": [
    "print('\\n[INFO] %s subjects from %s have 2 training run files. \\n %s'%(len(bids_s1_df.loc[bids_s1_df['train_file_ct'] == 2]), \n",
    "                                                               'ses-1', \n",
    "                                                                bids_s1_df.loc[bids_s1_df['train_file_ct'] == 2]['patID'].values  \n",
    "                                                                ))\n",
    "\n",
    "print('\\n\\n[INFO] %s subjects from %s have 2 training run files. \\n %s \\n'%(len(bids_s2_df.loc[bids_s2_df['train_file_ct'] == 2]), \n",
    "                                                               'ses-2', \n",
    "                                                                bids_s2_df.loc[bids_s2_df['train_file_ct'] == 2]['patID'].values  \n",
    "                                                                ))\n"
   ]
  },
  {
   "cell_type": "markdown",
   "metadata": {},
   "source": [
    "---"
   ]
  }
 ],
 "metadata": {
  "kernelspec": {
   "display_name": "Python 3",
   "language": "python",
   "name": "python3"
  },
  "language_info": {
   "codemirror_mode": {
    "name": "ipython",
    "version": 3
   },
   "file_extension": ".py",
   "mimetype": "text/x-python",
   "name": "python",
   "nbconvert_exporter": "python",
   "pygments_lexer": "ipython3",
   "version": "3.8.5"
  }
 },
 "nbformat": 4,
 "nbformat_minor": 4
}
