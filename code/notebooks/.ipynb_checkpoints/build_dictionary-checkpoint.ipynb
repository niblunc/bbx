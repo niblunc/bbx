{
 "cells": [
  {
   "cell_type": "code",
   "execution_count": 6,
   "metadata": {},
   "outputs": [],
   "source": [
    "import os, glob\n",
    "import sys\n",
    "import pandas as pd\n",
    "\n",
    "from IPython.display import display"
   ]
  },
  {
   "cell_type": "code",
   "execution_count": 9,
   "metadata": {},
   "outputs": [],
   "source": [
    "sys.path.append(\"/Users/nikkibytes/Documents/git_nibl/bbx/data/code/\")"
   ]
  },
  {
   "cell_type": "code",
   "execution_count": 10,
   "metadata": {},
   "outputs": [],
   "source": [
    "import data_dict"
   ]
  },
  {
   "cell_type": "markdown",
   "metadata": {},
   "source": [
    "# Building the BBX Data Dictionary \n",
    "\n",
    "## TOC:\n",
    "* [Load Your Data](#dataload)\n",
    "* [](#)\n",
    "\n"
   ]
  },
  {
   "cell_type": "markdown",
   "metadata": {},
   "source": [
    "## Load Your Data <a class=\"anchor\" id=\"dataload\"></a>"
   ]
  },
  {
   "cell_type": "code",
   "execution_count": 41,
   "metadata": {},
   "outputs": [
    {
     "name": "stdout",
     "output_type": "stream",
     "text": [
      "[INFO] raw behavioral data files founds: ['/Users/nikkibytes/Documents/git_nibl/bbx/data/behavioral/data_dict/bbx_w1behav_raw_09242020.csv'] \n",
      "[INFO] clean behavioral data files found: ['/Users/nikkibytes/Documents/git_nibl/bbx/data/behavioral/data_dict/bbx_w1behav_cleandata_082819.xlsx']\n"
     ]
    }
   ],
   "source": [
    "# Set data paths\n",
    "data_path ='/Users/nikkibytes/Documents/git_nibl/bbx/data/behavioral/data_dict'\n",
    "\n",
    "\n",
    "# Grab list of behavioral files found in the data bath (raw and clean data)\n",
    "raw_behaviorals=glob.glob(os.path.join(data_path, \"bbx_w1behav_raw_09242020.csv\"))\n",
    "clean_behaviorals= glob.glob(os.path.join(data_path,  \"bbx_w1behav_cleandata_*.xlsx\"))\n",
    "\n",
    "# Print the filepaths found\n",
    "print(\"[INFO] raw behavioral data files founds: %s \\\n",
    "\\n[INFO] clean behavioral data files found: %s\"%(raw_behaviorals, clean_behaviorals))\n",
    "                                                                                                    \n",
    "    \n",
    "    "
   ]
  },
  {
   "cell_type": "code",
   "execution_count": 43,
   "metadata": {},
   "outputs": [],
   "source": [
    "# Load behavioral data\n",
    "s1_raw_behav=pd.read_csv(raw_behaviorals[0])\n",
    "s1_clean_behav=pd.read_excel(clean_behaviorals[0])\n"
   ]
  },
  {
   "cell_type": "code",
   "execution_count": 34,
   "metadata": {},
   "outputs": [],
   "source": [
    "# Build dataframes from data_dictionary file, \n",
    "# scoring and conversion information found in these files\n",
    "measures_df = pd.read_excel(os.path.join(data_path,'bbx_datadictionary.xlsx' ), sep='\\t', sheet_name=\"bbx_codebook\")\n",
    "var_score_df = pd.read_excel(os.path.join(data_path, 'bbx_datadictionary.xlsx'),  sep='\\t', sheet_name=\"scoring\")\n",
    "var_df = pd.read_excel(os.path.join(data_path,'bbx_datadictionary.xlsx' ), sep='\\t', sheet_name=\"bbx_cbookfmt\")\n"
   ]
  },
  {
   "cell_type": "markdown",
   "metadata": {},
   "source": [
    "**View Dataframes:**"
   ]
  },
  {
   "cell_type": "code",
   "execution_count": 36,
   "metadata": {},
   "outputs": [
    {
     "data": {
      "text/html": [
       "<div>\n",
       "<style scoped>\n",
       "    .dataframe tbody tr th:only-of-type {\n",
       "        vertical-align: middle;\n",
       "    }\n",
       "\n",
       "    .dataframe tbody tr th {\n",
       "        vertical-align: top;\n",
       "    }\n",
       "\n",
       "    .dataframe thead th {\n",
       "        text-align: right;\n",
       "    }\n",
       "</style>\n",
       "<table border=\"1\" class=\"dataframe\">\n",
       "  <thead>\n",
       "    <tr style=\"text-align: right;\">\n",
       "      <th></th>\n",
       "      <th>NAME</th>\n",
       "      <th>LENGTH</th>\n",
       "      <th>LABEL</th>\n",
       "      <th>vartype</th>\n",
       "      <th>unit</th>\n",
       "      <th>n</th>\n",
       "      <th>nmiss</th>\n",
       "      <th>mean</th>\n",
       "      <th>std</th>\n",
       "      <th>min</th>\n",
       "      <th>max</th>\n",
       "      <th>outlier ID</th>\n",
       "    </tr>\n",
       "  </thead>\n",
       "  <tbody>\n",
       "    <tr>\n",
       "      <th>0</th>\n",
       "      <td>participantID</td>\n",
       "      <td>NaN</td>\n",
       "      <td>Participant ID</td>\n",
       "      <td>char</td>\n",
       "      <td>NaN</td>\n",
       "      <td>132.0</td>\n",
       "      <td>0.0</td>\n",
       "      <td>NaN</td>\n",
       "      <td>NaN</td>\n",
       "      <td>NaN</td>\n",
       "      <td>NaN</td>\n",
       "      <td>NaN</td>\n",
       "    </tr>\n",
       "    <tr>\n",
       "      <th>1</th>\n",
       "      <td>w1behav_date</td>\n",
       "      <td>NaN</td>\n",
       "      <td>Recorded Date</td>\n",
       "      <td>num</td>\n",
       "      <td>MM/DD/YY</td>\n",
       "      <td>132.0</td>\n",
       "      <td>0.0</td>\n",
       "      <td>NaN</td>\n",
       "      <td>NaN</td>\n",
       "      <td>NaN</td>\n",
       "      <td>NaN</td>\n",
       "      <td>NaN</td>\n",
       "    </tr>\n",
       "    <tr>\n",
       "      <th>2</th>\n",
       "      <td>w1behav_height_1</td>\n",
       "      <td>NaN</td>\n",
       "      <td>Height (cm)</td>\n",
       "      <td>num</td>\n",
       "      <td>cm</td>\n",
       "      <td>132.0</td>\n",
       "      <td>0.0</td>\n",
       "      <td>168.315152</td>\n",
       "      <td>8.922745</td>\n",
       "      <td>150.0</td>\n",
       "      <td>189.5</td>\n",
       "      <td>NaN</td>\n",
       "    </tr>\n",
       "    <tr>\n",
       "      <th>3</th>\n",
       "      <td>w1behav_weight_1</td>\n",
       "      <td>NaN</td>\n",
       "      <td>Weight (kg)</td>\n",
       "      <td>num</td>\n",
       "      <td>kg</td>\n",
       "      <td>132.0</td>\n",
       "      <td>0.0</td>\n",
       "      <td>66.220455</td>\n",
       "      <td>11.826421</td>\n",
       "      <td>47.5</td>\n",
       "      <td>115.7</td>\n",
       "      <td>NaN</td>\n",
       "    </tr>\n",
       "    <tr>\n",
       "      <th>4</th>\n",
       "      <td>w1behav_bmi</td>\n",
       "      <td>NaN</td>\n",
       "      <td>BMI (kg/m^2)</td>\n",
       "      <td>num</td>\n",
       "      <td>kg/m^2</td>\n",
       "      <td>132.0</td>\n",
       "      <td>0.0</td>\n",
       "      <td>23.109034</td>\n",
       "      <td>3.104824</td>\n",
       "      <td>18.1</td>\n",
       "      <td>34.6</td>\n",
       "      <td>NaN</td>\n",
       "    </tr>\n",
       "  </tbody>\n",
       "</table>\n",
       "</div>"
      ],
      "text/plain": [
       "               NAME  LENGTH           LABEL vartype      unit      n  nmiss  \\\n",
       "0     participantID     NaN  Participant ID    char       NaN  132.0    0.0   \n",
       "1      w1behav_date     NaN   Recorded Date     num  MM/DD/YY  132.0    0.0   \n",
       "2  w1behav_height_1     NaN     Height (cm)     num        cm  132.0    0.0   \n",
       "3  w1behav_weight_1     NaN     Weight (kg)     num        kg  132.0    0.0   \n",
       "4       w1behav_bmi     NaN    BMI (kg/m^2)     num    kg/m^2  132.0    0.0   \n",
       "\n",
       "         mean        std    min    max  outlier ID  \n",
       "0         NaN        NaN    NaN    NaN         NaN  \n",
       "1         NaN        NaN    NaN    NaN         NaN  \n",
       "2  168.315152   8.922745  150.0  189.5         NaN  \n",
       "3   66.220455  11.826421   47.5  115.7         NaN  \n",
       "4   23.109034   3.104824   18.1   34.6         NaN  "
      ]
     },
     "metadata": {},
     "output_type": "display_data"
    },
    {
     "data": {
      "text/html": [
       "<div>\n",
       "<style scoped>\n",
       "    .dataframe tbody tr th:only-of-type {\n",
       "        vertical-align: middle;\n",
       "    }\n",
       "\n",
       "    .dataframe tbody tr th {\n",
       "        vertical-align: top;\n",
       "    }\n",
       "\n",
       "    .dataframe thead th {\n",
       "        text-align: right;\n",
       "    }\n",
       "</style>\n",
       "<table border=\"1\" class=\"dataframe\">\n",
       "  <thead>\n",
       "    <tr style=\"text-align: right;\">\n",
       "      <th></th>\n",
       "      <th>Variable Name</th>\n",
       "      <th>Range</th>\n",
       "      <th>Format Label</th>\n",
       "    </tr>\n",
       "  </thead>\n",
       "  <tbody>\n",
       "    <tr>\n",
       "      <th>0</th>\n",
       "      <td>w1behav_ethnicity</td>\n",
       "      <td>0</td>\n",
       "      <td>0 = Non-Hispanic or Latino</td>\n",
       "    </tr>\n",
       "    <tr>\n",
       "      <th>1</th>\n",
       "      <td>NaN</td>\n",
       "      <td>1</td>\n",
       "      <td>1= Hispanic or Latino</td>\n",
       "    </tr>\n",
       "    <tr>\n",
       "      <th>2</th>\n",
       "      <td>w1behav_race</td>\n",
       "      <td>1</td>\n",
       "      <td>1 = White</td>\n",
       "    </tr>\n",
       "    <tr>\n",
       "      <th>3</th>\n",
       "      <td>NaN</td>\n",
       "      <td>2</td>\n",
       "      <td>2 = Black or African American</td>\n",
       "    </tr>\n",
       "    <tr>\n",
       "      <th>4</th>\n",
       "      <td>NaN</td>\n",
       "      <td>3</td>\n",
       "      <td>3 = Asian</td>\n",
       "    </tr>\n",
       "  </tbody>\n",
       "</table>\n",
       "</div>"
      ],
      "text/plain": [
       "       Variable Name Range                   Format Label\n",
       "0  w1behav_ethnicity     0     0 = Non-Hispanic or Latino\n",
       "1                NaN     1          1= Hispanic or Latino\n",
       "2       w1behav_race     1                      1 = White\n",
       "3                NaN     2  2 = Black or African American\n",
       "4                NaN     3                      3 = Asian"
      ]
     },
     "metadata": {},
     "output_type": "display_data"
    },
    {
     "data": {
      "text/html": [
       "<div>\n",
       "<style scoped>\n",
       "    .dataframe tbody tr th:only-of-type {\n",
       "        vertical-align: middle;\n",
       "    }\n",
       "\n",
       "    .dataframe tbody tr th {\n",
       "        vertical-align: top;\n",
       "    }\n",
       "\n",
       "    .dataframe thead th {\n",
       "        text-align: right;\n",
       "    }\n",
       "</style>\n",
       "<table border=\"1\" class=\"dataframe\">\n",
       "  <thead>\n",
       "    <tr style=\"text-align: right;\">\n",
       "      <th></th>\n",
       "      <th>Set</th>\n",
       "      <th>Output</th>\n",
       "      <th>Calculation</th>\n",
       "      <th>Description</th>\n",
       "      <th>Notes</th>\n",
       "    </tr>\n",
       "  </thead>\n",
       "  <tbody>\n",
       "    <tr>\n",
       "      <th>0</th>\n",
       "      <td>FFQ</td>\n",
       "      <td>w1ffq##_kcal</td>\n",
       "      <td>w1behav_ffq## * kcal_ffq##</td>\n",
       "      <td>Total kcal consumed for each food variable</td>\n",
       "      <td>kcal_ffq## comes from FFQ excel sheet</td>\n",
       "    </tr>\n",
       "    <tr>\n",
       "      <th>1</th>\n",
       "      <td>FFQ</td>\n",
       "      <td>w1ffq_avgkcal</td>\n",
       "      <td>SUM(w1ffq##_kcal) / 14</td>\n",
       "      <td>Average kcal consumed each day for the reporte...</td>\n",
       "      <td>NaN</td>\n",
       "    </tr>\n",
       "    <tr>\n",
       "      <th>2</th>\n",
       "      <td>FFQ</td>\n",
       "      <td>w1ffq##_gfat</td>\n",
       "      <td>w1behav_ffq## * fat_ffq##</td>\n",
       "      <td>Total fat grams consumed for each food variable</td>\n",
       "      <td>fat_ffq## comes from FFQ excel sheet</td>\n",
       "    </tr>\n",
       "    <tr>\n",
       "      <th>3</th>\n",
       "      <td>FFQ</td>\n",
       "      <td>w1ffq##_fatkcal</td>\n",
       "      <td>SUM(w1ffq##_gfat) * 9</td>\n",
       "      <td>Total kcal derived from fat consumed for each ...</td>\n",
       "      <td>NaN</td>\n",
       "    </tr>\n",
       "    <tr>\n",
       "      <th>4</th>\n",
       "      <td>FFQ</td>\n",
       "      <td>w1ffq_pctfat</td>\n",
       "      <td>SUM(w1ffq##_fatkcal)/SUM(w1ffq##_kcal)*100</td>\n",
       "      <td>Percent of total kcal derived from fat</td>\n",
       "      <td>NaN</td>\n",
       "    </tr>\n",
       "  </tbody>\n",
       "</table>\n",
       "</div>"
      ],
      "text/plain": [
       "   Set           Output                                 Calculation  \\\n",
       "0  FFQ     w1ffq##_kcal                  w1behav_ffq## * kcal_ffq##   \n",
       "1  FFQ    w1ffq_avgkcal                      SUM(w1ffq##_kcal) / 14   \n",
       "2  FFQ     w1ffq##_gfat                   w1behav_ffq## * fat_ffq##   \n",
       "3  FFQ  w1ffq##_fatkcal                       SUM(w1ffq##_gfat) * 9   \n",
       "4  FFQ     w1ffq_pctfat  SUM(w1ffq##_fatkcal)/SUM(w1ffq##_kcal)*100   \n",
       "\n",
       "                                         Description  \\\n",
       "0         Total kcal consumed for each food variable   \n",
       "1  Average kcal consumed each day for the reporte...   \n",
       "2    Total fat grams consumed for each food variable   \n",
       "3  Total kcal derived from fat consumed for each ...   \n",
       "4             Percent of total kcal derived from fat   \n",
       "\n",
       "                                   Notes  \n",
       "0  kcal_ffq## comes from FFQ excel sheet  \n",
       "1                                    NaN  \n",
       "2   fat_ffq## comes from FFQ excel sheet  \n",
       "3                                    NaN  \n",
       "4                                    NaN  "
      ]
     },
     "metadata": {},
     "output_type": "display_data"
    }
   ],
   "source": [
    "display(measures_df.head())\n",
    "display(var_df.head())\n",
    "display(var_score_df.head())"
   ]
  },
  {
   "cell_type": "markdown",
   "metadata": {},
   "source": [
    "## Data Cleaning <a anchor='class' id=\"dataclean\"></a>"
   ]
  },
  {
   "cell_type": "markdown",
   "metadata": {},
   "source": [
    "* dropping excess rows  \n",
    "* dropping excess columns \n",
    "* separate into multiple dfs for variable calculation  \n",
    "\n",
    "Note-\n",
    "* need to possibly remove or edit missing values (i.e NaN)  \n",
    "* need to properly marked sub ID"
   ]
  },
  {
   "cell_type": "code",
   "execution_count": 37,
   "metadata": {},
   "outputs": [
    {
     "data": {
      "text/plain": [
       "['/Users/nikkibytes/Documents/git_nibl/bbx/data/behavioral/data_dict/bbx_w1behav_raw_09242020.csv']"
      ]
     },
     "execution_count": 37,
     "metadata": {},
     "output_type": "execute_result"
    }
   ],
   "source": [
    "# get session 1 raw behavioral file\n"
   ]
  },
  {
   "cell_type": "code",
   "execution_count": null,
   "metadata": {},
   "outputs": [],
   "source": [
    "\n",
    "# get rid of leading, irrelevant rows  \n",
    "# run ONLY ONCE\n",
    "behav_df.drop([0,1,2,3,4,5,6], inplace=True)\n",
    "\n"
   ]
  }
 ],
 "metadata": {
  "kernelspec": {
   "display_name": "Python 3",
   "language": "python",
   "name": "python3"
  },
  "language_info": {
   "codemirror_mode": {
    "name": "ipython",
    "version": 3
   },
   "file_extension": ".py",
   "mimetype": "text/x-python",
   "name": "python",
   "nbconvert_exporter": "python",
   "pygments_lexer": "ipython3",
   "version": "3.7.4"
  },
  "widgets": {
   "application/vnd.jupyter.widget-state+json": {
    "state": {},
    "version_major": 2,
    "version_minor": 0
   }
  }
 },
 "nbformat": 4,
 "nbformat_minor": 4
}
